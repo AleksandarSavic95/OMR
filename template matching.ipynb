{
 "cells": [
  {
   "cell_type": "code",
   "execution_count": 1,
   "metadata": {
    "collapsed": true
   },
   "outputs": [],
   "source": [
    "import matplotlib.pyplot as plt  \n",
    "# iscrtavanje slika i plotova unutar samog browsera\n",
    "%matplotlib inline \n",
    "\n",
    "import matplotlib.pylab as pylab\n",
    "# prikaz vecih slika \n",
    "pylab.rcParams['figure.figsize'] = 24,24\n",
    "\n",
    "import cv2\n",
    "import numpy as np"
   ]
  },
  {
   "cell_type": "code",
   "execution_count": 2,
   "metadata": {
    "collapsed": true
   },
   "outputs": [],
   "source": [
    "def add_template(templates_dict, point, search_duplicates_points = 7, print_info = False):\n",
    "    '''Add the template if a template with the x and y around the certain point has NOT been added to the dictionary.'''\n",
    "    for i in range(0,search_duplicates_points):\n",
    "        if (templates_dict.has_key(point[0] + i)):\n",
    "            for j in range(0,search_duplicates_points):\n",
    "                if (templates_dict[point[0] + i] == point[1] + j):\n",
    "                    if print_info:\n",
    "                        print point[0], 'already here'\n",
    "                    return False\n",
    "                if (templates_dict[point[0] + i] == point[1] - j):\n",
    "                    if print_info:\n",
    "                        print point[0], 'already here'\n",
    "                    return False\n",
    "        if (templates_dict.has_key(point[0] - i)):\n",
    "            for j in range(0,search_duplicates_points):\n",
    "                if (templates_dict[point[0] - i] == point[1] + j):\n",
    "                    if print_info:\n",
    "                        print point[0], 'already here'\n",
    "                    return False\n",
    "                if (templates_dict[point[0] - i] == point[1] - j):\n",
    "                    if print_info:\n",
    "                        print point[0], 'already here'\n",
    "                    return False\n",
    "    \n",
    "    templates_dict[point[0]] = point[1] # add the template\n",
    "    if print_info:\n",
    "        print point[0], 'added successfully with y = ', point[1]\n",
    "    return True"
   ]
  },
  {
   "cell_type": "markdown",
   "metadata": {},
   "source": [
    "# Images, constants and dictionaries definition"
   ]
  },
  {
   "cell_type": "code",
   "execution_count": 3,
   "metadata": {
    "collapsed": true
   },
   "outputs": [],
   "source": [
    "img_stems = cv2.imread('../slike/nove/Composicion_dodecafonica.jpg',0)\n",
    "img_heads = cv2.imread('../slike/nove/Composicion_dodecafonica.jpg',0)\n",
    "img_heads_plot = cv2.imread('../slike/nove/Composicion_dodecafonica.jpg')\n",
    "\n",
    "total_full_heads = 32\n",
    "total_HALF_heads = 12\n",
    "\n",
    "single_templates_dict = {\n",
    "    'full_heads':{}, 'half_heads': {}, 'whole_heads': {},\n",
    "    'eight_stems_up': {},'eight_stems_down': {},\n",
    "    'sixteen_stems_up': {}, 'sixteen_stems_down': {},\n",
    "    'eight_hooks_up_start': {}, 'eight_hooks_up_end': {},\n",
    "    'eight_hooks_down_start': {}, 'eight_hooks_down_end': {},\n",
    "    'quarter_breaks': {}, 'half_breaks': {}, 'whole_breaks': {},\n",
    "    'dot': {}\n",
    "    }\n",
    "threshold = 0.8"
   ]
  },
  {
   "cell_type": "code",
   "execution_count": 4,
   "metadata": {
    "collapsed": true
   },
   "outputs": [],
   "source": [
    "def note_has_dot(note_x, note_y, note_type):\n",
    "    '''Returns true if note has it's duration lenghtened by a dot.'''\n",
    "    if (all_dots_dict[note_type].has_key(note_x)):\n",
    "        if (all_dots_dict[note_type][note_x] == note_y):\n",
    "            return True\n",
    "    return False"
   ]
  },
  {
   "cell_type": "code",
   "execution_count": 5,
   "metadata": {
    "collapsed": true
   },
   "outputs": [],
   "source": [
    "# dictionary contains all note heads with assigned stems\n",
    "all_notes_dict = {'wholes': {}, 'halves_up': {}, 'halves_down': {}, 'quarters_up': {}, 'quarters_down': {},\n",
    "                  'eights_up': {}, 'eights_down': {}, 'sixteens_up': {}, 'sixteens_down': {}}\n",
    "\n",
    "# dictionary contains all notes which have assigned dots\n",
    "all_dots_dict = {'wholes': {}, 'halves_up': {}, 'halves_down': {}, 'quarters_up': {}, 'quarters_down': {},\n",
    "                  'eights_up': {}, 'eights_down': {}, 'sixteens_up': {}, 'sixteens_down': {}}\n",
    "\n",
    "# dictionaries contain all notes which have assigned accidentals (flats and sharps)\n",
    "all_flats_dict = {'wholes': {}, 'halves_up': {}, 'halves_down': {}, 'quarters_up': {}, 'quarters_down': {},\n",
    "                  'eights_up': {}, 'eights_down': {}, 'sixteens_up': {}, 'sixteens_down': {}}\n",
    "\n",
    "all_sharps_dict = {'wholes': {}, 'halves_up': {}, 'halves_down': {}, 'quarters_up': {}, 'quarters_down': {},\n",
    "                  'eights_up': {}, 'eights_down': {}, 'sixteens_up': {}, 'sixteens_down': {}}\n",
    "\n",
    "all_hooks_dict = {'start': {}, 'end': {}}\n",
    "\n",
    "all_breaks_dict = {'wholes': {}, 'halves': {}, 'quarters': {}, 'eights': {}, 'sixteens': {}}"
   ]
  },
  {
   "cell_type": "code",
   "execution_count": 6,
   "metadata": {
    "collapsed": true
   },
   "outputs": [],
   "source": [
    "full_head_with_lines_down_template = cv2.imread('../slike/nove/templejti/glava-puna-sa-linijama-gore.jpg',0)\n",
    "full_head_template_w, full_head_template_h = full_head_with_lines_down_template.shape[::-1]\n",
    "\n",
    "eight_stem_down_template = cv2.imread('../slike/nove/templejti/osmina-dole.jpg',0)\n",
    "eight_stem_down_template_w, eight_stem_down_template_h = eight_stem_down_template.shape[::-1]\n",
    "\n",
    "eight_stem_up_template = cv2.imread('../slike/nove/templejti/osmina-gore.jpg',0)\n",
    "eight_stem_up_template_w, eight_stem_up_template_h = eight_stem_up_template.shape[::-1]\n",
    "\n",
    "sixteen_stem_template_w = 30\n",
    "sixteen_stem_template_h = 80\n",
    "\n",
    "quarter_break_template_w = 20\n",
    "quarter_break_template_h = 60"
   ]
  },
  {
   "cell_type": "markdown",
   "metadata": {},
   "source": [
    "# Full note heads"
   ]
  },
  {
   "cell_type": "code",
   "execution_count": 7,
   "metadata": {
    "collapsed": true
   },
   "outputs": [],
   "source": [
    "full_head_with_lines_down_template = cv2.imread('../slike/nove/templejti/glava-puna-dole.jpg',0)\n",
    "w, h = full_head_with_lines_down_template.shape[::-1]\n",
    "\n",
    "res = cv2.matchTemplate(img_heads, full_head_with_lines_down_template, cv2.TM_CCOEFF_NORMED)\n",
    "loc = np.where( res >= threshold)"
   ]
  },
  {
   "cell_type": "code",
   "execution_count": 8,
   "metadata": {
    "collapsed": true
   },
   "outputs": [],
   "source": [
    "for point in zip(*loc[::-1]):\n",
    "    add_template(single_templates_dict['full_heads'], point)\n",
    "    cv2.rectangle(img_heads, point, (point[0] + w, point[1] + h - 6), (255,255,255), 18)\n",
    "    cv2.rectangle(img_heads_plot, point, (point[0] + w, point[1] + h), (0,255,255), 5)"
   ]
  },
  {
   "cell_type": "code",
   "execution_count": 9,
   "metadata": {
    "collapsed": true
   },
   "outputs": [],
   "source": [
    "full_head_with_lines_up_template = cv2.imread('../slike/nove/templejti/glava-puna-gore.jpg',0)\n",
    "w, h = full_head_with_lines_up_template.shape[::-1]\n",
    "\n",
    "res = cv2.matchTemplate(img_heads, full_head_with_lines_up_template, cv2.TM_CCOEFF_NORMED)\n",
    "loc = np.where( res >= threshold)"
   ]
  },
  {
   "cell_type": "code",
   "execution_count": 10,
   "metadata": {
    "collapsed": true,
    "scrolled": true
   },
   "outputs": [],
   "source": [
    "for point in zip(*loc[::-1]):\n",
    "    add_template(single_templates_dict['full_heads'], point)\n",
    "    cv2.rectangle(img_heads, point, (point[0] + w, point[1] + h - 6), (255,255,255), 18)\n",
    "    cv2.rectangle(img_heads_plot, point, (point[0] + w*2, point[1] + 3), (255,0,0), 5)"
   ]
  },
  {
   "cell_type": "code",
   "execution_count": 11,
   "metadata": {
    "collapsed": true
   },
   "outputs": [],
   "source": [
    "full_head_up_template = cv2.imread('../slike/nove/templejti/glava-puna-sa-linijama-gore.jpg',0)\n",
    "w, h = full_head_up_template.shape[::-1]\n",
    "\n",
    "res = cv2.matchTemplate(img_heads, full_head_up_template, cv2.TM_CCOEFF_NORMED)\n",
    "loc = np.where( res >= threshold)"
   ]
  },
  {
   "cell_type": "code",
   "execution_count": 12,
   "metadata": {
    "collapsed": true
   },
   "outputs": [],
   "source": [
    "for point in zip(*loc[::-1]):\n",
    "    add_template(single_templates_dict['full_heads'], point)\n",
    "    cv2.rectangle(img_heads, point, (point[0] + w, point[1] + h - 6), (255,255,255), 18)\n",
    "    cv2.circle(img_heads_plot, point, 15, (0,255,0), 5)"
   ]
  },
  {
   "cell_type": "code",
   "execution_count": 13,
   "metadata": {
    "collapsed": true
   },
   "outputs": [],
   "source": [
    "full_head_down_template = cv2.imread('../slike/nove/templejti/glava-puna-sa-linijama-dole.jpg',0)\n",
    "w, h = full_head_down_template.shape[::-1]\n",
    "\n",
    "res = cv2.matchTemplate(img_heads, full_head_down_template, cv2.TM_CCOEFF_NORMED)\n",
    "loc = np.where( res >= threshold)"
   ]
  },
  {
   "cell_type": "code",
   "execution_count": 14,
   "metadata": {
    "collapsed": true,
    "scrolled": true
   },
   "outputs": [],
   "source": [
    "for point in zip(*loc[::-1]):\n",
    "    add_template(single_templates_dict['full_heads'], point)\n",
    "    cv2.rectangle(img_heads, point, (point[0] + w, point[1] + h - 6), (255,255,255), 18)\n",
    "    cv2.circle(img_heads_plot, point, 25, (255,0,255), 5)"
   ]
  },
  {
   "cell_type": "code",
   "execution_count": 15,
   "metadata": {},
   "outputs": [
    {
     "name": "stdout",
     "output_type": "stream",
     "text": [
      "found: 32\n",
      "total notes, for real: 32\n"
     ]
    }
   ],
   "source": [
    "print 'found:', len(single_templates_dict['full_heads'])\n",
    "print 'total notes, for real:', total_full_heads"
   ]
  },
  {
   "cell_type": "markdown",
   "metadata": {},
   "source": [
    "# Half note heads"
   ]
  },
  {
   "cell_type": "code",
   "execution_count": 16,
   "metadata": {
    "collapsed": true
   },
   "outputs": [],
   "source": [
    "threshold = 0.77\n",
    "img_halves_no_full_heads = img_heads.copy()\n",
    "img_halves_no_full_heads_plot = img_heads_plot.copy()\n",
    "single_templates_dict['half_heads'] = {}"
   ]
  },
  {
   "cell_type": "code",
   "execution_count": 17,
   "metadata": {
    "collapsed": true
   },
   "outputs": [],
   "source": [
    "half_head_down_template = cv2.imread('../slike/nove/templejti/polovina-gore.jpg',0)\n",
    "w, h = half_head_down_template.shape[::-1]\n",
    "\n",
    "res = cv2.matchTemplate(img_halves_no_full_heads, half_head_down_template, cv2.TM_CCOEFF_NORMED)\n",
    "loc = np.where( res >= threshold)"
   ]
  },
  {
   "cell_type": "code",
   "execution_count": 18,
   "metadata": {
    "collapsed": true
   },
   "outputs": [],
   "source": [
    "for point in zip(*loc[::-1]):\n",
    "    add_template(single_templates_dict['half_heads'], point)\n",
    "    cv2.rectangle(img_halves_no_full_heads, (point[0] + 11, point[1] + 9), (point[0] + w, point[1] + h - 7), (255,255,255), 20)\n",
    "    cv2.rectangle(img_halves_no_full_heads_plot, point, (point[0] + w * 2, point[1] + h * 2), (0,255,255), 5)"
   ]
  },
  {
   "cell_type": "code",
   "execution_count": 19,
   "metadata": {
    "collapsed": true
   },
   "outputs": [],
   "source": [
    "half_head_up_template = cv2.imread('../slike/nove/templejti/polovina-sa-linijama-gore.jpg',0)\n",
    "w, h = half_head_up_template.shape[::-1]\n",
    "\n",
    "res = cv2.matchTemplate(img_halves_no_full_heads, half_head_up_template, cv2.TM_CCOEFF_NORMED)\n",
    "loc = np.where( res >= 0.78)"
   ]
  },
  {
   "cell_type": "code",
   "execution_count": 20,
   "metadata": {
    "collapsed": true
   },
   "outputs": [],
   "source": [
    "for point in zip(*loc[::-1]):\n",
    "    add_template(single_templates_dict['half_heads'], point)\n",
    "    cv2.rectangle(img_halves_no_full_heads, (point[0] + 11, point[1] + 9), (point[0] + w, point[1] + h - 7), (255,255,255), 20)\n",
    "    cv2.rectangle(img_halves_no_full_heads_plot, point, (point[0] + w * 2, point[1] + h * 2), (0,255,255), 5)"
   ]
  },
  {
   "cell_type": "code",
   "execution_count": 21,
   "metadata": {
    "collapsed": true
   },
   "outputs": [],
   "source": [
    "half_head_up_2_template = cv2.imread('../slike/nove/templejti/polovina-gore-2.jpg',0)\n",
    "_ , half_head_up_2_template = cv2.threshold(half_head_up_2_template, 100, 255, cv2.THRESH_BINARY)\n",
    "w, h = half_head_up_2_template.shape[::-1]\n",
    "\n",
    "res = cv2.matchTemplate(img_halves_no_full_heads, half_head_up_2_template, cv2.TM_CCOEFF_NORMED)\n",
    "loc = np.where( res >= threshold)"
   ]
  },
  {
   "cell_type": "code",
   "execution_count": 22,
   "metadata": {
    "collapsed": true
   },
   "outputs": [],
   "source": [
    "for point in zip(*loc[::-1]):\n",
    "    add_template(single_templates_dict['half_heads'], point)\n",
    "    cv2.rectangle(img_halves_no_full_heads, (point[0] + 11, point[1] + 9), (point[0] + w, point[1] + h - 7), (255,255,255), 20)\n",
    "    cv2.rectangle(img_halves_no_full_heads_plot, point, (point[0] + w * 2, point[1] + h * 2), (0,255,255), 5)"
   ]
  },
  {
   "cell_type": "code",
   "execution_count": 23,
   "metadata": {
    "collapsed": true
   },
   "outputs": [],
   "source": [
    "half_head_up_2_template = cv2.imread('../slike/nove/templejti/polovina-na-liniji.jpg',0)\n",
    "_ , half_head_up_2_template = cv2.threshold(half_head_up_2_template, 100, 255, cv2.THRESH_BINARY)\n",
    "w, h = half_head_up_2_template.shape[::-1]\n",
    "\n",
    "res = cv2.matchTemplate(img_halves_no_full_heads, half_head_up_2_template, cv2.TM_CCOEFF_NORMED)\n",
    "loc = np.where( res >= threshold)"
   ]
  },
  {
   "cell_type": "code",
   "execution_count": 24,
   "metadata": {
    "collapsed": true
   },
   "outputs": [],
   "source": [
    "for point in zip(*loc[::-1]):\n",
    "    add_template(single_templates_dict['half_heads'], point)\n",
    "    cv2.rectangle(img_halves_no_full_heads, (point[0] + 11, point[1] + 9), (point[0] + w, point[1] + h - 7), (255,255,255), 20)\n",
    "    cv2.rectangle(img_halves_no_full_heads_plot, point, (point[0] + w * 2, point[1] + h * 2), (0,255,255), 5)"
   ]
  },
  {
   "cell_type": "code",
   "execution_count": 25,
   "metadata": {
    "collapsed": true
   },
   "outputs": [],
   "source": [
    "half_head_up_2_template = cv2.imread('../slike/nove/templejti/polovina-sa-linijama-dole.jpg',0)\n",
    "_ , half_head_up_2_template = cv2.threshold(half_head_up_2_template, 100, 255, cv2.THRESH_BINARY)\n",
    "w, h = half_head_up_2_template.shape[::-1]\n",
    "\n",
    "res = cv2.matchTemplate(img_halves_no_full_heads, half_head_up_2_template, cv2.TM_CCOEFF_NORMED)\n",
    "loc = np.where( res >= threshold)"
   ]
  },
  {
   "cell_type": "code",
   "execution_count": 26,
   "metadata": {
    "collapsed": true
   },
   "outputs": [],
   "source": [
    "for point in zip(*loc[::-1]):\n",
    "    add_template(single_templates_dict['half_heads'], point)\n",
    "    cv2.rectangle(img_halves_no_full_heads, (point[0] + 11, point[1] + 9), (point[0] + w, point[1] + h - 7), (255,255,255), 20)\n",
    "    cv2.rectangle(img_halves_no_full_heads_plot, point, (point[0] + w * 2, point[1] + h * 2), (0,255,255), 5)"
   ]
  },
  {
   "cell_type": "code",
   "execution_count": 27,
   "metadata": {},
   "outputs": [
    {
     "name": "stdout",
     "output_type": "stream",
     "text": [
      "{640: 850, 1636: 816, 1194: 529, 747: 822, 1900: 541, 1390: 558, 688: 531, 1746: 845, 1110: 561, 1815: 523, 1305: 529, 606: 549}\n",
      "12\n"
     ]
    }
   ],
   "source": [
    "print single_templates_dict['half_heads']\n",
    "print len(single_templates_dict['half_heads'])"
   ]
  },
  {
   "cell_type": "code",
   "execution_count": 28,
   "metadata": {
    "collapsed": true
   },
   "outputs": [],
   "source": [
    "all_notes_dict['halves_up'] = single_templates_dict['half_heads']"
   ]
  },
  {
   "cell_type": "markdown",
   "metadata": {},
   "source": [
    "# Whole note heads"
   ]
  },
  {
   "cell_type": "code",
   "execution_count": 29,
   "metadata": {
    "collapsed": true
   },
   "outputs": [],
   "source": [
    "threshold = 0.75\n",
    "img_wholes_no_other_heads = img_halves_no_full_heads.copy()\n",
    "img_wholes_no_other_heads_plot = img_halves_no_full_heads_plot.copy()\n",
    "single_templates_dict['whole_heads'] = {}"
   ]
  },
  {
   "cell_type": "code",
   "execution_count": 30,
   "metadata": {
    "collapsed": true
   },
   "outputs": [],
   "source": [
    "whole_head_down_template = cv2.imread('../slike/nove/templejti/cijela-1.jpg',0)\n",
    "w, h = whole_head_down_template.shape[::-1]\n",
    "\n",
    "res = cv2.matchTemplate(img_wholes_no_other_heads, whole_head_down_template, cv2.TM_CCOEFF_NORMED)\n",
    "loc = np.where( res >= threshold)"
   ]
  },
  {
   "cell_type": "code",
   "execution_count": 31,
   "metadata": {
    "collapsed": true
   },
   "outputs": [],
   "source": [
    "for point in zip(*loc[::-1]):\n",
    "    add_template(single_templates_dict['whole_heads'], point)\n",
    "    cv2.rectangle(img_wholes_no_other_heads, (point[0] + 11, point[1] + 9), (point[0] + w, point[1] + h - 7), (255,255,255), 20)\n",
    "    cv2.rectangle(img_wholes_no_other_heads_plot, point, (point[0] + w * 2, point[1] + h * 2), (0,255,255), 5)"
   ]
  },
  {
   "cell_type": "code",
   "execution_count": 32,
   "metadata": {
    "collapsed": true
   },
   "outputs": [],
   "source": [
    "whole_head_down_template = cv2.imread('../slike/nove/templejti/cijela-2.jpg',0)\n",
    "w, h = whole_head_down_template.shape[::-1]\n",
    "\n",
    "res = cv2.matchTemplate(img_wholes_no_other_heads, whole_head_down_template, cv2.TM_CCOEFF_NORMED)\n",
    "loc = np.where( res >= threshold)"
   ]
  },
  {
   "cell_type": "code",
   "execution_count": 33,
   "metadata": {
    "collapsed": true
   },
   "outputs": [],
   "source": [
    "for point in zip(*loc[::-1]):\n",
    "    add_template(single_templates_dict['whole_heads'], point)\n",
    "    cv2.rectangle(img_wholes_no_other_heads, (point[0] + 11, point[1] + 9), (point[0] + w, point[1] + h - 7), (255,255,255), 20)\n",
    "    cv2.rectangle(img_wholes_no_other_heads_plot, point, (point[0] + w * 2, point[1] + h * 2), (0,255,255), 5)"
   ]
  },
  {
   "cell_type": "code",
   "execution_count": 34,
   "metadata": {},
   "outputs": [
    {
     "name": "stdout",
     "output_type": "stream",
     "text": [
      "1\n"
     ]
    }
   ],
   "source": [
    "print len(single_templates_dict['whole_heads'])"
   ]
  },
  {
   "cell_type": "markdown",
   "metadata": {},
   "source": [
    "# Eight note stems (up and down)"
   ]
  },
  {
   "cell_type": "code",
   "execution_count": 35,
   "metadata": {
    "collapsed": true,
    "scrolled": true
   },
   "outputs": [],
   "source": [
    "threshold = 0.8\n",
    "img_no_heads = img_wholes_no_other_heads.copy()\n",
    "img_no_heads_plot = img_wholes_no_other_heads_plot.copy()\n",
    "single_templates_dict['eight_stems_up'] = {}\n",
    "single_templates_dict['eight_stems_down'] = {}"
   ]
  },
  {
   "cell_type": "code",
   "execution_count": 36,
   "metadata": {
    "collapsed": true
   },
   "outputs": [],
   "source": [
    "eight_down_template = cv2.imread('../slike/nove/templejti/osmina-dole.jpg',0)\n",
    "w, h = eight_down_template.shape[::-1]\n",
    "\n",
    "res = cv2.matchTemplate(img_stems, eight_down_template, cv2.TM_CCOEFF_NORMED)\n",
    "loc = np.where( res >= threshold)"
   ]
  },
  {
   "cell_type": "code",
   "execution_count": 37,
   "metadata": {
    "collapsed": true
   },
   "outputs": [],
   "source": [
    "for point in zip(*loc[::-1]):\n",
    "    add_template(single_templates_dict['eight_stems_down'], point)\n",
    "    cv2.rectangle(img_no_heads, (point[0] + 11, point[1] + 9), (point[0] + w, point[1] + h - 7), (255,255,255), 20)\n",
    "    cv2.rectangle(img_no_heads_plot, point, (point[0] + w * 2, point[1] + h / 3), (0,255,255), 5)"
   ]
  },
  {
   "cell_type": "code",
   "execution_count": 38,
   "metadata": {
    "collapsed": true
   },
   "outputs": [],
   "source": [
    "eight_down_template = cv2.imread('../slike/nove/templejti/osmina-dole-2.jpg',0)\n",
    "w, h = eight_down_template.shape[::-1]\n",
    "\n",
    "res = cv2.matchTemplate(img_stems, eight_down_template, cv2.TM_CCOEFF_NORMED)\n",
    "loc = np.where( res >= threshold)"
   ]
  },
  {
   "cell_type": "code",
   "execution_count": 39,
   "metadata": {
    "collapsed": true
   },
   "outputs": [],
   "source": [
    "for point in zip(*loc[::-1]):\n",
    "    add_template(single_templates_dict['eight_stems_down'], point)\n",
    "    cv2.rectangle(img_no_heads, (point[0] + 11, point[1] + 9), (point[0] + w, point[1] + h - 7), (255,255,255), 20)\n",
    "    cv2.rectangle(img_no_heads_plot, point, (point[0] + w * 2, point[1] + h / 3), (0,255,255), 5)"
   ]
  },
  {
   "cell_type": "code",
   "execution_count": 40,
   "metadata": {
    "collapsed": true
   },
   "outputs": [],
   "source": [
    "eight_up_template = cv2.imread('../slike/nove/templejti/osmina-gore.jpg',0)\n",
    "w, h = eight_up_template.shape[::-1]\n",
    "\n",
    "res = cv2.matchTemplate(img_stems, eight_up_template, cv2.TM_CCOEFF_NORMED)\n",
    "loc = np.where( res >= threshold)"
   ]
  },
  {
   "cell_type": "code",
   "execution_count": 41,
   "metadata": {
    "collapsed": true
   },
   "outputs": [],
   "source": [
    "for point in zip(*loc[::-1]):\n",
    "    add_template(single_templates_dict['eight_stems_up'], point)\n",
    "    cv2.rectangle(img_no_heads, (point[0] + 11, point[1] + 9), (point[0] + w, point[1] + h - 7), (255,255,255), 20)\n",
    "    cv2.rectangle(img_no_heads_plot, point, (point[0] + w * 2, point[1] + h / 3), (0,255,255), 5)"
   ]
  },
  {
   "cell_type": "code",
   "execution_count": 42,
   "metadata": {
    "collapsed": true
   },
   "outputs": [],
   "source": [
    "threshold = 0.7\n",
    "eight_up_template = cv2.imread('../slike/nove/templejti/osmina-gore-2.jpg',0)\n",
    "w, h = eight_up_template.shape[::-1]\n",
    "\n",
    "res = cv2.matchTemplate(img_stems, eight_up_template, cv2.TM_CCOEFF_NORMED)\n",
    "loc = np.where( res >= threshold)\n",
    "threshold = 0.8"
   ]
  },
  {
   "cell_type": "code",
   "execution_count": 43,
   "metadata": {
    "collapsed": true
   },
   "outputs": [],
   "source": [
    "for point in zip(*loc[::-1]):\n",
    "    add_template(single_templates_dict['eight_stems_up'], point)\n",
    "    cv2.rectangle(img_no_heads, (point[0] + 11, point[1] + 9), (point[0] + w, point[1] + h - 7), (255,255,255), 20)\n",
    "    cv2.rectangle(img_no_heads_plot, point, (point[0] + w * 2, point[1] + h / 3), (255,0,0), 5)"
   ]
  },
  {
   "cell_type": "code",
   "execution_count": 44,
   "metadata": {},
   "outputs": [
    {
     "name": "stdout",
     "output_type": "stream",
     "text": [
      "0\n",
      "0\n"
     ]
    }
   ],
   "source": [
    "print len(single_templates_dict['eight_stems_up'])\n",
    "print len(single_templates_dict['eight_stems_down'])\n",
    "asd = single_templates_dict['eight_stems_up'].items()\n",
    "asd.sort()\n",
    "for k,v in asd:\n",
    "    print k,v"
   ]
  },
  {
   "cell_type": "markdown",
   "metadata": {},
   "source": [
    "# Sixteen note stems (up and down)"
   ]
  },
  {
   "cell_type": "code",
   "execution_count": 45,
   "metadata": {
    "collapsed": true
   },
   "outputs": [],
   "source": [
    "threshold = 0.8\n",
    "single_templates_dict['sixteen_stems_up'] = {}\n",
    "single_templates_dict['sixteen_stems_down'] = {}"
   ]
  },
  {
   "cell_type": "code",
   "execution_count": 46,
   "metadata": {
    "collapsed": true
   },
   "outputs": [],
   "source": [
    "sixteen_up_template = cv2.imread('../slike/nove/templejti/sesnaestina-gore.jpg',0)\n",
    "w, h = sixteen_up_template.shape[::-1]\n",
    "\n",
    "res = cv2.matchTemplate(img_stems, sixteen_up_template, cv2.TM_CCOEFF_NORMED)\n",
    "loc = np.where( res >= threshold)"
   ]
  },
  {
   "cell_type": "code",
   "execution_count": 47,
   "metadata": {
    "collapsed": true
   },
   "outputs": [],
   "source": [
    "for point in zip(*loc[::-1]):\n",
    "    add_template(single_templates_dict['sixteen_stems_up'], point)\n",
    "    cv2.rectangle(img_no_heads, (point[0] + 11, point[1] + 9), (point[0] + w, point[1] + h - 7), (255,255,255), 20)\n",
    "    cv2.rectangle(img_no_heads_plot, point, (point[0] + w * 2, point[1] + h / 3), (255,0,0), 5)"
   ]
  },
  {
   "cell_type": "code",
   "execution_count": 48,
   "metadata": {
    "collapsed": true
   },
   "outputs": [],
   "source": [
    "sixteen_down_template = cv2.imread('../slike/nove/templejti/sesnaestina-dole.jpg',0)\n",
    "w, h = sixteen_down_template.shape[::-1]\n",
    "\n",
    "res = cv2.matchTemplate(img_stems, sixteen_down_template, cv2.TM_CCOEFF_NORMED)\n",
    "loc = np.where( res >= threshold)"
   ]
  },
  {
   "cell_type": "code",
   "execution_count": 49,
   "metadata": {
    "collapsed": true
   },
   "outputs": [],
   "source": [
    "for point in zip(*loc[::-1]):\n",
    "    add_template(single_templates_dict['sixteen_stems_down'], point)\n",
    "    cv2.rectangle(img_no_heads, (point[0] + 11, point[1] + 9), (point[0] + w, point[1] + h - 7), (255,255,255), 20)\n",
    "    cv2.rectangle(img_no_heads_plot, point, (point[0] + w * 2, point[1] + h / 3), (255,0,0), 5)"
   ]
  },
  {
   "cell_type": "code",
   "execution_count": 50,
   "metadata": {},
   "outputs": [
    {
     "name": "stdout",
     "output_type": "stream",
     "text": [
      "0\n",
      "0\n"
     ]
    }
   ],
   "source": [
    "print len(single_templates_dict['sixteen_stems_up'])\n",
    "print len(single_templates_dict['sixteen_stems_down'])"
   ]
  },
  {
   "cell_type": "markdown",
   "metadata": {},
   "source": [
    "# Remembering all full heads found"
   ]
  },
  {
   "cell_type": "code",
   "execution_count": 51,
   "metadata": {
    "collapsed": true
   },
   "outputs": [],
   "source": [
    "ALL_FULL_HEADS_FOUND = len(single_templates_dict['full_heads'])"
   ]
  },
  {
   "cell_type": "markdown",
   "metadata": {
    "collapsed": true
   },
   "source": [
    "# Heads + stems UP"
   ]
  },
  {
   "cell_type": "code",
   "execution_count": 52,
   "metadata": {
    "collapsed": true
   },
   "outputs": [],
   "source": [
    "def search_around_template_point_up(point, templates_dict, search_points = 18, print_info = True):\n",
    "    '''Searchs for a specific template around certain point of a specific template. \n",
    "    \n",
    "    Example: Searches for eight stems around full note head\n",
    "    :param point: point around which we search for a template from the templates_dict\n",
    "    :param templates_dict: dictionary of templates to be searched through\n",
    "    '''\n",
    "    \n",
    "    for i in range(0, search_points):\n",
    "        if (templates_dict.has_key(point[0] + full_head_template_w + i)):\n",
    "            for j in range(0, search_points):\n",
    "                if (templates_dict[point[0] + full_head_template_w + i] == point[1] - eight_stem_up_template_h + j):\n",
    "                    if print_info:\n",
    "                        cv2.rectangle(img_no_heads_plot,\n",
    "                                      (point[0] + full_head_template_w, point[1] - eight_stem_up_template_h),\n",
    "                                      (point[0] + full_head_template_w + 200, point[1] - eight_stem_up_template_h + 3),\n",
    "                                     (255,0,0), 5)\n",
    "                        cv2.circle(img_no_heads_plot, (point[0] + full_head_template_w + i, point[1] - eight_stem_up_template_h + j), 10, (255,0,0), 10)\n",
    "                    return True\n",
    "                if (templates_dict[point[0] + full_head_template_w + i] == point[1] - eight_stem_up_template_h - j):\n",
    "                    if print_info:\n",
    "                        cv2.rectangle(img_no_heads_plot,\n",
    "                                      (point[0] + full_head_template_w, point[1] - eight_stem_up_template_h),\n",
    "                                      (point[0] + full_head_template_w + 200, point[1] - eight_stem_up_template_h + 3),\n",
    "                                     (255,0,0), 5)\n",
    "                        cv2.circle(img_no_heads_plot, (point[0] + full_head_template_w + i, point[1] - eight_stem_up_template_h - j), 10, (255,0,0), 10)\n",
    "                    return True\n",
    "        if (templates_dict.has_key(point[0] + full_head_template_w - i)):\n",
    "            for j in range(0, search_points):\n",
    "                if (templates_dict[point[0] + full_head_template_w - i] == point[1] - eight_stem_up_template_h + j):\n",
    "                    if print_info:\n",
    "                        cv2.rectangle(img_no_heads_plot,\n",
    "                                      (point[0] + full_head_template_w, point[1] - eight_stem_up_template_h),\n",
    "                                      (point[0] + full_head_template_w + 200, point[1] - eight_stem_up_template_h + 3),\n",
    "                                     (255,0,0), 5)\n",
    "                        cv2.circle(img_no_heads_plot, (point[0] + full_head_template_w - i, point[1] - eight_stem_up_template_h + j), 10, (255,0,0), 10)\n",
    "                    return True\n",
    "                if (templates_dict[point[0] + full_head_template_w - i] == point[1] - eight_stem_up_template_h - j):\n",
    "                    if print_info:\n",
    "                        cv2.rectangle(img_no_heads_plot,\n",
    "                                      (point[0] + full_head_template_w, point[1] - eight_stem_up_template_h),\n",
    "                                      (point[0] + full_head_template_w + 200, point[1] - eight_stem_up_template_h + 3),\n",
    "                                     (255,0,0), 5)\n",
    "                        cv2.circle(img_no_heads_plot, (point[0] + full_head_template_w - i, point[1] - eight_stem_up_template_h - j), 10, (255,0,0), 10)\n",
    "                    return True\n",
    "    \n",
    "    return False"
   ]
  },
  {
   "cell_type": "code",
   "execution_count": 53,
   "metadata": {
    "collapsed": true
   },
   "outputs": [],
   "source": [
    "for head_x, head_y in single_templates_dict['full_heads'].items(): # for each note head found\n",
    "    if (search_around_template_point_up((head_x, head_y), single_templates_dict['eight_stems_up'])):\n",
    "        all_notes_dict['eights_up'][head_x] = head_y\n",
    "        del single_templates_dict['full_heads'][head_x]\n",
    "    if (search_around_template_point_up((head_x, head_y), single_templates_dict['sixteen_stems_up'])):\n",
    "        all_notes_dict['sixteens_up'][head_x] = head_y\n",
    "        del single_templates_dict['full_heads'][head_x]"
   ]
  },
  {
   "cell_type": "code",
   "execution_count": 54,
   "metadata": {},
   "outputs": [
    {
     "name": "stdout",
     "output_type": "stream",
     "text": [
      "0\n",
      "0\n"
     ]
    }
   ],
   "source": [
    "print len(all_notes_dict['eights_up'])\n",
    "print len(all_notes_dict['sixteens_up'])"
   ]
  },
  {
   "cell_type": "markdown",
   "metadata": {},
   "source": [
    "# Heads + stems DOWN"
   ]
  },
  {
   "cell_type": "code",
   "execution_count": 55,
   "metadata": {
    "collapsed": true
   },
   "outputs": [],
   "source": [
    "def search_around_template_point_down(point, templates_dict, search_points = 18, print_info = True):\n",
    "    '''Searchs for a specific template around certain point of a specific template. \n",
    "    \n",
    "    Example: Searches for eight stems around full note head\n",
    "    :param point: point around which we search for a template from the templates_dict\n",
    "    :param templates_dict: dictionary of templates to be searched through\n",
    "    '''\n",
    "    \n",
    "    for i in range(0, search_points):\n",
    "        if (templates_dict.has_key(point[0] + i)):\n",
    "            for j in range(0, search_points):\n",
    "                if (templates_dict[point[0] + i] == point[1] + full_head_template_h + j):\n",
    "                    if print_info:\n",
    "                        cv2.rectangle(img_no_heads_plot,\n",
    "                                      (point[0], point[1] + full_head_template_h),\n",
    "                                      (point[0] + 200, point[1] + full_head_template_h + 3),\n",
    "                                     (255,0,0), 5)\n",
    "                        cv2.circle(img_no_heads_plot, (point[0] + i, point[1] + full_head_template_h + j), 10, (255,0,0), 10)\n",
    "                    return True\n",
    "                if (templates_dict[point[0] + i] == point[1] + full_head_template_h - j):\n",
    "                    if print_info:\n",
    "                        cv2.rectangle(img_no_heads_plot,\n",
    "                                      (point[0], point[1] + full_head_template_h),\n",
    "                                      (point[0] + 200, point[1] + full_head_template_h + 3),\n",
    "                                     (255,0,0), 5)\n",
    "                        cv2.circle(img_no_heads_plot, (point[0] + i, point[1] + full_head_template_h - j), 10, (255,0,0), 10)\n",
    "                    return True\n",
    "        if (templates_dict.has_key(point[0] - i)):\n",
    "            for j in range(0, search_points):\n",
    "                if (templates_dict[point[0] - i] == point[1] + full_head_template_h + j):\n",
    "                    if print_info:\n",
    "                        cv2.rectangle(img_no_heads_plot,\n",
    "                                      (point[0], point[1] + full_head_template_h),\n",
    "                                      (point[0] + 200, point[1] + full_head_template_h + 3),\n",
    "                                     (255,0,0), 5)\n",
    "                        cv2.circle(img_no_heads_plot, (point[0] - i, point[1] + full_head_template_h + j), 10, (255,0,0), 10)\n",
    "                    return True\n",
    "                if (templates_dict[point[0] - i] == point[1] + full_head_template_h - j):\n",
    "                    if print_info:\n",
    "                        cv2.rectangle(img_no_heads_plot,\n",
    "                                      (point[0], point[1] + full_head_template_h),\n",
    "                                      (point[0] + 200, point[1] + full_head_template_h + 3),\n",
    "                                     (255,0,0), 5)\n",
    "                        cv2.circle(img_no_heads_plot, (point[0] - i, point[1] + full_head_template_h - j), 10, (255,0,0), 10)\n",
    "                    return True\n",
    "    \n",
    "    return False"
   ]
  },
  {
   "cell_type": "code",
   "execution_count": 56,
   "metadata": {
    "collapsed": true
   },
   "outputs": [],
   "source": [
    "for head_x, head_y in single_templates_dict['full_heads'].items(): # for each note head found\n",
    "    if (search_around_template_point_down((head_x, head_y), single_templates_dict['eight_stems_down'])):\n",
    "        all_notes_dict['eights_down'][head_x] = head_y\n",
    "        del single_templates_dict['full_heads'][head_x]\n",
    "    if (search_around_template_point_down((head_x, head_y), single_templates_dict['sixteen_stems_down'])):\n",
    "        all_notes_dict['sixteens_down'][head_x] = head_y\n",
    "        del single_templates_dict['full_heads'][head_x]"
   ]
  },
  {
   "cell_type": "code",
   "execution_count": 57,
   "metadata": {},
   "outputs": [
    {
     "name": "stdout",
     "output_type": "stream",
     "text": [
      "0\n",
      "0\n"
     ]
    }
   ],
   "source": [
    "print len(all_notes_dict['eights_down'])\n",
    "print len(all_notes_dict['sixteens_down'])"
   ]
  },
  {
   "cell_type": "markdown",
   "metadata": {},
   "source": [
    "# Hooks - START"
   ]
  },
  {
   "cell_type": "code",
   "execution_count": 58,
   "metadata": {
    "collapsed": true
   },
   "outputs": [],
   "source": [
    "img_no_heads_no_stems = img_no_heads.copy()\n",
    "img_no_heads_no_stems_plot = img_no_heads_plot.copy()"
   ]
  },
  {
   "cell_type": "code",
   "execution_count": 59,
   "metadata": {
    "collapsed": true
   },
   "outputs": [],
   "source": [
    "threshold = 0.8\n",
    "single_templates_dict['eight_hooks_up_start'] = {}\n",
    "single_templates_dict['eight_hooks_down_start'] = {}"
   ]
  },
  {
   "cell_type": "markdown",
   "metadata": {},
   "source": [
    "## Hooks - start up"
   ]
  },
  {
   "cell_type": "code",
   "execution_count": 60,
   "metadata": {
    "collapsed": true
   },
   "outputs": [],
   "source": [
    "hook_start_eight_down_template = cv2.imread('../slike/nove/templejti/kuka-gore-pocetak-1.jpg',0)\n",
    "w, h = hook_start_eight_down_template.shape[::-1]\n",
    "\n",
    "res = cv2.matchTemplate(img_no_heads_no_stems, hook_start_eight_down_template, cv2.TM_CCOEFF_NORMED)\n",
    "loc = np.where( res >= threshold)"
   ]
  },
  {
   "cell_type": "code",
   "execution_count": 61,
   "metadata": {
    "collapsed": true
   },
   "outputs": [],
   "source": [
    "for point in zip(*loc[::-1]):\n",
    "    add_template(single_templates_dict['eight_hooks_up_start'], point)\n",
    "    cv2.rectangle(img_no_heads_no_stems, (point[0] + 11, point[1]), (point[0] + w, point[1] + h - 7), (255,255,255), 20)\n",
    "    cv2.rectangle(img_no_heads_no_stems_plot, point, (point[0] + w * 2, point[1] + h), (100,155,155), 5)"
   ]
  },
  {
   "cell_type": "code",
   "execution_count": 62,
   "metadata": {
    "collapsed": true
   },
   "outputs": [],
   "source": [
    "hook_start_eight_up_template = cv2.imread('../slike/nove/templejti/kuka-gore-pocetak-2.jpg',0)\n",
    "hook_start_eight_up_template_w, hook_start_eight_up_template_h = hook_start_eight_up_template.shape[::-1]\n",
    "\n",
    "res = cv2.matchTemplate(img_no_heads_no_stems, hook_start_eight_up_template, cv2.TM_CCOEFF_NORMED)\n",
    "loc = np.where( res >= threshold)"
   ]
  },
  {
   "cell_type": "code",
   "execution_count": 63,
   "metadata": {
    "collapsed": true
   },
   "outputs": [],
   "source": [
    "for point in zip(*loc[::-1]):\n",
    "    add_template(single_templates_dict['eight_hooks_up_start'], point)\n",
    "    cv2.rectangle(img_no_heads_no_stems, (point[0] + 11, point[1]), (point[0] + hook_start_eight_up_template_w, point[1] + hook_start_eight_up_template_h - 7), (255,255,255), 20)\n",
    "    cv2.rectangle(img_no_heads_no_stems_plot, point, (point[0] + hook_start_eight_up_template_w * 2, point[1] + hook_start_eight_up_template_h), (100,155,155), 5)"
   ]
  },
  {
   "cell_type": "code",
   "execution_count": 64,
   "metadata": {
    "collapsed": true
   },
   "outputs": [],
   "source": [
    "hook_start_eight_up_template = cv2.imread('../slike/nove/templejti/kuka-gore-pocetak-3.jpg',0)\n",
    "hook_start_eight_up_template_w, hook_start_eight_up_template_h = hook_start_eight_up_template.shape[::-1]\n",
    "\n",
    "res = cv2.matchTemplate(img_no_heads_no_stems, hook_start_eight_up_template, cv2.TM_CCOEFF_NORMED)\n",
    "loc = np.where( res >= threshold)"
   ]
  },
  {
   "cell_type": "code",
   "execution_count": 65,
   "metadata": {
    "collapsed": true
   },
   "outputs": [],
   "source": [
    "for point in zip(*loc[::-1]):\n",
    "    add_template(single_templates_dict['eight_hooks_up_start'], point)\n",
    "    cv2.rectangle(img_no_heads_no_stems, (point[0] + 11, point[1]), (point[0] + hook_start_eight_up_template_w, point[1] + hook_start_eight_up_template_h - 7), (255,255,255), 20)\n",
    "    cv2.rectangle(img_no_heads_no_stems_plot, point, (point[0] + hook_start_eight_up_template_w * 2, point[1] + hook_start_eight_up_template_h), (100,155,155), 5)"
   ]
  },
  {
   "cell_type": "markdown",
   "metadata": {},
   "source": [
    "## Hooks - start down"
   ]
  },
  {
   "cell_type": "code",
   "execution_count": 66,
   "metadata": {
    "collapsed": true
   },
   "outputs": [],
   "source": [
    "hook_start_eight_up_template = cv2.imread('../slike/nove/templejti/kuka-dole-pocetak-1.jpg',0)\n",
    "w, h = hook_start_eight_up_template.shape[::-1]\n",
    "\n",
    "res = cv2.matchTemplate(img_no_heads_no_stems, hook_start_eight_up_template, cv2.TM_CCOEFF_NORMED)\n",
    "loc = np.where( res >= threshold)"
   ]
  },
  {
   "cell_type": "code",
   "execution_count": 67,
   "metadata": {
    "collapsed": true
   },
   "outputs": [],
   "source": [
    "for point in zip(*loc[::-1]):\n",
    "    add_template(single_templates_dict['eight_hooks_down_start'], point)\n",
    "    cv2.rectangle(img_no_heads_no_stems, (point[0] + 11, point[1]), (point[0] + w, point[1] + h - 7), (255,255,255), 20)\n",
    "    cv2.rectangle(img_no_heads_no_stems_plot, point, (point[0] + w * 2, point[1] + h), (100,155,155), 5)"
   ]
  },
  {
   "cell_type": "code",
   "execution_count": 68,
   "metadata": {
    "collapsed": true
   },
   "outputs": [],
   "source": [
    "hook_start_eight_up_template = cv2.imread('../slike/nove/templejti/kuka-dole-pocetak-2.jpg',0)\n",
    "w, h = hook_start_eight_up_template.shape[::-1]\n",
    "\n",
    "res = cv2.matchTemplate(img_no_heads_no_stems, hook_start_eight_up_template, cv2.TM_CCOEFF_NORMED)\n",
    "loc = np.where( res >= threshold)"
   ]
  },
  {
   "cell_type": "code",
   "execution_count": 69,
   "metadata": {
    "collapsed": true
   },
   "outputs": [],
   "source": [
    "for point in zip(*loc[::-1]):\n",
    "    add_template(single_templates_dict['eight_hooks_down_start'], point)\n",
    "    cv2.rectangle(img_no_heads_no_stems, (point[0] + 11, point[1]), (point[0] + w, point[1] + h - 7), (255,255,255), 20)\n",
    "    cv2.rectangle(img_no_heads_no_stems_plot, point, (point[0] + w * 2, point[1] + h), (100,155,155), 5)"
   ]
  },
  {
   "cell_type": "code",
   "execution_count": 70,
   "metadata": {
    "collapsed": true
   },
   "outputs": [],
   "source": [
    "hook_start_eight_up_template = cv2.imread('../slike/nove/templejti/kuka-dole-pocetak-3.jpg',0)\n",
    "w, h = hook_start_eight_up_template.shape[::-1]\n",
    "\n",
    "res = cv2.matchTemplate(img_no_heads_no_stems, hook_start_eight_up_template, cv2.TM_CCOEFF_NORMED)\n",
    "loc = np.where( res >= threshold)"
   ]
  },
  {
   "cell_type": "code",
   "execution_count": 71,
   "metadata": {
    "collapsed": true
   },
   "outputs": [],
   "source": [
    "for point in zip(*loc[::-1]):\n",
    "    add_template(single_templates_dict['eight_hooks_down_start'], point)\n",
    "    cv2.rectangle(img_no_heads_no_stems, (point[0] + 11, point[1]), (point[0] + w, point[1] + h - 7), (255,255,255), 20)\n",
    "    cv2.rectangle(img_no_heads_no_stems_plot, point, (point[0] + w * 2, point[1] + h), (100,155,155), 5)"
   ]
  },
  {
   "cell_type": "code",
   "execution_count": 72,
   "metadata": {
    "scrolled": true
   },
   "outputs": [
    {
     "name": "stdout",
     "output_type": "stream",
     "text": [
      "eight hooks which start up:   5\n",
      "eight hooks which start down: 0\n"
     ]
    }
   ],
   "source": [
    "print 'eight hooks which start up:  ', len(single_templates_dict['eight_hooks_up_start'])\n",
    "print 'eight hooks which start down:', len(single_templates_dict['eight_hooks_down_start'])"
   ]
  },
  {
   "cell_type": "markdown",
   "metadata": {},
   "source": [
    "# Hooks - END"
   ]
  },
  {
   "cell_type": "code",
   "execution_count": 73,
   "metadata": {
    "collapsed": true
   },
   "outputs": [],
   "source": [
    "threshold = 0.75\n",
    "single_templates_dict['eight_hooks_up_end'] = {}\n",
    "single_templates_dict['eight_hooks_down_end'] = {}"
   ]
  },
  {
   "cell_type": "code",
   "execution_count": 74,
   "metadata": {
    "collapsed": true
   },
   "outputs": [],
   "source": [
    "hook_start_eight_down_template = cv2.imread('../slike/nove/templejti/kuka-gore-kraj-1.jpg',0)\n",
    "w, h = hook_start_eight_down_template.shape[::-1]\n",
    "\n",
    "res = cv2.matchTemplate(img_no_heads_no_stems, hook_start_eight_down_template, cv2.TM_CCOEFF_NORMED)\n",
    "loc = np.where( res >= threshold)"
   ]
  },
  {
   "cell_type": "code",
   "execution_count": 75,
   "metadata": {
    "collapsed": true
   },
   "outputs": [],
   "source": [
    "for point in zip(*loc[::-1]):\n",
    "    add_template(single_templates_dict['eight_hooks_up_end'], point)\n",
    "    cv2.rectangle(img_no_heads_no_stems, (point[0] + 11, point[1]), (point[0] + w, point[1] + h - 7), (255,255,255), 20)\n",
    "    cv2.rectangle(img_no_heads_no_stems_plot, point, (point[0] + w * 2, point[1] + h), (255,0,0), 5)"
   ]
  },
  {
   "cell_type": "code",
   "execution_count": 76,
   "metadata": {
    "collapsed": true
   },
   "outputs": [],
   "source": [
    "hook_start_eight_down_template = cv2.imread('../slike/nove/templejti/kuka-gore-kraj-2.jpg',0)\n",
    "w, h = hook_start_eight_down_template.shape[::-1]\n",
    "\n",
    "res = cv2.matchTemplate(img_no_heads_no_stems, hook_start_eight_down_template, cv2.TM_CCOEFF_NORMED)\n",
    "loc = np.where( res >= threshold)"
   ]
  },
  {
   "cell_type": "code",
   "execution_count": 77,
   "metadata": {
    "collapsed": true
   },
   "outputs": [],
   "source": [
    "for point in zip(*loc[::-1]):\n",
    "    add_template(single_templates_dict['eight_hooks_up_end'], point)\n",
    "    cv2.rectangle(img_no_heads_no_stems, (point[0] + 11, point[1]), (point[0] + w, point[1] + h - 7), (255,255,255), 20)\n",
    "    cv2.rectangle(img_no_heads_no_stems_plot, point, (point[0] + w * 2, point[1] + h), (0,255,0), 5)"
   ]
  },
  {
   "cell_type": "code",
   "execution_count": 78,
   "metadata": {
    "collapsed": true
   },
   "outputs": [],
   "source": [
    "hook_start_eight_down_template = cv2.imread('../slike/nove/templejti/kuka-gore-kraj-3.jpg',0)\n",
    "w, h = hook_start_eight_down_template.shape[::-1]\n",
    "\n",
    "res = cv2.matchTemplate(img_no_heads_no_stems, hook_start_eight_down_template, cv2.TM_CCOEFF_NORMED)\n",
    "loc = np.where( res >= threshold)"
   ]
  },
  {
   "cell_type": "code",
   "execution_count": 79,
   "metadata": {
    "collapsed": true
   },
   "outputs": [],
   "source": [
    "for point in zip(*loc[::-1]):\n",
    "    add_template(single_templates_dict['eight_hooks_up_end'], point)\n",
    "    cv2.rectangle(img_no_heads_no_stems, (point[0] + 11, point[1]), (point[0] + w, point[1] + h - 7), (255,255,255), 20)\n",
    "    cv2.rectangle(img_no_heads_no_stems_plot, point, (point[0] + w * 2, point[1] + h), (0,0,255), 5)"
   ]
  },
  {
   "cell_type": "code",
   "execution_count": 80,
   "metadata": {
    "collapsed": true
   },
   "outputs": [],
   "source": [
    "hook_start_eight_down_template = cv2.imread('../slike/nove/templejti/kuka-dole-kraj-1.jpg',0)\n",
    "w, h = hook_start_eight_down_template.shape[::-1]\n",
    "\n",
    "res = cv2.matchTemplate(img_no_heads_no_stems, hook_start_eight_down_template, cv2.TM_CCOEFF_NORMED)\n",
    "loc = np.where( res >= threshold)"
   ]
  },
  {
   "cell_type": "code",
   "execution_count": 81,
   "metadata": {
    "collapsed": true
   },
   "outputs": [],
   "source": [
    "for point in zip(*loc[::-1]):\n",
    "    add_template(single_templates_dict['eight_hooks_down_end'], point)\n",
    "    cv2.rectangle(img_no_heads_no_stems, (point[0] + 11, point[1]), (point[0] + w, point[1] + h - 7), (255,255,255), 20)\n",
    "    cv2.rectangle(img_no_heads_no_stems_plot, point, (point[0] + w * 2, point[1] + h), (200,55,55), 5)"
   ]
  },
  {
   "cell_type": "code",
   "execution_count": 82,
   "metadata": {
    "collapsed": true
   },
   "outputs": [],
   "source": [
    "hook_start_eight_down_template = cv2.imread('../slike/nove/templejti/kuka-dole-kraj-2.jpg',0)\n",
    "w, h = hook_start_eight_down_template.shape[::-1]\n",
    "\n",
    "res = cv2.matchTemplate(img_no_heads_no_stems, hook_start_eight_down_template, cv2.TM_CCOEFF_NORMED)\n",
    "loc = np.where( res >= threshold)"
   ]
  },
  {
   "cell_type": "code",
   "execution_count": 83,
   "metadata": {
    "collapsed": true
   },
   "outputs": [],
   "source": [
    "for point in zip(*loc[::-1]):\n",
    "    add_template(single_templates_dict['eight_hooks_down_end'], point)\n",
    "    cv2.rectangle(img_no_heads_no_stems, (point[0] + 11, point[1]), (point[0] + w, point[1] + h - 7), (255,255,255), 20)\n",
    "    cv2.rectangle(img_no_heads_no_stems_plot, point, (point[0] + w * 2, point[1] + h), (200,55,55), 5)"
   ]
  },
  {
   "cell_type": "code",
   "execution_count": 84,
   "metadata": {
    "collapsed": true
   },
   "outputs": [],
   "source": [
    "hook_start_eight_down_template = cv2.imread('../slike/nove/templejti/kuka-dole-kraj-3.jpg',0)\n",
    "w, h = hook_start_eight_down_template.shape[::-1]\n",
    "\n",
    "res = cv2.matchTemplate(img_no_heads_no_stems, hook_start_eight_down_template, cv2.TM_CCOEFF_NORMED)\n",
    "loc = np.where( res >= threshold)"
   ]
  },
  {
   "cell_type": "code",
   "execution_count": 85,
   "metadata": {
    "collapsed": true
   },
   "outputs": [],
   "source": [
    "for point in zip(*loc[::-1]):\n",
    "    add_template(single_templates_dict['eight_hooks_down_end'], point)\n",
    "    cv2.rectangle(img_no_heads_no_stems, (point[0] + 11, point[1]), (point[0] + w, point[1] + h - 7), (255,255,255), 20)\n",
    "    cv2.rectangle(img_no_heads_no_stems_plot, point, (point[0] + w * 2, point[1] + h), (200,55,55), 5)"
   ]
  },
  {
   "cell_type": "code",
   "execution_count": 86,
   "metadata": {},
   "outputs": [
    {
     "name": "stdout",
     "output_type": "stream",
     "text": [
      "eight hooks which end up:   6\n",
      "eight hooks which end down: 0\n"
     ]
    }
   ],
   "source": [
    "print 'eight hooks which end up:  ', len(single_templates_dict['eight_hooks_up_end'])\n",
    "print 'eight hooks which end down:', len(single_templates_dict['eight_hooks_down_end'])"
   ]
  },
  {
   "cell_type": "markdown",
   "metadata": {
    "collapsed": true
   },
   "source": [
    "# Heads + hooks . Start UP"
   ]
  },
  {
   "cell_type": "code",
   "execution_count": 87,
   "metadata": {
    "collapsed": true
   },
   "outputs": [],
   "source": [
    "def head_with_hook_up(head_point, hooks_start_or_end_dict, search_points = 20, print_info = True):\n",
    "    '''Find a full head to match an eight hook directed upwards. \n",
    "\n",
    "    :param head_point: point around which we search for a full head\n",
    "    '''\n",
    "    hook_start_eight_up_template_h = 60\n",
    "    \n",
    "    for i in range(0, search_points):\n",
    "        if (single_templates_dict[hooks_start_or_end_dict].has_key(head_point[0] + i)):\n",
    "            for j in range(0, search_points):\n",
    "                if (single_templates_dict[hooks_start_or_end_dict][head_point[0] + i] == head_point[1] - hook_start_eight_up_template_h + j):\n",
    "                    if print_info:\n",
    "                        cv2.rectangle(img_no_heads_no_stems_plot,\n",
    "                                      (head_point[0], head_point[1] - hook_start_eight_up_template_h),\n",
    "                                      (head_point[0] - 100, head_point[1] - hook_start_eight_up_template_h + 3),\n",
    "                                     (100,200,50), 5)\n",
    "                        cv2.circle(img_no_heads_no_stems_plot, (head_point[0] + i, head_point[1] - hook_start_eight_up_template_h + j), 10, (255,0,0), 10)\n",
    "                    return True\n",
    "                \n",
    "                if (single_templates_dict[hooks_start_or_end_dict][head_point[0] + i] == head_point[1] - hook_start_eight_up_template_h - j):\n",
    "                    if print_info:\n",
    "                        cv2.rectangle(img_no_heads_no_stems_plot,\n",
    "                                      (head_point[0], head_point[1] - hook_start_eight_up_template_h),\n",
    "                                      (head_point[0] - 100, head_point[1] - hook_start_eight_up_template_h + 3),\n",
    "                                     (100,200,50), 5)\n",
    "                        cv2.circle(img_no_heads_no_stems_plot, (head_point[0] + i, head_point[1] - hook_start_eight_up_template_h - j), 10, (255,0,0), 10)\n",
    "                    return True\n",
    "    \n",
    "    return False"
   ]
  },
  {
   "cell_type": "code",
   "execution_count": 88,
   "metadata": {},
   "outputs": [
    {
     "name": "stdout",
     "output_type": "stream",
     "text": [
      "1986 923\n",
      "965 861\n",
      "1569 517\n",
      "343 934\n"
     ]
    }
   ],
   "source": [
    "for head_x, head_y in single_templates_dict['full_heads'].items():\n",
    "    if head_with_hook_up((head_x, head_y), 'eight_hooks_up_start'):\n",
    "        all_notes_dict['eights_up'][head_x] = head_y\n",
    "        all_hooks_dict['start'][head_x] = head_y\n",
    "        del single_templates_dict['full_heads'][head_x]\n",
    "        print head_x, head_y"
   ]
  },
  {
   "cell_type": "markdown",
   "metadata": {},
   "source": [
    "# Heads + hooks . Start DOWN"
   ]
  },
  {
   "cell_type": "code",
   "execution_count": 89,
   "metadata": {
    "collapsed": true
   },
   "outputs": [],
   "source": [
    "def head_with_hook_down(head_point, hooks_start_or_end_dict, search_points = 18, print_info = True):\n",
    "    '''Find a full head to match an eight hook directed upwards. \n",
    "\n",
    "    :param head_point: point around which we search for a full head\n",
    "    '''\n",
    "    \n",
    "    for i in range(0, search_points):\n",
    "        if (single_templates_dict[hooks_start_or_end_dict].has_key(head_point[0] - i)):\n",
    "            for j in range(0, search_points):\n",
    "                if (single_templates_dict[hooks_start_or_end_dict][head_point[0] - i] == head_point[1] + full_head_template_h + j):\n",
    "                    if print_info:\n",
    "                        cv2.rectangle(img_no_heads_no_stems_plot,\n",
    "                                      (head_point[0], head_point[1] + full_head_template_h),\n",
    "                                      (head_point[0] - 100, head_point[1] + full_head_template_h + 3),\n",
    "                                     (100,200,50), 5)\n",
    "                        cv2.circle(img_no_heads_no_stems_plot, (head_point[0] + i, head_point[1] + full_head_template_h + j), 10, (255,0,0), 10)\n",
    "                    return True\n",
    "                \n",
    "                if (single_templates_dict[hooks_start_or_end_dict][head_point[0] - i] == head_point[1] + full_head_template_h - j):\n",
    "                    if print_info:\n",
    "                        cv2.rectangle(img_no_heads_no_stems_plot,\n",
    "                                      (head_point[0], head_point[1] + full_head_template_h),\n",
    "                                      (head_point[0] - 100, head_point[1] + full_head_template_h + 3),\n",
    "                                     (100,200,50), 5)\n",
    "                        cv2.circle(img_no_heads_no_stems_plot, (head_point[0] + i, head_point[1] + full_head_template_h - j), 10, (255,0,0), 10)\n",
    "                    return True\n",
    "    \n",
    "    return False"
   ]
  },
  {
   "cell_type": "code",
   "execution_count": 90,
   "metadata": {},
   "outputs": [],
   "source": [
    "for head_x, head_y in single_templates_dict['full_heads'].items():\n",
    "    if head_with_hook_down((head_x, head_y), 'eight_hooks_down_start'):\n",
    "        all_notes_dict['eights_down'][head_x] = head_y\n",
    "        all_hooks_dict['start'][head_x] = head_y\n",
    "        del single_templates_dict['full_heads'][head_x]\n",
    "        print head_x, head_y"
   ]
  },
  {
   "cell_type": "markdown",
   "metadata": {},
   "source": [
    "# Heads + hooks . End UP"
   ]
  },
  {
   "cell_type": "code",
   "execution_count": 91,
   "metadata": {},
   "outputs": [
    {
     "name": "stdout",
     "output_type": "stream",
     "text": [
      "4\n"
     ]
    }
   ],
   "source": [
    "ends_matched = 0\n",
    "for head_x, head_y in single_templates_dict['full_heads'].items():\n",
    "    if head_with_hook_up((head_x, head_y), 'eight_hooks_up_end'):\n",
    "        all_notes_dict['eights_up'][head_x] = head_y\n",
    "        all_hooks_dict['end'][head_x] = head_y\n",
    "        del single_templates_dict['full_heads'][head_x]\n",
    "        ends_matched += 1\n",
    "print ends_matched"
   ]
  },
  {
   "cell_type": "markdown",
   "metadata": {},
   "source": [
    "# Heads + hooks . End DOWN"
   ]
  },
  {
   "cell_type": "code",
   "execution_count": 92,
   "metadata": {},
   "outputs": [
    {
     "name": "stdout",
     "output_type": "stream",
     "text": [
      "0\n"
     ]
    }
   ],
   "source": [
    "ends_matched = 0\n",
    "for head_x, head_y in single_templates_dict['full_heads'].items():\n",
    "    if head_with_hook_down((head_x, head_y), 'eight_hooks_down_end'):\n",
    "        all_notes_dict['eights_down'][head_x] = head_y\n",
    "        all_hooks_dict['end'][head_x] = head_y\n",
    "        del single_templates_dict['full_heads'][head_x]\n",
    "        ends_matched += 1\n",
    "print ends_matched"
   ]
  },
  {
   "cell_type": "markdown",
   "metadata": {},
   "source": [
    "# Declare the rest of the full note heads as quarters"
   ]
  },
  {
   "cell_type": "code",
   "execution_count": 93,
   "metadata": {},
   "outputs": [],
   "source": [
    "all_notes_dict['quarters_up'] = single_templates_dict['full_heads'].copy()\n",
    "single_templates_dict['full_heads'].clear()"
   ]
  },
  {
   "cell_type": "code",
   "execution_count": 94,
   "metadata": {},
   "outputs": [
    {
     "name": "stdout",
     "output_type": "stream",
     "text": [
      "24\n",
      "{}\n"
     ]
    }
   ],
   "source": [
    "print len(all_notes_dict['quarters_up'])\n",
    "print single_templates_dict['full_heads']"
   ]
  },
  {
   "cell_type": "code",
   "execution_count": 95,
   "metadata": {
    "collapsed": true
   },
   "outputs": [],
   "source": [
    "for x, y in all_notes_dict['quarters_up'].items():\n",
    "    cv2.rectangle(img_no_heads_no_stems_plot, (x,y), (x + 3, y - 100), (55,255,50), 5)"
   ]
  },
  {
   "cell_type": "markdown",
   "metadata": {},
   "source": [
    "# Dots"
   ]
  },
  {
   "cell_type": "code",
   "execution_count": 96,
   "metadata": {
    "collapsed": true
   },
   "outputs": [],
   "source": [
    "img_dots = img_no_heads_no_stems.copy()\n",
    "img_dots_plot = img_no_heads_no_stems_plot.copy()\n",
    "threshold = 0.85\n",
    "#single_templates_dict['dot'] = {}"
   ]
  },
  {
   "cell_type": "code",
   "execution_count": 97,
   "metadata": {
    "collapsed": true
   },
   "outputs": [],
   "source": [
    "dot_template_1 = cv2.imread('../slike/nove/templejti/tacka-1.jpg',0)\n",
    "w, h = dot_template_1.shape[::-1]\n",
    "\n",
    "res = cv2.matchTemplate(img_dots, dot_template_1, cv2.TM_CCOEFF_NORMED)\n",
    "loc = np.where( res >= threshold)"
   ]
  },
  {
   "cell_type": "code",
   "execution_count": 98,
   "metadata": {
    "collapsed": true
   },
   "outputs": [],
   "source": [
    "for point in zip(*loc[::-1]):\n",
    "    add_template(single_templates_dict['dot'], point)\n",
    "    cv2.rectangle(img_dots, (point[0] + 11, point[1]), (point[0] + w, point[1] + h - 7), (255,255,255), 20)\n",
    "    cv2.circle(img_dots_plot, point, 30, (100,155,155), 15)"
   ]
  },
  {
   "cell_type": "code",
   "execution_count": 99,
   "metadata": {
    "collapsed": true
   },
   "outputs": [],
   "source": [
    "dot_template_2 = cv2.imread('../slike/bez-linija/tacka-2.jpg',0)\n",
    "#asd, dot_template_2 = cv2.threshold(dot_template, 100, 255, cv2.THRESH_BINARY)\n",
    "w, h = dot_template_2.shape[::-1]\n",
    "\n",
    "res = cv2.matchTemplate(img_dots, dot_template_2, cv2.TM_CCOEFF_NORMED)\n",
    "loc = np.where( res >= threshold)"
   ]
  },
  {
   "cell_type": "code",
   "execution_count": 100,
   "metadata": {
    "collapsed": true
   },
   "outputs": [],
   "source": [
    "for point in zip(*loc[::-1]):\n",
    "    add_template(single_templates_dict['dot'], point)\n",
    "    cv2.rectangle(img_dots, (point[0] + 11, point[1]), (point[0] + w, point[1] + h - 7), (255,255,255), 20)\n",
    "    cv2.circle(img_dots_plot, point, 30, (100,155,155), 15)"
   ]
  },
  {
   "cell_type": "code",
   "execution_count": 101,
   "metadata": {},
   "outputs": [
    {
     "name": "stdout",
     "output_type": "stream",
     "text": [
      "0\n"
     ]
    }
   ],
   "source": [
    "print len(single_templates_dict['dot'])"
   ]
  },
  {
   "cell_type": "markdown",
   "metadata": {},
   "source": [
    "# Notes + dots"
   ]
  },
  {
   "cell_type": "code",
   "execution_count": 102,
   "metadata": {
    "collapsed": true
   },
   "outputs": [],
   "source": [
    "def find_note_for_dot(point, templates_dict, template_width, search_points = 18, print_info = True):\n",
    "    '''Searchs for a specific head template around certain dot. \n",
    "    \n",
    "    Example: Searches for a full head note before a dot on point :param point:\n",
    "    :param point: point around which we search for a note head from the templates_dict\n",
    "    :param templates_dict: dictionary of templates to be searched through\n",
    "    '''\n",
    "    \n",
    "    dot_head_min_distance = 5  # the dot has at least this much pixels to the left before it reaches a note head\n",
    "    \n",
    "    for i in range(0, search_points):\n",
    "        if (templates_dict.has_key(point[0] - template_width - dot_head_min_distance + i)):\n",
    "            for j in range(0, search_points):\n",
    "                if (templates_dict[point[0] - template_width - dot_head_min_distance + i] == point[1] + j):\n",
    "                    if print_info:\n",
    "                        cv2.rectangle(img_dots_plot,\n",
    "                                      (point[0], point[1]),\n",
    "                                      (point[0] + 200, point[1] + 3),\n",
    "                                     (0,255,0), 5)\n",
    "                        cv2.circle(img_dots_plot, (point[0] + i, point[1] + j), 10, (0,255,0), 10)\n",
    "                    return True\n",
    "                if (templates_dict[point[0] - template_width - dot_head_min_distance + i] == point[1] - j):\n",
    "                    if print_info:\n",
    "                        cv2.rectangle(img_dots_plot,\n",
    "                                      (point[0], point[1]),\n",
    "                                      (point[0] + 200, point[1] + 3),\n",
    "                                     (0,255,0), 5)\n",
    "                        cv2.circle(img_dots_plot, (point[0] + i, point[1] - j), 10, (0,255,0), 10)\n",
    "                    return True\n",
    "        if (templates_dict.has_key(point[0] - template_width - dot_head_min_distance - i)):\n",
    "            for j in range(0, search_points):\n",
    "                if (templates_dict[point[0] - template_width - dot_head_min_distance - i] == point[1] + j):\n",
    "                    if print_info:\n",
    "                        cv2.rectangle(img_dots_plot,\n",
    "                                      (point[0], point[1]),\n",
    "                                      (point[0] + 200, point[1] + 3),\n",
    "                                     (0,255,0), 5)\n",
    "                        cv2.circle(img_dots_plot, (point[0] - i, point[1] + j), 10, (0,255,0), 10)\n",
    "                    return True\n",
    "                if (templates_dict[point[0] - template_width - dot_head_min_distance - i] == point[1] - j):\n",
    "                    if print_info:\n",
    "                        cv2.rectangle(img_dots_plot,\n",
    "                                      (point[0], point[1]),\n",
    "                                      (point[0] + 200, point[1] + 3),\n",
    "                                     (0,255,0), 5)\n",
    "                        cv2.circle(img_dots_plot, (point[0] - i, point[1] - j), 10, (0,255,0), 10)\n",
    "                    return True\n",
    "    \n",
    "    return False"
   ]
  },
  {
   "cell_type": "code",
   "execution_count": 103,
   "metadata": {
    "collapsed": true
   },
   "outputs": [],
   "source": [
    "for dot_x, dot_y in single_templates_dict['dot'].items():\n",
    "    for key in all_notes_dict.keys():\n",
    "        if (find_note_for_dot((dot_x, dot_y), all_notes_dict[key], full_head_template_w) ):\n",
    "            all_dots_dict[key][dot_x] = dot_y"
   ]
  },
  {
   "cell_type": "code",
   "execution_count": 104,
   "metadata": {},
   "outputs": [
    {
     "name": "stdout",
     "output_type": "stream",
     "text": [
      "eights_up with dots: 0\n",
      "eights_down with dots: 0\n",
      "halves_up with dots: 0\n",
      "halves_down with dots: 0\n",
      "quarters_up with dots: 0\n",
      "sixteens_down with dots: 0\n",
      "sixteens_up with dots: 0\n",
      "wholes with dots: 0\n",
      "quarters_down with dots: 0\n"
     ]
    }
   ],
   "source": [
    "for key in all_dots_dict.keys():\n",
    "    print key, 'with dots:', len(all_dots_dict[key])"
   ]
  },
  {
   "cell_type": "code",
   "execution_count": 105,
   "metadata": {},
   "outputs": [
    {
     "name": "stdout",
     "output_type": "stream",
     "text": [
      "4 out of 16\n"
     ]
    }
   ],
   "source": [
    "print len(all_hooks_dict['end']), 'out of',16"
   ]
  },
  {
   "cell_type": "code",
   "execution_count": 106,
   "metadata": {},
   "outputs": [
    {
     "name": "stdout",
     "output_type": "stream",
     "text": [
      "4 out of 16\n"
     ]
    }
   ],
   "source": [
    "print len(all_hooks_dict['start']), 'out of',16"
   ]
  },
  {
   "cell_type": "code",
   "execution_count": 107,
   "metadata": {},
   "outputs": [
    {
     "name": "stdout",
     "output_type": "stream",
     "text": [
      "8 out of 37\n"
     ]
    }
   ],
   "source": [
    "print len(all_notes_dict['eights_up']), 'out of',37"
   ]
  },
  {
   "cell_type": "code",
   "execution_count": 108,
   "metadata": {},
   "outputs": [
    {
     "name": "stdout",
     "output_type": "stream",
     "text": [
      "0 out of 4\n"
     ]
    }
   ],
   "source": [
    "print len(all_notes_dict['eights_down']), 'out of',4"
   ]
  },
  {
   "cell_type": "code",
   "execution_count": 109,
   "metadata": {},
   "outputs": [
    {
     "name": "stdout",
     "output_type": "stream",
     "text": [
      "32\n",
      "0\n"
     ]
    }
   ],
   "source": [
    "print ALL_FULL_HEADS_FOUND\n",
    "print len(single_templates_dict['full_heads'])"
   ]
  },
  {
   "cell_type": "code",
   "execution_count": 110,
   "metadata": {
    "scrolled": true
   },
   "outputs": [
    {
     "data": {
      "text/plain": [
       "<matplotlib.image.AxesImage at 0x7a98ac8>"
      ]
     },
     "execution_count": 110,
     "metadata": {},
     "output_type": "execute_result"
    },
    {
     "data": {
      "image/png": "[encoded data removed]",
      "text/plain": [
       "<matplotlib.figure.Figure at 0x786a0f0>"
      ]
     },
     "metadata": {},
     "output_type": "display_data"
    }
   ],
   "source": [
    "plt.imshow(img_dots_plot)"
   ]
  },
  {
   "cell_type": "code",
   "execution_count": 112,
   "metadata": {},
   "outputs": [
    {
     "name": "stdout",
     "output_type": "stream",
     "text": [
      "12\n"
     ]
    }
   ],
   "source": [
    "print len(single_templates_dict['half_heads'])"
   ]
  }
 ],
 "metadata": {
  "kernelspec": {
   "display_name": "Python 2",
   "language": "python",
   "name": "python2"
  },
  "language_info": {
   "codemirror_mode": {
    "name": "ipython",
    "version": 2
   },
   "file_extension": ".py",
   "mimetype": "text/x-python",
   "name": "python",
   "nbconvert_exporter": "python",
   "pygments_lexer": "ipython2",
   "version": "2.7.14"
  },
  "widgets": {
   "application/vnd.jupyter.widget-state+json": {
    "state": {},
    "version_major": 2,
    "version_minor": 0
   }
  }
 },
 "nbformat": 4,
 "nbformat_minor": 2
}
