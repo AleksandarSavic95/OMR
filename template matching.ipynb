{
 "cells": [
  {
   "cell_type": "code",
   "execution_count": 1,
   "metadata": {
    "collapsed": true
   },
   "outputs": [],
   "source": [
    "import matplotlib.pyplot as plt  \n",
    "# iscrtavanje slika i plotova unutar samog browsera\n",
    "%matplotlib inline \n",
    "\n",
    "import matplotlib.pylab as pylab\n",
    "# prikaz vecih slika \n",
    "pylab.rcParams['figure.figsize'] = 24,24\n",
    "\n",
    "import cv2\n",
    "import numpy as np"
   ]
  },
  {
   "cell_type": "code",
   "execution_count": 2,
   "metadata": {
    "collapsed": true
   },
   "outputs": [],
   "source": [
    "def add_template(templates_dict, point, search_duplicates_points = 7, print_info = False):\n",
    "    '''Add the template if a template with the x and y around the certain point has NOT been added to the dictionary.'''\n",
    "    for i in range(0,search_duplicates_points):\n",
    "        if (templates_dict.has_key(point[0] + i)):\n",
    "            for j in range(0,search_duplicates_points):\n",
    "                if (templates_dict[point[0] + i] == point[1] + j):\n",
    "                    if print_info:\n",
    "                        print point[0], 'already here'\n",
    "                    return False\n",
    "                if (templates_dict[point[0] + i] == point[1] - j):\n",
    "                    if print_info:\n",
    "                        print point[0], 'already here'\n",
    "                    return False\n",
    "        if (templates_dict.has_key(point[0] - i)):\n",
    "            for j in range(0,search_duplicates_points):\n",
    "                if (templates_dict[point[0] - i] == point[1] + j):\n",
    "                    if print_info:\n",
    "                        print point[0], 'already here'\n",
    "                    return False\n",
    "                if (templates_dict[point[0] - i] == point[1] - j):\n",
    "                    if print_info:\n",
    "                        print point[0], 'already here'\n",
    "                    return False\n",
    "    \n",
    "    templates_dict[point[0]] = point[1] # add the template\n",
    "    if print_info:\n",
    "        print point[0], 'added successfully with y = ', point[1]\n",
    "    return True"
   ]
  },
  {
   "cell_type": "markdown",
   "metadata": {},
   "source": [
    "# Accidentals + note heads"
   ]
  },
  {
   "cell_type": "code",
   "execution_count": 3,
   "metadata": {
    "collapsed": true
   },
   "outputs": [],
   "source": [
    "def find_head_for_accidental(accidental_point, is_flat, heads_dict_name, search_points = 20, print_info = True):\n",
    "    '''Find a full head to match an accidental. \n",
    "    :param accidental_point: point around which we search for a full head\n",
    "    '''\n",
    "    accidental_width = 20\n",
    "    \n",
    "    if is_flat:\n",
    "        accidental_height = 20\n",
    "    else:\n",
    "        accidental_height = 10\n",
    "    \n",
    "    for i in range(0, search_points):\n",
    "        if (single_templates_dict[heads_dict_name].has_key(accidental_point[0] + accidental_width + i)):\n",
    "            for j in range(0, search_points):\n",
    "                if (single_templates_dict[heads_dict_name][accidental_point[0] + accidental_width + i] == accidental_point[1] + accidental_height + j):\n",
    "                    if print_info:\n",
    "                        cv2.rectangle(img_accidentals_plot,\n",
    "                                      (accidental_point[0], accidental_point[1] - accidental_height),\n",
    "                                      (accidental_point[0] - 100, accidental_point[1] - accidental_height + 3),\n",
    "                                     (100,200,50), 5)\n",
    "                        cv2.circle(img_accidentals_plot, (accidental_point[0] + i, accidental_point[1] - accidental_height + j), 10, (255,0,0), 10)\n",
    "                    return (True, (accidental_point[0] + accidental_width + i, accidental_point[1] + accidental_height + j))\n",
    "    \n",
    "    return False, None"
   ]
  },
  {
   "cell_type": "markdown",
   "metadata": {
    "collapsed": true
   },
   "source": [
    "# Heads + stems UP"
   ]
  },
  {
   "cell_type": "code",
   "execution_count": 4,
   "metadata": {
    "collapsed": true
   },
   "outputs": [],
   "source": [
    "def search_around_template_point_up(point, templates_dict, search_points = 18, print_info = True):\n",
    "    '''Searchs for a specific template around certain point of a specific template. \n",
    "    \n",
    "    Example: Searches for eight stems around full note head\n",
    "    :param point: point around which we search for a template from the templates_dict\n",
    "    :param templates_dict: dictionary of templates to be searched through\n",
    "    '''\n",
    "    \n",
    "    for i in range(0, search_points):\n",
    "        if (templates_dict.has_key(point[0] + full_head_template_w + i)):\n",
    "            for j in range(0, search_points):\n",
    "                if (templates_dict[point[0] + full_head_template_w + i] == point[1] - eight_stem_up_template_h + j):\n",
    "                    if print_info:\n",
    "                        cv2.rectangle(img_no_heads_plot,\n",
    "                                      (point[0] + full_head_template_w, point[1] - eight_stem_up_template_h),\n",
    "                                      (point[0] + full_head_template_w + 200, point[1] - eight_stem_up_template_h + 3),\n",
    "                                     (255,0,0), 5)\n",
    "                        cv2.circle(img_no_heads_plot, (point[0] + full_head_template_w + i, point[1] - eight_stem_up_template_h + j), 10, (255,0,0), 10)\n",
    "                    return True\n",
    "                if (templates_dict[point[0] + full_head_template_w + i] == point[1] - eight_stem_up_template_h - j):\n",
    "                    if print_info:\n",
    "                        cv2.rectangle(img_no_heads_plot,\n",
    "                                      (point[0] + full_head_template_w, point[1] - eight_stem_up_template_h),\n",
    "                                      (point[0] + full_head_template_w + 200, point[1] - eight_stem_up_template_h + 3),\n",
    "                                     (255,0,0), 5)\n",
    "                        cv2.circle(img_no_heads_plot, (point[0] + full_head_template_w + i, point[1] - eight_stem_up_template_h - j), 10, (255,0,0), 10)\n",
    "                    return True\n",
    "        if (templates_dict.has_key(point[0] + full_head_template_w - i)):\n",
    "            for j in range(0, search_points):\n",
    "                if (templates_dict[point[0] + full_head_template_w - i] == point[1] - eight_stem_up_template_h + j):\n",
    "                    if print_info:\n",
    "                        cv2.rectangle(img_no_heads_plot,\n",
    "                                      (point[0] + full_head_template_w, point[1] - eight_stem_up_template_h),\n",
    "                                      (point[0] + full_head_template_w + 200, point[1] - eight_stem_up_template_h + 3),\n",
    "                                     (255,0,0), 5)\n",
    "                        cv2.circle(img_no_heads_plot, (point[0] + full_head_template_w - i, point[1] - eight_stem_up_template_h + j), 10, (255,0,0), 10)\n",
    "                    return True\n",
    "                if (templates_dict[point[0] + full_head_template_w - i] == point[1] - eight_stem_up_template_h - j):\n",
    "                    if print_info:\n",
    "                        cv2.rectangle(img_no_heads_plot,\n",
    "                                      (point[0] + full_head_template_w, point[1] - eight_stem_up_template_h),\n",
    "                                      (point[0] + full_head_template_w + 200, point[1] - eight_stem_up_template_h + 3),\n",
    "                                     (255,0,0), 5)\n",
    "                        cv2.circle(img_no_heads_plot, (point[0] + full_head_template_w - i, point[1] - eight_stem_up_template_h - j), 10, (255,0,0), 10)\n",
    "                    return True\n",
    "    \n",
    "    return False"
   ]
  },
  {
   "cell_type": "markdown",
   "metadata": {},
   "source": [
    "# Heads + stems DOWN"
   ]
  },
  {
   "cell_type": "code",
   "execution_count": 5,
   "metadata": {
    "collapsed": true
   },
   "outputs": [],
   "source": [
    "def search_around_template_point_down(point, templates_dict, search_points = 18, print_info = True):\n",
    "    '''Searchs for a specific template around certain point of a specific template. \n",
    "    \n",
    "    Example: Searches for eight stems around full note head\n",
    "    :param point: point around which we search for a template from the templates_dict\n",
    "    :param templates_dict: dictionary of templates to be searched through\n",
    "    '''\n",
    "    \n",
    "    for i in range(0, search_points):\n",
    "        if (templates_dict.has_key(point[0] + i)):\n",
    "            for j in range(0, search_points):\n",
    "                if (templates_dict[point[0] + i] == point[1] + full_head_template_h + j):\n",
    "                    if print_info:\n",
    "                        cv2.rectangle(img_no_heads_plot,\n",
    "                                      (point[0], point[1] + full_head_template_h),\n",
    "                                      (point[0] + 200, point[1] + full_head_template_h + 3),\n",
    "                                     (255,0,0), 5)\n",
    "                        cv2.circle(img_no_heads_plot, (point[0] + i, point[1] + full_head_template_h + j), 10, (255,0,0), 10)\n",
    "                    return True\n",
    "                if (templates_dict[point[0] + i] == point[1] + full_head_template_h - j):\n",
    "                    if print_info:\n",
    "                        cv2.rectangle(img_no_heads_plot,\n",
    "                                      (point[0], point[1] + full_head_template_h),\n",
    "                                      (point[0] + 200, point[1] + full_head_template_h + 3),\n",
    "                                     (255,0,0), 5)\n",
    "                        cv2.circle(img_no_heads_plot, (point[0] + i, point[1] + full_head_template_h - j), 10, (255,0,0), 10)\n",
    "                    return True\n",
    "        if (templates_dict.has_key(point[0] - i)):\n",
    "            for j in range(0, search_points):\n",
    "                if (templates_dict[point[0] - i] == point[1] + full_head_template_h + j):\n",
    "                    if print_info:\n",
    "                        cv2.rectangle(img_no_heads_plot,\n",
    "                                      (point[0], point[1] + full_head_template_h),\n",
    "                                      (point[0] + 200, point[1] + full_head_template_h + 3),\n",
    "                                     (255,0,0), 5)\n",
    "                        cv2.circle(img_no_heads_plot, (point[0] - i, point[1] + full_head_template_h + j), 10, (255,0,0), 10)\n",
    "                    return True\n",
    "                if (templates_dict[point[0] - i] == point[1] + full_head_template_h - j):\n",
    "                    if print_info:\n",
    "                        cv2.rectangle(img_no_heads_plot,\n",
    "                                      (point[0], point[1] + full_head_template_h),\n",
    "                                      (point[0] + 200, point[1] + full_head_template_h + 3),\n",
    "                                     (255,0,0), 5)\n",
    "                        cv2.circle(img_no_heads_plot, (point[0] - i, point[1] + full_head_template_h - j), 10, (255,0,0), 10)\n",
    "                    return True\n",
    "    \n",
    "    return False"
   ]
  },
  {
   "cell_type": "markdown",
   "metadata": {
    "collapsed": true
   },
   "source": [
    "# Heads + hooks . Start UP"
   ]
  },
  {
   "cell_type": "code",
   "execution_count": 6,
   "metadata": {
    "collapsed": true
   },
   "outputs": [],
   "source": [
    "def head_with_hook_up(head_point, hooks_start_or_end_dict, search_points = 20, print_info = True):\n",
    "    '''Find a full head to match an eight hook directed upwards. \n",
    "\n",
    "    :param head_point: point around which we search for a full head\n",
    "    '''\n",
    "    hook_start_eight_up_template_h = 60\n",
    "    \n",
    "    for i in range(0, search_points):\n",
    "        if (single_templates_dict[hooks_start_or_end_dict].has_key(head_point[0] + i)):\n",
    "            for j in range(0, search_points):\n",
    "                if (single_templates_dict[hooks_start_or_end_dict][head_point[0] + i] == head_point[1] - hook_start_eight_up_template_h + j):\n",
    "                    if print_info:\n",
    "                        cv2.rectangle(img_no_heads_no_stems_plot,\n",
    "                                      (head_point[0], head_point[1] - hook_start_eight_up_template_h),\n",
    "                                      (head_point[0] - 100, head_point[1] - hook_start_eight_up_template_h + 3),\n",
    "                                     (100,200,50), 5)\n",
    "                        cv2.circle(img_no_heads_no_stems_plot, (head_point[0] + i, head_point[1] - hook_start_eight_up_template_h + j), 10, (255,0,0), 10)\n",
    "                    return True\n",
    "                \n",
    "                if (single_templates_dict[hooks_start_or_end_dict][head_point[0] + i] == head_point[1] - hook_start_eight_up_template_h - j):\n",
    "                    if print_info:\n",
    "                        cv2.rectangle(img_no_heads_no_stems_plot,\n",
    "                                      (head_point[0], head_point[1] - hook_start_eight_up_template_h),\n",
    "                                      (head_point[0] - 100, head_point[1] - hook_start_eight_up_template_h + 3),\n",
    "                                     (100,200,50), 5)\n",
    "                        cv2.circle(img_no_heads_no_stems_plot, (head_point[0] + i, head_point[1] - hook_start_eight_up_template_h - j), 10, (255,0,0), 10)\n",
    "                    return True\n",
    "    \n",
    "    return False"
   ]
  },
  {
   "cell_type": "markdown",
   "metadata": {},
   "source": [
    "# Heads + hooks . Start DOWN"
   ]
  },
  {
   "cell_type": "code",
   "execution_count": 7,
   "metadata": {
    "collapsed": true
   },
   "outputs": [],
   "source": [
    "def head_with_hook_down(head_point, hooks_start_or_end_dict, search_points = 18, print_info = True):\n",
    "    '''Find a full head to match an eight hook directed upwards. \n",
    "\n",
    "    :param head_point: point around which we search for a full head\n",
    "    '''\n",
    "    \n",
    "    for i in range(0, search_points):\n",
    "        if (single_templates_dict[hooks_start_or_end_dict].has_key(head_point[0] - i)):\n",
    "            for j in range(0, search_points):\n",
    "                if (single_templates_dict[hooks_start_or_end_dict][head_point[0] - i] == head_point[1] + full_head_template_h + j):\n",
    "                    if print_info:\n",
    "                        cv2.rectangle(img_no_heads_no_stems_plot,\n",
    "                                      (head_point[0], head_point[1] + full_head_template_h),\n",
    "                                      (head_point[0] - 100, head_point[1] + full_head_template_h + 3),\n",
    "                                     (100,200,50), 5)\n",
    "                        cv2.circle(img_no_heads_no_stems_plot, (head_point[0] + i, head_point[1] + full_head_template_h + j), 10, (255,0,0), 10)\n",
    "                    return True\n",
    "                \n",
    "                if (single_templates_dict[hooks_start_or_end_dict][head_point[0] - i] == head_point[1] + full_head_template_h - j):\n",
    "                    if print_info:\n",
    "                        cv2.rectangle(img_no_heads_no_stems_plot,\n",
    "                                      (head_point[0], head_point[1] + full_head_template_h),\n",
    "                                      (head_point[0] - 100, head_point[1] + full_head_template_h + 3),\n",
    "                                     (100,200,50), 5)\n",
    "                        cv2.circle(img_no_heads_no_stems_plot, (head_point[0] + i, head_point[1] + full_head_template_h - j), 10, (255,0,0), 10)\n",
    "                    return True\n",
    "    \n",
    "    return False"
   ]
  },
  {
   "cell_type": "markdown",
   "metadata": {},
   "source": [
    "# Dots - functions"
   ]
  },
  {
   "cell_type": "code",
   "execution_count": 8,
   "metadata": {
    "collapsed": true
   },
   "outputs": [],
   "source": [
    "def find_note_for_dot(point, templates_dict, template_width, search_points = 18, print_info = True):\n",
    "    '''Searchs for a specific head template around certain dot. \n",
    "    \n",
    "    Example: Searches for a full head note before a dot on point :param point:\n",
    "    :param point: point around which we search for a note head from the templates_dict\n",
    "    :param templates_dict: dictionary of templates to be searched through\n",
    "    '''\n",
    "    \n",
    "    dot_head_min_distance = 5  # the dot has at least this much pixels to the left before it reaches a note head\n",
    "    \n",
    "    for i in range(0, search_points):\n",
    "        if (templates_dict.has_key(point[0] - template_width - dot_head_min_distance + i)):\n",
    "            for j in range(0, search_points):\n",
    "                if (templates_dict[point[0] - template_width - dot_head_min_distance + i] == point[1] + j):\n",
    "                    if print_info:\n",
    "                        cv2.rectangle(img_dots_plot,\n",
    "                                      (point[0], point[1]),\n",
    "                                      (point[0] + 200, point[1] + 3),\n",
    "                                     (0,255,0), 5)\n",
    "                        cv2.circle(img_dots_plot, (point[0] + i, point[1] + j), 10, (0,255,0), 10)\n",
    "                    return True\n",
    "                if (templates_dict[point[0] - template_width - dot_head_min_distance + i] == point[1] - j):\n",
    "                    if print_info:\n",
    "                        cv2.rectangle(img_dots_plot,\n",
    "                                      (point[0], point[1]),\n",
    "                                      (point[0] + 200, point[1] + 3),\n",
    "                                     (0,255,0), 5)\n",
    "                        cv2.circle(img_dots_plot, (point[0] + i, point[1] - j), 10, (0,255,0), 10)\n",
    "                    return True\n",
    "        if (templates_dict.has_key(point[0] - template_width - dot_head_min_distance - i)):\n",
    "            for j in range(0, search_points):\n",
    "                if (templates_dict[point[0] - template_width - dot_head_min_distance - i] == point[1] + j):\n",
    "                    if print_info:\n",
    "                        cv2.rectangle(img_dots_plot,\n",
    "                                      (point[0], point[1]),\n",
    "                                      (point[0] + 200, point[1] + 3),\n",
    "                                     (0,255,0), 5)\n",
    "                        cv2.circle(img_dots_plot, (point[0] - i, point[1] + j), 10, (0,255,0), 10)\n",
    "                    return True\n",
    "                if (templates_dict[point[0] - template_width - dot_head_min_distance - i] == point[1] - j):\n",
    "                    if print_info:\n",
    "                        cv2.rectangle(img_dots_plot,\n",
    "                                      (point[0], point[1]),\n",
    "                                      (point[0] + 200, point[1] + 3),\n",
    "                                     (0,255,0), 5)\n",
    "                        cv2.circle(img_dots_plot, (point[0] - i, point[1] - j), 10, (0,255,0), 10)\n",
    "                    return True\n",
    "    \n",
    "    return False"
   ]
  },
  {
   "cell_type": "code",
   "execution_count": 113,
   "metadata": {
    "collapsed": true
   },
   "outputs": [],
   "source": [
    "def note_has_dot(note_x, note_y, note_type):\n",
    "    '''Returns true if note has it's duration lengthened by a dot.'''\n",
    "    if (all_dots_dict[note_type].has_key(note_x)):\n",
    "        if (all_dots_dict[note_type].has_key(note_x)):\n",
    "            return all_dots_dict[note_type][note_x] == note_y\n",
    "    return False"
   ]
  },
  {
   "cell_type": "markdown",
   "metadata": {},
   "source": [
    "# Images, constants and dictionaries definition"
   ]
  },
  {
   "cell_type": "code",
   "execution_count": 10,
   "metadata": {
    "collapsed": true
   },
   "outputs": [],
   "source": [
    "# T E S T  images\n",
    "# test #img_heads_plot = cv2.imread('../slike/nove/1test-skup/Series-cijele-akcidentale.jpg')  # test\n",
    "# test #img_heads_plot = cv2.imread('../slike/nove/1test-skup/Bolujem_ja.jpg')  # test\n",
    "# test #img_heads_plot = cv2.imread('../slike/nove/1test-skup/Ljeto.jpg')  # test\n",
    "# test #img_heads_plot = cv2.imread('../slike/nove/1test-skup/Viva_la_musica.jpg')  # test\n",
    "\n",
    "# T R A I N I N G  images\n",
    "#img_heads_plot = cv2.imread('../slike/nove/Bledi_mesec.jpg')\n",
    "#img_heads_plot = cv2.imread('../slike/nove/Born_in_Chicago.jpg')\n",
    "#img_heads_plot = cv2.imread('../slike/nove/Composicion_dodecafonica.jpg')\n",
    "#img_heads_plot = cv2.imread('../slike/nove/Ej_cija_frula.jpg')\n",
    "#img_heads_plot = cv2.imread('../slike/nove/Govori_se.jpg')\n",
    "#img_heads_plot = cv2.imread('../slike/nove/Ja_ljubim_Milu.jpg')\n",
    "#img_heads_plot = cv2.imread('../slike/nove/Jamscik.jpg')\n",
    "#img_heads_plot = cv2.imread('../slike/nove/Kanon.jpg')\n",
    "#img_heads_plot = cv2.imread('../slike/nove/Kimegyek.jpg')\n",
    "#img_heads_plot = cv2.imread('../slike/nove/Kolaricu.jpg')\n",
    "#img_heads_plot = cv2.imread('../slike/nove/Kolo.jpg')\n",
    "#img_heads_plot = cv2.imread('../slike/nove/Kukavica.jpg')\n",
    "#img_heads_plot = cv2.imread('../slike/nove/Muzikanti.jpg')\n",
    "#img_heads_plot = cv2.imread('../slike/nove/Poranila_jeca.jpg')\n",
    "#img_heads_plot = cv2.imread('../slike/nove/Sat.jpg')"
   ]
  },
  {
   "cell_type": "code",
   "execution_count": 11,
   "metadata": {
    "collapsed": true
   },
   "outputs": [],
   "source": [
    "img_stems = cv2.imread('../slike/nove/Born_in_Chicago.jpg',0)\n",
    "img_heads = img_stems.copy()\n",
    "img_heads_plot = cv2.imread('../slike/nove/Born_in_Chicago.jpg')\n",
    "\n",
    "img_breaks = img_stems.copy()\n",
    "img_breaks_plot = img_heads_plot.copy()\n",
    "\n",
    "img_accidentals = img_stems.copy()\n",
    "img_accidentals_plot =  img_heads_plot.copy()\n",
    "\n",
    "img_dots = img_stems.copy()\n",
    "img_dots_plot = img_heads_plot.copy()\n",
    "\n",
    "total_full_heads = 32\n",
    "total_HALF_heads = 12\n",
    "\n",
    "single_templates_dict = {\n",
    "    'full_heads':{}, 'half_heads': {}, 'whole_heads': {},\n",
    "    'eight_stems_up': {},'eight_stems_down': {},\n",
    "    'sixteen_stems_up': {}, 'sixteen_stems_down': {},\n",
    "    'eight_hooks_up_start': {}, 'eight_hooks_up_end': {},\n",
    "    'eight_hooks_down_start': {}, 'eight_hooks_down_end': {},\n",
    "    'eight_breaks': {}, 'quarter_breaks': {}, 'half_breaks': {}, 'whole_breaks': {},\n",
    "    'dots': {},    'sharps': {},    'flats': {},    'naturals': {},\n",
    "    'G-clef': {}, 'F-clef': {},\n",
    "    'two': {}, 'three': {}, 'four': {}, 'C': {}\n",
    "    }\n",
    "threshold = 0.8"
   ]
  },
  {
   "cell_type": "markdown",
   "metadata": {},
   "source": [
    "## all dictionaries"
   ]
  },
  {
   "cell_type": "code",
   "execution_count": 12,
   "metadata": {
    "collapsed": true
   },
   "outputs": [],
   "source": [
    "# dictionary contains all note heads with assigned stems\n",
    "all_notes_dict = {'wholes': {}, 'halves_up': {}, 'halves_down': {}, 'quarters_up': {}, 'quarters_down': {},\n",
    "                  'eights_up': {}, 'eights_down': {}, 'sixteens_up': {}, 'sixteens_down': {}}\n",
    "\n",
    "# dictionary contains all notes which have assigned dots\n",
    "all_dots_dict = {'wholes': {}, 'halves_up': {}, 'halves_down': {}, 'quarters_up': {}, 'quarters_down': {},\n",
    "                  'eights_up': {}, 'eights_down': {}, 'sixteens_up': {}, 'sixteens_down': {}}\n",
    "\n",
    "# dictionaries contain all notes which have assigned accidentals (flats, sharps and naturals)\n",
    "all_flats_dict = {}\n",
    "all_sharps_dict = {}\n",
    "all_naturals_dict= {}\n",
    "\n",
    "all_hooks_dict = {'start': {}, 'end': {}}\n",
    "\n",
    "all_breaks_dict = {'wholes': {}, 'halves': {}, 'quarters': {}, 'eights': {}, 'sixteens': {}}"
   ]
  },
  {
   "cell_type": "code",
   "execution_count": 13,
   "metadata": {
    "collapsed": true
   },
   "outputs": [],
   "source": [
    "full_head_with_lines_down_template = cv2.imread(TEMPLATE_PATH + '/glava-puna-sa-linijama-gore.jpg',0)\n",
    "full_head_template_w, full_head_template_h = full_head_with_lines_down_template.shape[::-1]\n",
    "\n",
    "eight_stem_down_template = cv2.imread(TEMPLATE_PATH + '/osmina-dole.jpg',0)\n",
    "eight_stem_down_template_w, eight_stem_down_template_h = eight_stem_down_template.shape[::-1]\n",
    "\n",
    "eight_stem_up_template = cv2.imread(TEMPLATE_PATH + '/osmina-gore.jpg',0)\n",
    "eight_stem_up_template_w, eight_stem_up_template_h = eight_stem_up_template.shape[::-1]\n",
    "\n",
    "sixteen_stem_template_w = 30\n",
    "sixteen_stem_template_h = 80\n",
    "\n",
    "quarter_break_template_w = 20\n",
    "quarter_break_template_h = 60"
   ]
  },
  {
   "cell_type": "markdown",
   "metadata": {},
   "source": [
    "# Clefs"
   ]
  },
  {
   "cell_type": "code",
   "execution_count": 14,
   "metadata": {
    "collapsed": true
   },
   "outputs": [],
   "source": [
    "threshold = 0.7\n",
    "template_names = [('violinski-1', 'G-clef'), ('violinski-2', 'G-clef'), ('bas-1','F-clef')]\n",
    "for clef_name in template_names:\n",
    "    clef_template = cv2.imread('../slike/nove/templejti/kljuc-' + clef_name[0] + '.jpg',0)\n",
    "    w, h = clef_template.shape[::-1]\n",
    "\n",
    "    res = cv2.matchTemplate(img_heads, clef_template, cv2.TM_CCOEFF_NORMED)\n",
    "    loc = np.where( res >= threshold)\n",
    "    for point in zip(*loc[::-1]):\n",
    "        if (add_template(single_templates_dict[clef_name[1]], point)):\n",
    "            cv2.rectangle(img_heads_plot, point, (point[0] + w, point[1] + h), (123,213,231), 5)"
   ]
  },
  {
   "cell_type": "markdown",
   "metadata": {},
   "source": [
    "# Measure numbers"
   ]
  },
  {
   "cell_type": "code",
   "execution_count": 15,
   "metadata": {
    "collapsed": true
   },
   "outputs": [],
   "source": [
    "threshold = 0.7\n",
    "measure_names = [('dva-1','two'), ('cetiri-1','four'), ('cetiri-2','four'), ('tri-1','three'), ('C-1','C')]"
   ]
  },
  {
   "cell_type": "code",
   "execution_count": 16,
   "metadata": {
    "collapsed": true
   },
   "outputs": [],
   "source": [
    "for measure_name in measure_names:\n",
    "    measure_template = cv2.imread('../slike/nove/templejti/mjera-' + measure_name[0] + '.jpg',0)\n",
    "    w, h = measure_template.shape[::-1]\n",
    "\n",
    "    res = cv2.matchTemplate(img_heads, measure_template, cv2.TM_CCOEFF_NORMED)\n",
    "    loc = np.where( res >= threshold)\n",
    "    for point in zip(*loc[::-1]):\n",
    "        if (add_template(single_templates_dict[measure_name[1]], point)):\n",
    "            cv2.rectangle(img_heads_plot, point, (point[0] + w, point[1] + h), (123,213,231), 5)"
   ]
  },
  {
   "cell_type": "markdown",
   "metadata": {},
   "source": [
    "# Full note heads"
   ]
  },
  {
   "cell_type": "code",
   "execution_count": 17,
   "metadata": {
    "collapsed": true
   },
   "outputs": [],
   "source": [
    "threshold = 0.75\n",
    "full_head_with_lines_down_template = cv2.imread('../slike/nove/templejti/glava-puna-dole.jpg',0)\n",
    "w, h = full_head_with_lines_down_template.shape[::-1]\n",
    "\n",
    "res = cv2.matchTemplate(img_heads, full_head_with_lines_down_template, cv2.TM_CCOEFF_NORMED)\n",
    "loc = np.where( res >= threshold)"
   ]
  },
  {
   "cell_type": "code",
   "execution_count": 18,
   "metadata": {
    "collapsed": true
   },
   "outputs": [],
   "source": [
    "for point in zip(*loc[::-1]):\n",
    "    if (add_template(single_templates_dict['full_heads'], point)):\n",
    "        cv2.rectangle(img_heads, point, (point[0] + w, point[1] + h - 6), (255,255,255), 18)\n",
    "    cv2.rectangle(img_heads_plot, point, (point[0] + w, point[1] + h), (0,255,255), 5)"
   ]
  },
  {
   "cell_type": "code",
   "execution_count": 19,
   "metadata": {
    "collapsed": true
   },
   "outputs": [],
   "source": [
    "full_head_with_lines_up_template = cv2.imread('../slike/nove/templejti/glava-puna-gore.jpg',0)\n",
    "w, h = full_head_with_lines_up_template.shape[::-1]\n",
    "\n",
    "res = cv2.matchTemplate(img_heads, full_head_with_lines_up_template, cv2.TM_CCOEFF_NORMED)\n",
    "loc = np.where( res >= threshold)"
   ]
  },
  {
   "cell_type": "code",
   "execution_count": 20,
   "metadata": {
    "collapsed": true,
    "scrolled": true
   },
   "outputs": [],
   "source": [
    "for point in zip(*loc[::-1]):\n",
    "    if (add_template(single_templates_dict['full_heads'], point)):\n",
    "        cv2.rectangle(img_heads, point, (point[0] + w, point[1] + h - 6), (255,255,255), 18)\n",
    "    cv2.rectangle(img_heads_plot, point, (point[0] + w*2, point[1] + 3), (255,0,0), 5)"
   ]
  },
  {
   "cell_type": "code",
   "execution_count": 21,
   "metadata": {
    "collapsed": true
   },
   "outputs": [],
   "source": [
    "full_head_up_template = cv2.imread('../slike/nove/templejti/glava-puna-sa-linijama-gore.jpg',0)\n",
    "w, h = full_head_up_template.shape[::-1]\n",
    "\n",
    "res = cv2.matchTemplate(img_heads, full_head_up_template, cv2.TM_CCOEFF_NORMED)\n",
    "loc = np.where( res >= threshold)"
   ]
  },
  {
   "cell_type": "code",
   "execution_count": 22,
   "metadata": {
    "collapsed": true
   },
   "outputs": [],
   "source": [
    "for point in zip(*loc[::-1]):\n",
    "    if (add_template(single_templates_dict['full_heads'], point)):\n",
    "        cv2.rectangle(img_heads, point, (point[0] + w, point[1] + h - 6), (255,255,255), 18)\n",
    "    cv2.circle(img_heads_plot, point, 15, (0,255,0), 5)"
   ]
  },
  {
   "cell_type": "code",
   "execution_count": 23,
   "metadata": {
    "collapsed": true
   },
   "outputs": [],
   "source": [
    "full_head_down_template = cv2.imread('../slike/nove/templejti/glava-puna-sa-linijama-dole.jpg',0)\n",
    "w, h = full_head_down_template.shape[::-1]\n",
    "\n",
    "res = cv2.matchTemplate(img_heads, full_head_down_template, cv2.TM_CCOEFF_NORMED)\n",
    "loc = np.where( res >= threshold)"
   ]
  },
  {
   "cell_type": "code",
   "execution_count": 24,
   "metadata": {
    "collapsed": true,
    "scrolled": true
   },
   "outputs": [],
   "source": [
    "for point in zip(*loc[::-1]):\n",
    "    if (add_template(single_templates_dict['full_heads'], point)):\n",
    "        cv2.rectangle(img_heads, point, (point[0] + w, point[1] + h - 6), (255,255,255), 18)\n",
    "    cv2.circle(img_heads_plot, point, 25, (255,0,255), 5)"
   ]
  },
  {
   "cell_type": "markdown",
   "metadata": {},
   "source": [
    "# Half note heads"
   ]
  },
  {
   "cell_type": "code",
   "execution_count": 25,
   "metadata": {
    "collapsed": true
   },
   "outputs": [],
   "source": [
    "threshold = 0.75\n",
    "img_halves_no_full_heads = img_heads.copy()\n",
    "img_halves_no_full_heads_plot = img_heads_plot.copy()\n",
    "single_templates_dict['half_heads'] = {}\n",
    "half_head_template_names = ['gore-1', 'gore-2', 'gore-3', 'na-liniji', 'sa-linijama-dole', 'sa-linijama-gore-1', 'sa-linijama-gore-2']"
   ]
  },
  {
   "cell_type": "code",
   "execution_count": 26,
   "metadata": {
    "collapsed": true
   },
   "outputs": [],
   "source": [
    "for half_head_template_name in half_head_template_names:\n",
    "    half_head_down_template = cv2.imread('../slike/nove/templejti/polovina-' + half_head_template_name + '.jpg',0)\n",
    "    w, h = half_head_down_template.shape[::-1]\n",
    "\n",
    "    res = cv2.matchTemplate(img_halves_no_full_heads, half_head_down_template, cv2.TM_CCOEFF_NORMED)\n",
    "    loc = np.where( res >= threshold)\n",
    "    for point in zip(*loc[::-1]):\n",
    "        if (add_template(single_templates_dict['half_heads'], point)):\n",
    "            cv2.rectangle(img_halves_no_full_heads, (point[0] + 11, point[1] + 9), (point[0] + w, point[1] + h - 7), (255,255,255), 20)\n",
    "        cv2.rectangle(img_halves_no_full_heads_plot, point, (point[0] + w * 2, point[1] + h * 2), (0,255,255), 5)"
   ]
  },
  {
   "cell_type": "code",
   "execution_count": 27,
   "metadata": {
    "collapsed": true
   },
   "outputs": [],
   "source": [
    "all_notes_dict['halves_up'] = single_templates_dict['half_heads']"
   ]
  },
  {
   "cell_type": "markdown",
   "metadata": {},
   "source": [
    "# Whole note heads"
   ]
  },
  {
   "cell_type": "code",
   "execution_count": 28,
   "metadata": {
    "collapsed": true
   },
   "outputs": [],
   "source": [
    "threshold = 0.75\n",
    "img_wholes_no_other_heads = img_halves_no_full_heads.copy()\n",
    "img_wholes_no_other_heads_plot = img_halves_no_full_heads_plot.copy()\n",
    "single_templates_dict['whole_heads'] = {}"
   ]
  },
  {
   "cell_type": "code",
   "execution_count": 29,
   "metadata": {
    "collapsed": true
   },
   "outputs": [],
   "source": [
    "whole_head_down_template = cv2.imread('../slike/nove/templejti/cijela-1.jpg',0)\n",
    "w, h = whole_head_down_template.shape[::-1]\n",
    "\n",
    "res = cv2.matchTemplate(img_wholes_no_other_heads, whole_head_down_template, cv2.TM_CCOEFF_NORMED)\n",
    "loc = np.where( res >= threshold)"
   ]
  },
  {
   "cell_type": "code",
   "execution_count": 30,
   "metadata": {
    "collapsed": true
   },
   "outputs": [],
   "source": [
    "for point in zip(*loc[::-1]):\n",
    "    if (add_template(single_templates_dict['whole_heads'], point)):\n",
    "        cv2.rectangle(img_wholes_no_other_heads, (point[0] + 11, point[1] + 9), (point[0] + w, point[1] + h - 7), (255,255,255), 20)\n",
    "    cv2.rectangle(img_wholes_no_other_heads_plot, point, (point[0] + w * 2, point[1] + h * 2), (0,255,255), 5)"
   ]
  },
  {
   "cell_type": "code",
   "execution_count": 31,
   "metadata": {
    "collapsed": true
   },
   "outputs": [],
   "source": [
    "whole_head_down_template = cv2.imread('../slike/nove/templejti/cijela-2.jpg',0)\n",
    "w, h = whole_head_down_template.shape[::-1]\n",
    "\n",
    "res = cv2.matchTemplate(img_wholes_no_other_heads, whole_head_down_template, cv2.TM_CCOEFF_NORMED)\n",
    "loc = np.where( res >= threshold)"
   ]
  },
  {
   "cell_type": "code",
   "execution_count": 32,
   "metadata": {
    "collapsed": true
   },
   "outputs": [],
   "source": [
    "for point in zip(*loc[::-1]):\n",
    "    if (add_template(single_templates_dict['whole_heads'], point)):\n",
    "        cv2.rectangle(img_wholes_no_other_heads, (point[0] + 11, point[1] + 9), (point[0] + w, point[1] + h - 7), (255,255,255), 20)\n",
    "    cv2.rectangle(img_wholes_no_other_heads_plot, point, (point[0] + w * 2, point[1] + h * 2), (0,255,255), 5)"
   ]
  },
  {
   "cell_type": "code",
   "execution_count": 121,
   "metadata": {
    "collapsed": true
   },
   "outputs": [],
   "source": [
    "all_notes_dict['wholes'] = single_templates_dict['whole_heads']"
   ]
  },
  {
   "cell_type": "markdown",
   "metadata": {},
   "source": [
    "# Accidentals"
   ]
  },
  {
   "cell_type": "code",
   "execution_count": 33,
   "metadata": {
    "collapsed": true
   },
   "outputs": [],
   "source": [
    "# img_accidentals - defined at the beginning\n",
    "# img_accidentals_plot - defined at the beginning\n",
    "threshold = 0.70\n",
    "accidental_template_names = [('snizilica-1','flats'), ('snizilica-2','flats'), ('snizilica-3', 'flats'), ('povisilica-1','sharps'), ('povisilica-2','sharps'), ('povisilica-3','sharps'),('razrjesilica-1', 'naturals'), ('razrjesilica-2', 'naturals')]"
   ]
  },
  {
   "cell_type": "code",
   "execution_count": 34,
   "metadata": {
    "collapsed": true
   },
   "outputs": [],
   "source": [
    "for accidental_template_name in accidental_template_names:\n",
    "    accidental_template = cv2.imread('../slike/nove/templejti/akc-' + accidental_template_name[0] + '.jpg',0)\n",
    "    w, h = accidental_template.shape[::-1]\n",
    "\n",
    "    res = cv2.matchTemplate(img_accidentals, accidental_template, cv2.TM_CCOEFF_NORMED)\n",
    "    loc = np.where( res >= threshold)\n",
    "    \n",
    "    for point in zip(*loc[::-1]):\n",
    "        if (add_template(single_templates_dict[accidental_template_name[1]], point)):\n",
    "            cv2.rectangle(img_accidentals, (point[0] + 11, point[1]), (point[0] + w, point[1] + h - 7), (255,255,255), 20)\n",
    "        cv2.circle(img_accidentals_plot, point, 30, (100,155,155), 15)"
   ]
  },
  {
   "cell_type": "markdown",
   "metadata": {},
   "source": [
    "# Accidentals + note heads"
   ]
  },
  {
   "cell_type": "code",
   "execution_count": 35,
   "metadata": {
    "collapsed": true
   },
   "outputs": [],
   "source": [
    "heads_names_arr = ['full_heads', 'half_heads', 'whole_heads']\n",
    "for sharp_x, sharp_y in single_templates_dict['sharps'].items():\n",
    "    for heads_name in heads_names_arr:\n",
    "        success, head_point = find_head_for_accidental((sharp_x, sharp_y), is_flat=False, heads_dict_name=heads_name)\n",
    "        if success:\n",
    "            all_sharps_dict[head_point[0]] = head_point[1]   \n",
    "            del single_templates_dict['sharps'][sharp_x]\n",
    "for flat_x, flat_y in single_templates_dict['flats'].items():\n",
    "    for heads_name in heads_names_arr:\n",
    "        success, head_point = find_head_for_accidental((flat_x, flat_y), is_flat=True, heads_dict_name=heads_name)\n",
    "        if success:\n",
    "            all_flats_dict[head_point[0]] = head_point[1]\n",
    "            del single_templates_dict['flats'][flat_x]\n",
    "for natural_x, natural_y in single_templates_dict['naturals'].items():\n",
    "    for heads_name in heads_names_arr:\n",
    "        success, head_point = find_head_for_accidental((natural_x, natural_y), is_flat=False, heads_dict_name=heads_name)\n",
    "        if success:\n",
    "            all_naturals_dict[head_point[0]] = head_point[1]\n",
    "            del single_templates_dict['naturals'][natural_x]"
   ]
  },
  {
   "cell_type": "markdown",
   "metadata": {},
   "source": [
    "# Eight note stems (up and down)"
   ]
  },
  {
   "cell_type": "code",
   "execution_count": 36,
   "metadata": {
    "collapsed": true,
    "scrolled": true
   },
   "outputs": [],
   "source": [
    "threshold = 0.8\n",
    "img_no_heads = img_wholes_no_other_heads.copy()\n",
    "img_no_heads_plot = img_wholes_no_other_heads_plot.copy()\n",
    "single_templates_dict['eight_stems_up'] = {}\n",
    "single_templates_dict['eight_stems_down'] = {}"
   ]
  },
  {
   "cell_type": "code",
   "execution_count": 37,
   "metadata": {
    "collapsed": true
   },
   "outputs": [],
   "source": [
    "eight_down_template = cv2.imread('../slike/nove/templejti/osmina-dole.jpg',0)\n",
    "w, h = eight_down_template.shape[::-1]\n",
    "\n",
    "res = cv2.matchTemplate(img_stems, eight_down_template, cv2.TM_CCOEFF_NORMED)\n",
    "loc = np.where( res >= threshold)"
   ]
  },
  {
   "cell_type": "code",
   "execution_count": 38,
   "metadata": {
    "collapsed": true
   },
   "outputs": [],
   "source": [
    "for point in zip(*loc[::-1]):\n",
    "    if (add_template(single_templates_dict['eight_stems_down'], point)):\n",
    "        cv2.rectangle(img_no_heads, (point[0] + 11, point[1] + 9), (point[0] + w, point[1] + h - 7), (255,255,255), 20)\n",
    "    cv2.rectangle(img_no_heads_plot, point, (point[0] + w * 2, point[1] + h / 3), (0,255,255), 5)"
   ]
  },
  {
   "cell_type": "code",
   "execution_count": 39,
   "metadata": {
    "collapsed": true
   },
   "outputs": [],
   "source": [
    "eight_down_template = cv2.imread('../slike/nove/templejti/osmina-dole-2.jpg',0)\n",
    "w, h = eight_down_template.shape[::-1]\n",
    "\n",
    "res = cv2.matchTemplate(img_stems, eight_down_template, cv2.TM_CCOEFF_NORMED)\n",
    "loc = np.where( res >= threshold)"
   ]
  },
  {
   "cell_type": "code",
   "execution_count": 40,
   "metadata": {
    "collapsed": true
   },
   "outputs": [],
   "source": [
    "for point in zip(*loc[::-1]):\n",
    "    if (add_template(single_templates_dict['eight_stems_down'], point)):\n",
    "        cv2.rectangle(img_no_heads, (point[0] + 11, point[1] + 9), (point[0] + w, point[1] + h - 7), (255,255,255), 20)\n",
    "    cv2.rectangle(img_no_heads_plot, point, (point[0] + w * 2, point[1] + h / 3), (0,255,255), 5)"
   ]
  },
  {
   "cell_type": "code",
   "execution_count": 41,
   "metadata": {
    "collapsed": true
   },
   "outputs": [],
   "source": [
    "eight_up_template = cv2.imread('../slike/nove/templejti/osmina-gore.jpg',0)\n",
    "w, h = eight_up_template.shape[::-1]\n",
    "\n",
    "res = cv2.matchTemplate(img_stems, eight_up_template, cv2.TM_CCOEFF_NORMED)\n",
    "loc = np.where( res >= threshold)"
   ]
  },
  {
   "cell_type": "code",
   "execution_count": 42,
   "metadata": {
    "collapsed": true
   },
   "outputs": [],
   "source": [
    "for point in zip(*loc[::-1]):\n",
    "    if (add_template(single_templates_dict['eight_stems_up'], point)):\n",
    "        cv2.rectangle(img_no_heads, (point[0] + 11, point[1] + 9), (point[0] + w, point[1] + h - 7), (255,255,255), 20)\n",
    "    cv2.rectangle(img_no_heads_plot, point, (point[0] + w * 2, point[1] + h / 3), (0,255,255), 5)"
   ]
  },
  {
   "cell_type": "code",
   "execution_count": 43,
   "metadata": {
    "collapsed": true
   },
   "outputs": [],
   "source": [
    "threshold = 0.7\n",
    "eight_up_template = cv2.imread('../slike/nove/templejti/osmina-gore-2.jpg',0)\n",
    "w, h = eight_up_template.shape[::-1]\n",
    "\n",
    "res = cv2.matchTemplate(img_stems, eight_up_template, cv2.TM_CCOEFF_NORMED)\n",
    "loc = np.where( res >= threshold)\n",
    "threshold = 0.8"
   ]
  },
  {
   "cell_type": "code",
   "execution_count": 44,
   "metadata": {
    "collapsed": true
   },
   "outputs": [],
   "source": [
    "for point in zip(*loc[::-1]):\n",
    "    if (add_template(single_templates_dict['eight_stems_up'], point)):\n",
    "        cv2.rectangle(img_no_heads, (point[0] + 11, point[1] + 9), (point[0] + w, point[1] + h - 7), (255,255,255), 20)\n",
    "    cv2.rectangle(img_no_heads_plot, point, (point[0] + w * 2, point[1] + h / 3), (255,0,0), 5)"
   ]
  },
  {
   "cell_type": "markdown",
   "metadata": {},
   "source": [
    "# Sixteen note stems (up and down)"
   ]
  },
  {
   "cell_type": "code",
   "execution_count": 45,
   "metadata": {
    "collapsed": true
   },
   "outputs": [],
   "source": [
    "threshold = 0.8\n",
    "single_templates_dict['sixteen_stems_up'] = {}\n",
    "single_templates_dict['sixteen_stems_down'] = {}"
   ]
  },
  {
   "cell_type": "code",
   "execution_count": 46,
   "metadata": {
    "collapsed": true
   },
   "outputs": [],
   "source": [
    "sixteen_up_template = cv2.imread('../slike/nove/templejti/sesnaestina-gore.jpg',0)\n",
    "w, h = sixteen_up_template.shape[::-1]\n",
    "\n",
    "res = cv2.matchTemplate(img_stems, sixteen_up_template, cv2.TM_CCOEFF_NORMED)\n",
    "loc = np.where( res >= threshold)"
   ]
  },
  {
   "cell_type": "code",
   "execution_count": 47,
   "metadata": {
    "collapsed": true
   },
   "outputs": [],
   "source": [
    "for point in zip(*loc[::-1]):\n",
    "    if (add_template(single_templates_dict['sixteen_stems_up'], point)):\n",
    "        cv2.rectangle(img_no_heads, (point[0] + 11, point[1] + 9), (point[0] + w, point[1] + h - 7), (255,255,255), 20)\n",
    "    cv2.rectangle(img_no_heads_plot, point, (point[0] + w * 2, point[1] + h / 3), (255,0,0), 5)"
   ]
  },
  {
   "cell_type": "code",
   "execution_count": 48,
   "metadata": {
    "collapsed": true
   },
   "outputs": [],
   "source": [
    "sixteen_down_template = cv2.imread('../slike/nove/templejti/sesnaestina-dole.jpg',0)\n",
    "w, h = sixteen_down_template.shape[::-1]\n",
    "\n",
    "res = cv2.matchTemplate(img_stems, sixteen_down_template, cv2.TM_CCOEFF_NORMED)\n",
    "loc = np.where( res >= threshold)"
   ]
  },
  {
   "cell_type": "code",
   "execution_count": 49,
   "metadata": {
    "collapsed": true
   },
   "outputs": [],
   "source": [
    "for point in zip(*loc[::-1]):\n",
    "    if (add_template(single_templates_dict['sixteen_stems_down'], point)):\n",
    "        cv2.rectangle(img_no_heads, (point[0] + 11, point[1] + 9), (point[0] + w, point[1] + h - 7), (255,255,255), 20)\n",
    "    cv2.rectangle(img_no_heads_plot, point, (point[0] + w * 2, point[1] + h / 3), (255,0,0), 5)"
   ]
  },
  {
   "cell_type": "markdown",
   "metadata": {},
   "source": [
    "# Remembering all full heads found"
   ]
  },
  {
   "cell_type": "code",
   "execution_count": 50,
   "metadata": {
    "collapsed": true
   },
   "outputs": [],
   "source": [
    "ALL_FULL_HEADS_FOUND = len(single_templates_dict['full_heads'])"
   ]
  },
  {
   "cell_type": "markdown",
   "metadata": {
    "collapsed": true
   },
   "source": [
    "# Heads + stems UP"
   ]
  },
  {
   "cell_type": "code",
   "execution_count": 51,
   "metadata": {
    "collapsed": true
   },
   "outputs": [],
   "source": [
    "for head_x, head_y in single_templates_dict['full_heads'].items(): # for each note head found\n",
    "    if (search_around_template_point_up((head_x, head_y), single_templates_dict['eight_stems_up'])):\n",
    "        all_notes_dict['eights_up'][head_x] = head_y\n",
    "        del single_templates_dict['full_heads'][head_x]\n",
    "    if (search_around_template_point_up((head_x, head_y), single_templates_dict['sixteen_stems_up'])):\n",
    "        all_notes_dict['sixteens_up'][head_x] = head_y\n",
    "        del single_templates_dict['full_heads'][head_x]"
   ]
  },
  {
   "cell_type": "markdown",
   "metadata": {},
   "source": [
    "# Heads + stems DOWN"
   ]
  },
  {
   "cell_type": "code",
   "execution_count": 52,
   "metadata": {
    "collapsed": true
   },
   "outputs": [],
   "source": [
    "for head_x, head_y in single_templates_dict['full_heads'].items(): # for each note head found\n",
    "    if (search_around_template_point_down((head_x, head_y), single_templates_dict['eight_stems_down'])):\n",
    "        all_notes_dict['eights_down'][head_x] = head_y\n",
    "        del single_templates_dict['full_heads'][head_x]\n",
    "    if (search_around_template_point_down((head_x, head_y), single_templates_dict['sixteen_stems_down'])):\n",
    "        all_notes_dict['sixteens_down'][head_x] = head_y\n",
    "        del single_templates_dict['full_heads'][head_x]"
   ]
  },
  {
   "cell_type": "markdown",
   "metadata": {},
   "source": [
    "# Hooks - START"
   ]
  },
  {
   "cell_type": "code",
   "execution_count": 53,
   "metadata": {
    "collapsed": true
   },
   "outputs": [],
   "source": [
    "img_no_heads_no_stems = img_no_heads.copy()\n",
    "img_no_heads_no_stems_plot = img_no_heads_plot.copy()"
   ]
  },
  {
   "cell_type": "code",
   "execution_count": 54,
   "metadata": {
    "collapsed": true
   },
   "outputs": [],
   "source": [
    "threshold = 0.8\n",
    "single_templates_dict['eight_hooks_up_start'] = {}\n",
    "single_templates_dict['eight_hooks_down_start'] = {}"
   ]
  },
  {
   "cell_type": "markdown",
   "metadata": {},
   "source": [
    "## Hooks - start up"
   ]
  },
  {
   "cell_type": "code",
   "execution_count": 55,
   "metadata": {
    "collapsed": true
   },
   "outputs": [],
   "source": [
    "hook_start_eight_down_template = cv2.imread('../slike/nove/templejti/kuka-gore-pocetak-1.jpg',0)\n",
    "w, h = hook_start_eight_down_template.shape[::-1]\n",
    "\n",
    "res = cv2.matchTemplate(img_no_heads_no_stems, hook_start_eight_down_template, cv2.TM_CCOEFF_NORMED)\n",
    "loc = np.where( res >= threshold)"
   ]
  },
  {
   "cell_type": "code",
   "execution_count": 56,
   "metadata": {
    "collapsed": true
   },
   "outputs": [],
   "source": [
    "for point in zip(*loc[::-1]):\n",
    "    if (add_template(single_templates_dict['eight_hooks_up_start'], point)):\n",
    "        cv2.rectangle(img_no_heads_no_stems, (point[0] + 11, point[1]), (point[0] + w, point[1] + h - 7), (255,255,255), 20)\n",
    "    cv2.rectangle(img_no_heads_no_stems_plot, point, (point[0] + w * 2, point[1] + h), (100,155,155), 5)"
   ]
  },
  {
   "cell_type": "code",
   "execution_count": 57,
   "metadata": {
    "collapsed": true
   },
   "outputs": [],
   "source": [
    "hook_start_eight_up_template = cv2.imread('../slike/nove/templejti/kuka-gore-pocetak-2.jpg',0)\n",
    "hook_start_eight_up_template_w, hook_start_eight_up_template_h = hook_start_eight_up_template.shape[::-1]\n",
    "\n",
    "res = cv2.matchTemplate(img_no_heads_no_stems, hook_start_eight_up_template, cv2.TM_CCOEFF_NORMED)\n",
    "loc = np.where( res >= threshold)"
   ]
  },
  {
   "cell_type": "code",
   "execution_count": 58,
   "metadata": {
    "collapsed": true
   },
   "outputs": [],
   "source": [
    "for point in zip(*loc[::-1]):\n",
    "    if (add_template(single_templates_dict['eight_hooks_up_start'], point)):\n",
    "        cv2.rectangle(img_no_heads_no_stems, (point[0] + 11, point[1]), (point[0] + hook_start_eight_up_template_w, point[1] + hook_start_eight_up_template_h - 7), (255,255,255), 20)\n",
    "    cv2.rectangle(img_no_heads_no_stems_plot, point, (point[0] + hook_start_eight_up_template_w * 2, point[1] + hook_start_eight_up_template_h), (100,155,155), 5)"
   ]
  },
  {
   "cell_type": "code",
   "execution_count": 59,
   "metadata": {
    "collapsed": true
   },
   "outputs": [],
   "source": [
    "hook_start_eight_up_template = cv2.imread('../slike/nove/templejti/kuka-gore-pocetak-3.jpg',0)\n",
    "hook_start_eight_up_template_w, hook_start_eight_up_template_h = hook_start_eight_up_template.shape[::-1]\n",
    "\n",
    "res = cv2.matchTemplate(img_no_heads_no_stems, hook_start_eight_up_template, cv2.TM_CCOEFF_NORMED)\n",
    "loc = np.where( res >= threshold)"
   ]
  },
  {
   "cell_type": "code",
   "execution_count": 60,
   "metadata": {
    "collapsed": true
   },
   "outputs": [],
   "source": [
    "for point in zip(*loc[::-1]):\n",
    "    if (add_template(single_templates_dict['eight_hooks_up_start'], point)):\n",
    "        cv2.rectangle(img_no_heads_no_stems, (point[0] + 11, point[1]), (point[0] + hook_start_eight_up_template_w, point[1] + hook_start_eight_up_template_h - 7), (255,255,255), 20)\n",
    "    cv2.rectangle(img_no_heads_no_stems_plot, point, (point[0] + hook_start_eight_up_template_w * 2, point[1] + hook_start_eight_up_template_h), (100,155,155), 5)"
   ]
  },
  {
   "cell_type": "markdown",
   "metadata": {},
   "source": [
    "## Hooks - start down"
   ]
  },
  {
   "cell_type": "code",
   "execution_count": 61,
   "metadata": {
    "collapsed": true
   },
   "outputs": [],
   "source": [
    "hook_start_eight_up_template = cv2.imread('../slike/nove/templejti/kuka-dole-pocetak-1.jpg',0)\n",
    "w, h = hook_start_eight_up_template.shape[::-1]\n",
    "\n",
    "res = cv2.matchTemplate(img_no_heads_no_stems, hook_start_eight_up_template, cv2.TM_CCOEFF_NORMED)\n",
    "loc = np.where( res >= threshold)"
   ]
  },
  {
   "cell_type": "code",
   "execution_count": 62,
   "metadata": {
    "collapsed": true
   },
   "outputs": [],
   "source": [
    "for point in zip(*loc[::-1]):\n",
    "    if (add_template(single_templates_dict['eight_hooks_down_start'], point)):\n",
    "        cv2.rectangle(img_no_heads_no_stems, (point[0] + 11, point[1]), (point[0] + w, point[1] + h - 7), (255,255,255), 20)\n",
    "    cv2.rectangle(img_no_heads_no_stems_plot, point, (point[0] + w * 2, point[1] + h), (100,155,155), 5)"
   ]
  },
  {
   "cell_type": "code",
   "execution_count": 63,
   "metadata": {
    "collapsed": true
   },
   "outputs": [],
   "source": [
    "hook_start_eight_up_template = cv2.imread('../slike/nove/templejti/kuka-dole-pocetak-2.jpg',0)\n",
    "w, h = hook_start_eight_up_template.shape[::-1]\n",
    "\n",
    "res = cv2.matchTemplate(img_no_heads_no_stems, hook_start_eight_up_template, cv2.TM_CCOEFF_NORMED)\n",
    "loc = np.where( res >= threshold)"
   ]
  },
  {
   "cell_type": "code",
   "execution_count": 64,
   "metadata": {
    "collapsed": true
   },
   "outputs": [],
   "source": [
    "for point in zip(*loc[::-1]):\n",
    "    if (add_template(single_templates_dict['eight_hooks_down_start'], point)):\n",
    "        cv2.rectangle(img_no_heads_no_stems, (point[0] + 11, point[1]), (point[0] + w, point[1] + h - 7), (255,255,255), 20)\n",
    "    cv2.rectangle(img_no_heads_no_stems_plot, point, (point[0] + w * 2, point[1] + h), (100,155,155), 5)"
   ]
  },
  {
   "cell_type": "code",
   "execution_count": 65,
   "metadata": {
    "collapsed": true
   },
   "outputs": [],
   "source": [
    "hook_start_eight_up_template = cv2.imread('../slike/nove/templejti/kuka-dole-pocetak-3.jpg',0)\n",
    "w, h = hook_start_eight_up_template.shape[::-1]\n",
    "\n",
    "res = cv2.matchTemplate(img_no_heads_no_stems, hook_start_eight_up_template, cv2.TM_CCOEFF_NORMED)\n",
    "loc = np.where( res >= threshold)"
   ]
  },
  {
   "cell_type": "code",
   "execution_count": 66,
   "metadata": {
    "collapsed": true
   },
   "outputs": [],
   "source": [
    "for point in zip(*loc[::-1]):\n",
    "    if (add_template(single_templates_dict['eight_hooks_down_start'], point)):\n",
    "        cv2.rectangle(img_no_heads_no_stems, (point[0] + 11, point[1]), (point[0] + w, point[1] + h - 7), (255,255,255), 20)\n",
    "    cv2.rectangle(img_no_heads_no_stems_plot, point, (point[0] + w * 2, point[1] + h), (100,155,155), 5)"
   ]
  },
  {
   "cell_type": "markdown",
   "metadata": {},
   "source": [
    "# Hooks - END"
   ]
  },
  {
   "cell_type": "code",
   "execution_count": 67,
   "metadata": {
    "collapsed": true
   },
   "outputs": [],
   "source": [
    "threshold = 0.75\n",
    "single_templates_dict['eight_hooks_up_end'] = {}\n",
    "single_templates_dict['eight_hooks_down_end'] = {}"
   ]
  },
  {
   "cell_type": "code",
   "execution_count": 68,
   "metadata": {
    "collapsed": true
   },
   "outputs": [],
   "source": [
    "hook_start_eight_down_template = cv2.imread('../slike/nove/templejti/kuka-gore-kraj-1.jpg',0)\n",
    "w, h = hook_start_eight_down_template.shape[::-1]\n",
    "\n",
    "res = cv2.matchTemplate(img_no_heads_no_stems, hook_start_eight_down_template, cv2.TM_CCOEFF_NORMED)\n",
    "loc = np.where( res >= threshold)"
   ]
  },
  {
   "cell_type": "code",
   "execution_count": 69,
   "metadata": {
    "collapsed": true
   },
   "outputs": [],
   "source": [
    "for point in zip(*loc[::-1]):\n",
    "    if (add_template(single_templates_dict['eight_hooks_up_end'], point)):\n",
    "        cv2.rectangle(img_no_heads_no_stems, (point[0] + 11, point[1]), (point[0] + w, point[1] + h - 7), (255,255,255), 20)\n",
    "    cv2.rectangle(img_no_heads_no_stems_plot, point, (point[0] + w * 2, point[1] + h), (255,0,0), 5)"
   ]
  },
  {
   "cell_type": "code",
   "execution_count": 70,
   "metadata": {
    "collapsed": true
   },
   "outputs": [],
   "source": [
    "hook_start_eight_down_template = cv2.imread('../slike/nove/templejti/kuka-gore-kraj-2.jpg',0)\n",
    "w, h = hook_start_eight_down_template.shape[::-1]\n",
    "\n",
    "res = cv2.matchTemplate(img_no_heads_no_stems, hook_start_eight_down_template, cv2.TM_CCOEFF_NORMED)\n",
    "loc = np.where( res >= threshold)"
   ]
  },
  {
   "cell_type": "code",
   "execution_count": 71,
   "metadata": {
    "collapsed": true
   },
   "outputs": [],
   "source": [
    "for point in zip(*loc[::-1]):\n",
    "    if (add_template(single_templates_dict['eight_hooks_up_end'], point)):\n",
    "        cv2.rectangle(img_no_heads_no_stems, (point[0] + 11, point[1]), (point[0] + w, point[1] + h - 7), (255,255,255), 20)\n",
    "    cv2.rectangle(img_no_heads_no_stems_plot, point, (point[0] + w * 2, point[1] + h), (0,255,0), 5)"
   ]
  },
  {
   "cell_type": "code",
   "execution_count": 72,
   "metadata": {
    "collapsed": true
   },
   "outputs": [],
   "source": [
    "hook_start_eight_down_template = cv2.imread('../slike/nove/templejti/kuka-gore-kraj-3.jpg',0)\n",
    "w, h = hook_start_eight_down_template.shape[::-1]\n",
    "\n",
    "res = cv2.matchTemplate(img_no_heads_no_stems, hook_start_eight_down_template, cv2.TM_CCOEFF_NORMED)\n",
    "loc = np.where( res >= threshold)"
   ]
  },
  {
   "cell_type": "code",
   "execution_count": 73,
   "metadata": {
    "collapsed": true
   },
   "outputs": [],
   "source": [
    "for point in zip(*loc[::-1]):\n",
    "    if (add_template(single_templates_dict['eight_hooks_up_end'], point)):\n",
    "        cv2.rectangle(img_no_heads_no_stems, (point[0] + 11, point[1]), (point[0] + w, point[1] + h - 7), (255,255,255), 20)\n",
    "    cv2.rectangle(img_no_heads_no_stems_plot, point, (point[0] + w * 2, point[1] + h), (0,0,255), 5)"
   ]
  },
  {
   "cell_type": "code",
   "execution_count": 74,
   "metadata": {
    "collapsed": true
   },
   "outputs": [],
   "source": [
    "hook_start_eight_down_template = cv2.imread('../slike/nove/templejti/kuka-dole-kraj-1.jpg',0)\n",
    "w, h = hook_start_eight_down_template.shape[::-1]\n",
    "\n",
    "res = cv2.matchTemplate(img_no_heads_no_stems, hook_start_eight_down_template, cv2.TM_CCOEFF_NORMED)\n",
    "loc = np.where( res >= threshold)"
   ]
  },
  {
   "cell_type": "code",
   "execution_count": 75,
   "metadata": {
    "collapsed": true
   },
   "outputs": [],
   "source": [
    "for point in zip(*loc[::-1]):\n",
    "    if (add_template(single_templates_dict['eight_hooks_down_end'], point)):\n",
    "        cv2.rectangle(img_no_heads_no_stems, (point[0] + 11, point[1]), (point[0] + w, point[1] + h - 7), (255,255,255), 20)\n",
    "    cv2.rectangle(img_no_heads_no_stems_plot, point, (point[0] + w * 2, point[1] + h), (200,55,55), 5)"
   ]
  },
  {
   "cell_type": "code",
   "execution_count": 76,
   "metadata": {
    "collapsed": true
   },
   "outputs": [],
   "source": [
    "hook_start_eight_down_template = cv2.imread('../slike/nove/templejti/kuka-dole-kraj-2.jpg',0)\n",
    "w, h = hook_start_eight_down_template.shape[::-1]\n",
    "\n",
    "res = cv2.matchTemplate(img_no_heads_no_stems, hook_start_eight_down_template, cv2.TM_CCOEFF_NORMED)\n",
    "loc = np.where( res >= threshold)"
   ]
  },
  {
   "cell_type": "code",
   "execution_count": 77,
   "metadata": {
    "collapsed": true
   },
   "outputs": [],
   "source": [
    "for point in zip(*loc[::-1]):\n",
    "    if (add_template(single_templates_dict['eight_hooks_down_end'], point)):\n",
    "        cv2.rectangle(img_no_heads_no_stems, (point[0] + 11, point[1]), (point[0] + w, point[1] + h - 7), (255,255,255), 20)\n",
    "    cv2.rectangle(img_no_heads_no_stems_plot, point, (point[0] + w * 2, point[1] + h), (200,55,55), 5)"
   ]
  },
  {
   "cell_type": "code",
   "execution_count": 78,
   "metadata": {
    "collapsed": true
   },
   "outputs": [],
   "source": [
    "hook_start_eight_down_template = cv2.imread('../slike/nove/templejti/kuka-dole-kraj-3.jpg',0)\n",
    "w, h = hook_start_eight_down_template.shape[::-1]\n",
    "\n",
    "res = cv2.matchTemplate(img_no_heads_no_stems, hook_start_eight_down_template, cv2.TM_CCOEFF_NORMED)\n",
    "loc = np.where( res >= threshold)"
   ]
  },
  {
   "cell_type": "code",
   "execution_count": 79,
   "metadata": {
    "collapsed": true
   },
   "outputs": [],
   "source": [
    "for point in zip(*loc[::-1]):\n",
    "    if (add_template(single_templates_dict['eight_hooks_down_end'], point)):\n",
    "        cv2.rectangle(img_no_heads_no_stems, (point[0] + 11, point[1]), (point[0] + w, point[1] + h - 7), (255,255,255), 20)\n",
    "    cv2.rectangle(img_no_heads_no_stems_plot, point, (point[0] + w * 2, point[1] + h), (200,55,55), 5)"
   ]
  },
  {
   "cell_type": "markdown",
   "metadata": {
    "collapsed": true
   },
   "source": [
    "# Heads + hooks . Start UP"
   ]
  },
  {
   "cell_type": "code",
   "execution_count": 80,
   "metadata": {},
   "outputs": [
    {
     "name": "stdout",
     "output_type": "stream",
     "text": [
      "515 562\n",
      "1560 560\n",
      "1695 935\n",
      "1058 566\n",
      "2095 558\n",
      "1721 1308\n",
      "1223 1312\n",
      "735 1309\n"
     ]
    }
   ],
   "source": [
    "for head_x, head_y in single_templates_dict['full_heads'].items():\n",
    "    if head_with_hook_up((head_x, head_y), 'eight_hooks_up_start'):\n",
    "        all_notes_dict['eights_up'][head_x] = head_y\n",
    "        all_hooks_dict['start'][head_x] = head_y\n",
    "        del single_templates_dict['full_heads'][head_x]\n",
    "        print head_x, head_y"
   ]
  },
  {
   "cell_type": "markdown",
   "metadata": {},
   "source": [
    "# Heads + hooks . Start DOWN"
   ]
  },
  {
   "cell_type": "code",
   "execution_count": 81,
   "metadata": {
    "collapsed": true
   },
   "outputs": [],
   "source": [
    "for head_x, head_y in single_templates_dict['full_heads'].items():\n",
    "    if head_with_hook_down((head_x, head_y), 'eight_hooks_down_start'):\n",
    "        all_notes_dict['eights_down'][head_x] = head_y\n",
    "        all_hooks_dict['start'][head_x] = head_y\n",
    "        del single_templates_dict['full_heads'][head_x]\n",
    "        print head_x, head_y"
   ]
  },
  {
   "cell_type": "markdown",
   "metadata": {},
   "source": [
    "# Heads + hooks . End UP"
   ]
  },
  {
   "cell_type": "code",
   "execution_count": 82,
   "metadata": {},
   "outputs": [
    {
     "name": "stdout",
     "output_type": "stream",
     "text": [
      "8\n"
     ]
    }
   ],
   "source": [
    "ends_matched = 0\n",
    "for head_x, head_y in single_templates_dict['full_heads'].items():\n",
    "    if head_with_hook_up((head_x, head_y), 'eight_hooks_up_end'):\n",
    "        all_notes_dict['eights_up'][head_x] = head_y\n",
    "        all_hooks_dict['end'][head_x] = head_y\n",
    "        del single_templates_dict['full_heads'][head_x]\n",
    "        ends_matched += 1\n",
    "print ends_matched"
   ]
  },
  {
   "cell_type": "markdown",
   "metadata": {},
   "source": [
    "# Heads + hooks . End DOWN"
   ]
  },
  {
   "cell_type": "code",
   "execution_count": 83,
   "metadata": {},
   "outputs": [
    {
     "name": "stdout",
     "output_type": "stream",
     "text": [
      "0\n"
     ]
    }
   ],
   "source": [
    "ends_matched = 0\n",
    "for head_x, head_y in single_templates_dict['full_heads'].items():\n",
    "    if head_with_hook_down((head_x, head_y), 'eight_hooks_down_end'):\n",
    "        all_notes_dict['eights_down'][head_x] = head_y\n",
    "        all_hooks_dict['end'][head_x] = head_y\n",
    "        del single_templates_dict['full_heads'][head_x]\n",
    "        ends_matched += 1\n",
    "print ends_matched"
   ]
  },
  {
   "cell_type": "markdown",
   "metadata": {},
   "source": [
    "# Declare the rest of the full note heads as quarters"
   ]
  },
  {
   "cell_type": "code",
   "execution_count": 84,
   "metadata": {
    "collapsed": true
   },
   "outputs": [],
   "source": [
    "all_notes_dict['quarters_up'] = single_templates_dict['full_heads'].copy()\n",
    "single_templates_dict['full_heads'].clear()"
   ]
  },
  {
   "cell_type": "code",
   "execution_count": 85,
   "metadata": {
    "collapsed": true
   },
   "outputs": [],
   "source": [
    "for x, y in all_notes_dict['quarters_up'].items():\n",
    "    cv2.rectangle(img_no_heads_no_stems_plot, (x,y), (x + 3, y - 100), (55,255,50), 5)"
   ]
  },
  {
   "cell_type": "markdown",
   "metadata": {},
   "source": [
    "# Dots"
   ]
  },
  {
   "cell_type": "code",
   "execution_count": 86,
   "metadata": {
    "collapsed": true
   },
   "outputs": [],
   "source": [
    "#img_dots - defined at the beginning\n",
    "#img_dots_plot - defined at the beginning\n",
    "threshold = 0.82\n",
    "#single_templates_dict['dots'] = {}\n",
    "dots_template_names = ['1', '2', '3']"
   ]
  },
  {
   "cell_type": "code",
   "execution_count": 87,
   "metadata": {
    "collapsed": true
   },
   "outputs": [],
   "source": [
    "for template_name in dots_template_names:\n",
    "    dot_template_1 = cv2.imread('../slike/nove/templejti/tacka-' + template_name + '.jpg',0)\n",
    "    w, h = dot_template_1.shape[::-1]\n",
    "\n",
    "    res = cv2.matchTemplate(img_dots, dot_template_1, cv2.TM_CCOEFF_NORMED)\n",
    "    loc = np.where( res >= threshold)\n",
    "    for point in zip(*loc[::-1]):\n",
    "        if (add_template(single_templates_dict['dots'], point)):\n",
    "            cv2.rectangle(img_dots, (point[0] + 11, point[1]), (point[0] + w, point[1] + h - 7), (255,255,255), 20)\n",
    "        cv2.circle(img_dots_plot, point, 30, (100,155,155), 15)"
   ]
  },
  {
   "cell_type": "markdown",
   "metadata": {},
   "source": [
    "# Notes + dots"
   ]
  },
  {
   "cell_type": "code",
   "execution_count": 88,
   "metadata": {
    "collapsed": true
   },
   "outputs": [],
   "source": [
    "for dot_x, dot_y in single_templates_dict['dots'].items():\n",
    "    for key in all_notes_dict.keys():\n",
    "        if (find_note_for_dot((dot_x, dot_y), all_notes_dict[key], full_head_template_w) ):\n",
    "            all_dots_dict[key][dot_x] = dot_y"
   ]
  },
  {
   "cell_type": "markdown",
   "metadata": {},
   "source": [
    "# Breaks"
   ]
  },
  {
   "cell_type": "code",
   "execution_count": 89,
   "metadata": {
    "collapsed": true
   },
   "outputs": [],
   "source": [
    "# img_breaks - defined at the beginning\n",
    "# img_breaks_plot - defined at the beginning\n",
    "threshold = 0.8\n",
    "breaks_template_names = [('osmina','eight'), ('cetvrtina','quarter'), ('cijela', 'whole')]"
   ]
  },
  {
   "cell_type": "code",
   "execution_count": 90,
   "metadata": {
    "collapsed": true
   },
   "outputs": [],
   "source": [
    "for break_template_name in breaks_template_names:\n",
    "    break_template = cv2.imread('../slike/nove/templejti/pauza-' + break_template_name[0] + '.jpg',0)\n",
    "    w, h = break_template.shape[::-1]\n",
    "\n",
    "    res = cv2.matchTemplate(img_breaks, break_template, cv2.TM_CCOEFF_NORMED)\n",
    "    loc = np.where( res >= threshold)\n",
    "    \n",
    "    for point in zip(*loc[::-1]):\n",
    "        if (add_template(single_templates_dict[break_template_name[1] + '_breaks'], point)):\n",
    "            cv2.rectangle(img_dots, (point[0] + 11, point[1]), (point[0] + w, point[1] + h - 7), (255,255,255), 20)\n",
    "        cv2.circle(img_breaks_plot, point, 30, (100,155,155), 15)"
   ]
  },
  {
   "cell_type": "code",
   "execution_count": 91,
   "metadata": {
    "collapsed": true
   },
   "outputs": [],
   "source": [
    "#plt.imshow(img_breaks_plot)"
   ]
  },
  {
   "cell_type": "code",
   "execution_count": 92,
   "metadata": {
    "collapsed": true
   },
   "outputs": [],
   "source": [
    "#plt.imshow(img_dots_plot)"
   ]
  },
  {
   "cell_type": "code",
   "execution_count": 93,
   "metadata": {
    "collapsed": true
   },
   "outputs": [],
   "source": [
    "#plt.imshow(img_accidentals_plot)"
   ]
  },
  {
   "cell_type": "code",
   "execution_count": 94,
   "metadata": {
    "scrolled": true
   },
   "outputs": [
    {
     "data": {
      "text/plain": [
       "<matplotlib.image.AxesImage at 0x815dda0>"
      ]
     },
     "execution_count": 94,
     "metadata": {},
     "output_type": "execute_result"
    },
    {
     "data": {
      "image/png": "[encoded data removed]",
      "text/plain": [
       "<matplotlib.figure.Figure at 0x7fc7828>"
      ]
     },
     "metadata": {},
     "output_type": "display_data"
    }
   ],
   "source": [
    "plt.imshow(img_no_heads_no_stems_plot)"
   ]
  },
  {
   "cell_type": "markdown",
   "metadata": {},
   "source": [
    "# Notes ordering"
   ]
  },
  {
   "cell_type": "code",
   "execution_count": 95,
   "metadata": {
    "collapsed": true
   },
   "outputs": [
    {
     "name": "stdout",
     "output_type": "stream",
     "text": [
      "eights_up {515: 562, 1285: 1319, 659: 1319, 533: 1308, 1560: 560, 1434: 947, 1695: 935, 800: 1318, 1058: 566, 1959: 946, 2095: 558, 1721: 1308, 447: 572, 1223: 1312, 586: 569, 1495: 569, 1628: 567, 735: 1309, 992: 574, 1126: 573, 2029: 566, 2164: 564, 1783: 1320, 1658: 1320, 1149: 1319}\n",
      "\n",
      "eights_down {1892: 548, 861: 552, 1533: 1300}\n",
      "\n",
      "halves_up {}\n",
      "\n",
      "halves_down {}\n",
      "\n",
      "quarters_up {1217: 552, 369: 1308, 1871: 1301, 688: 551, 344: 929, 1720: 548, 1371: 1300, 894: 1310}\n",
      "\n",
      "sixteens_down {}\n",
      "\n",
      "sixteens_up {}\n",
      "\n",
      "wholes {}\n",
      "\n",
      "quarters_down {}\n",
      "\n"
     ]
    }
   ],
   "source": [
    "# trebalo bi naći način da note ubacim u konačnu listu po redoslijedu pojavljivanja u dokumentu\n",
    "#- prolazim kroz sve podrjecnike glavnog rjecnika\n",
    "#- za svaku tacku (key, dict[key]) odredim u kom linijskom sistemu se nalazi i izmedju kojih linija tacno\n",
    "#- mozda da svaki notni sistem bude rjecnik\n",
    "#- ...\n",
    "for sub_dict_key, sub_dict_value in all_notes_dict.items():\n",
    "    print sub_dict_key, sub_dict_value\n",
    "    print"
   ]
  },
  {
   "cell_type": "code",
   "execution_count": 98,
   "metadata": {
    "collapsed": true
   },
   "outputs": [
    {
     "name": "stdout",
     "output_type": "stream",
     "text": [
      "1955 539\n",
      "1590 1292\n",
      "590 1291\n",
      "1423 542\n",
      "464 1291\n",
      "789 544\n",
      "374 545\n",
      "1465 1292\n",
      "921 545\n",
      "1082 1292\n",
      "1167 920\n",
      "1821 540\n"
     ]
    }
   ],
   "source": [
    "for x, y in single_templates_dict['eight_breaks'].items():\n",
    "    print x,y"
   ]
  },
  {
   "cell_type": "code",
   "execution_count": 129,
   "metadata": {},
   "outputs": [],
   "source": [
    "all_staves_dict = {}\n",
    "#number_of_staves = 4\n",
    "for i in range(1, number_of_staves + 1):\n",
    "    all_staves_dict[i] = []"
   ]
  },
  {
   "cell_type": "code",
   "execution_count": 130,
   "metadata": {
    "collapsed": true
   },
   "outputs": [],
   "source": [
    "min_duration = 0\n",
    "if all_notes_dict['sixteens_up'] == {} and all_notes_dict['sixteens_down'] == {}:\n",
    "    if all_notes_dict['eights_up'] == {} and all_notes_dict['eights_down'] == {}:\n",
    "        if all_notes_dict['quarters_up'] == {} and all_notes_dict['quarters_down'] == {}:\n",
    "            if all_notes_dict['halves_up'] == {} and all_notes_dict['halves_down'] == {}:\n",
    "                min_duration = 1\n",
    "            else:\n",
    "                min_duration = 2\n",
    "        else:\n",
    "            min_duration = 4\n",
    "    else:\n",
    "        min_duration = 8\n",
    "else:\n",
    "    min_duration = 16\n",
    "\n",
    "# divisions = number with which we divide a quarter to get the minimum durating note element\n",
    "divisions = min_duration / 4"
   ]
  },
  {
   "cell_type": "code",
   "execution_count": 131,
   "metadata": {
    "collapsed": true
   },
   "outputs": [],
   "source": [
    "duration_dict = {'sixteens_up': 16, 'sixteens_down': 16, 'eights_up': 8, 'eights_down': 8, 'quarters_up': 4, 'quarters_down': 4, 'halves_up': 2, 'halves_down': 2, 'wholes': 1}"
   ]
  },
  {
   "cell_type": "code",
   "execution_count": 132,
   "metadata": {
    "collapsed": true
   },
   "outputs": [],
   "source": [
    "def stem_should_be_up(pitch):\n",
    "    border_tone = 'B4'\n",
    "    return pitch[0] > border_tone[0] and pitch[1] > border_tone[1]\n",
    "\n",
    "def get_note_info(note_x, note_y, note_type, pitch):\n",
    "    \n",
    "    ret_dict_info = {} # contains all info about the note\n",
    "    \n",
    "    ret_dict_info['pitch'] = pitch\n",
    "    \n",
    "    # check for accidentals\n",
    "    if all_sharps_dict.has_key(note_x):\n",
    "        ret_dict_info['accidental'] = 'sharp'\n",
    "    elif all_flats_dict.has_key(note_x):\n",
    "        ret_dict_info['accidental'] = 'flat'\n",
    "    elif all_naturals_dict.has_key(note_x):\n",
    "        ret_dict_info['accidental'] = 'natural'\n",
    "    \n",
    "    # check stem direction, if there is one\n",
    "    if note_type.find('quarter') > -1 or note_type.find('half') > -1:\n",
    "        if stem_should_be_up(pitch):\n",
    "            ret_dict_info['stem'] = 'up'\n",
    "        else:\n",
    "            ret_dict_info['stem'] = 'down'\n",
    "    \n",
    "    if note_type.find('up') > -1:\n",
    "        ret_dict_info['stem'] = 'up'\n",
    "    if note_type.find('down') > -1:\n",
    "        ret_dict_info['stem'] = 'down'\n",
    "    \n",
    "    # if it's an eight, check for beams\n",
    "    if note_type == 'eights_up':\n",
    "        if all_hooks_dict['start'].has_key(note_x):\n",
    "            ret_dict_info['beam'] = 'begin'\n",
    "    if note_type == 'eights_down':\n",
    "        if all_hooks_dict['start'].has_key(note_x):\n",
    "            ret_dict_info['beam'] = 'end'\n",
    "    \n",
    "    # does it have it's duration lengthened by a dot\n",
    "    ret_dict_info['dot'] = note_has_dot(note_x, note_y, note_type)\n",
    "    \n",
    "    \n",
    "    # assign proper duration ;  duration_dict is as follows: 'sixteens_up': 16, 'sixteens_down': 16, 'eights_up': 8, 'eights_down': 8, 'quarters_up': 4, 'quarters_down': 4, 'halves_up': 2, 'halves_down': 2, 'wholes': 1\n",
    "    ret_dict_info['duration'] = min_duration / duration_dict[note_type]\n",
    "    \n",
    "    return ret_dict_info"
   ]
  },
  {
   "cell_type": "code",
   "execution_count": null,
   "metadata": {
    "collapsed": true
   },
   "outputs": [],
   "source": [
    "# iterate trough all dictionaries of notes and breaks\n",
    "\n",
    "# # for each dictionary of notes\n",
    "for notes_dict_name in all_notes_dict.keys():\n",
    "    for note_x, note_y in all_notes_dict[notes_dict_name].items():\n",
    "        staff_number, pitch = get_staff_and_pitch(note_x, note_y)  # staff number starts at 1\n",
    "        all_staves_dict[staff_number][(note_x, note_y)] = get_note_info(note_x, note_y, notes_dict_name, pitch)\n",
    "        all_staves_dict[staff_number][(note_x, note_y)]['type'] = notes_dict_name\n",
    "        \n",
    "\n",
    "for breaks_dict_name in all_breaks_dict.keys():\n",
    "    for break_x, break_y in all_breaks_dict[breaks_dict_name].items():\n",
    "        staff_number = get_staff(break_y)[0]\n",
    "        all_staves_dict[staff_number][(break_x, break_y)] = breaks_dict_name"
   ]
  }
 ],
 "metadata": {
  "kernelspec": {
   "display_name": "Python 2",
   "language": "python",
   "name": "python2"
  },
  "language_info": {
   "codemirror_mode": {
    "name": "ipython",
    "version": 2
   },
   "file_extension": ".py",
   "mimetype": "text/x-python",
   "name": "python",
   "nbconvert_exporter": "python",
   "pygments_lexer": "ipython2",
   "version": "2.7.14"
  },
  "widgets": {
   "application/vnd.jupyter.widget-state+json": {
    "state": {},
    "version_major": 2,
    "version_minor": 0
   }
  }
 },
 "nbformat": 4,
 "nbformat_minor": 2
}
