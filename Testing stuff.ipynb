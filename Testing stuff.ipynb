{
 "cells": [
  {
   "cell_type": "markdown",
   "metadata": {},
   "source": [
    "# testing stuff"
   ]
  },
  {
   "cell_type": "code",
   "execution_count": 1,
   "metadata": {
    "collapsed": true
   },
   "outputs": [],
   "source": [
    "import cv2\n",
    "import matplotlib.pyplot as plt  \n",
    "# iscrtavanje slika i plotova unutar samog browsera\n",
    "%matplotlib inline \n",
    "\n",
    "import matplotlib.pylab as pylab\n",
    "# prikaz vecih slika \n",
    "pylab.rcParams['figure.figsize'] = 21,15"
   ]
  },
  {
   "cell_type": "code",
   "execution_count": 3,
   "metadata": {},
   "outputs": [
    {
     "name": "stdout",
     "output_type": "stream",
     "text": [
      "a a a a a\n"
     ]
    }
   ],
   "source": [
    "for i in range(5):\n",
    "    print 'a',\n",
    "    i +=3"
   ]
  },
  {
   "cell_type": "code",
   "execution_count": 5,
   "metadata": {
    "collapsed": true
   },
   "outputs": [
    {
     "ename": "WindowsError",
     "evalue": "[Error 183] Cannot create a file when that file already exists: './images/kernel_tests/x'",
     "output_type": "error",
     "traceback": [
      "\u001b[1;31m---------------------------------------------------------------------------\u001b[0m",
      "\u001b[1;31mWindowsError\u001b[0m                              Traceback (most recent call last)",
      "\u001b[1;32m<ipython-input-5-fefd7b4265b3>\u001b[0m in \u001b[0;36m<module>\u001b[1;34m()\u001b[0m\n\u001b[0;32m      1\u001b[0m \u001b[1;32mimport\u001b[0m \u001b[0mos\u001b[0m\u001b[1;33m\u001b[0m\u001b[0m\n\u001b[0;32m      2\u001b[0m \u001b[0mos\u001b[0m\u001b[1;33m.\u001b[0m\u001b[0mmakedirs\u001b[0m\u001b[1;33m(\u001b[0m\u001b[1;34m'./images/kernel_tests/x'\u001b[0m\u001b[1;33m)\u001b[0m\u001b[1;33m\u001b[0m\u001b[0m\n\u001b[1;32m----> 3\u001b[1;33m \u001b[0mos\u001b[0m\u001b[1;33m.\u001b[0m\u001b[0mmakedirs\u001b[0m\u001b[1;33m(\u001b[0m\u001b[1;34m'./images/kernel_tests/x'\u001b[0m\u001b[1;33m)\u001b[0m\u001b[1;33m\u001b[0m\u001b[0m\n\u001b[0m",
      "\u001b[1;32mC:\\Users\\alek_\\Anaconda2\\lib\\os.pyc\u001b[0m in \u001b[0;36mmakedirs\u001b[1;34m(name, mode)\u001b[0m\n\u001b[0;32m    155\u001b[0m         \u001b[1;32mif\u001b[0m \u001b[0mtail\u001b[0m \u001b[1;33m==\u001b[0m \u001b[0mcurdir\u001b[0m\u001b[1;33m:\u001b[0m           \u001b[1;31m# xxx/newdir/. exists if xxx/newdir exists\u001b[0m\u001b[1;33m\u001b[0m\u001b[0m\n\u001b[0;32m    156\u001b[0m             \u001b[1;32mreturn\u001b[0m\u001b[1;33m\u001b[0m\u001b[0m\n\u001b[1;32m--> 157\u001b[1;33m     \u001b[0mmkdir\u001b[0m\u001b[1;33m(\u001b[0m\u001b[0mname\u001b[0m\u001b[1;33m,\u001b[0m \u001b[0mmode\u001b[0m\u001b[1;33m)\u001b[0m\u001b[1;33m\u001b[0m\u001b[0m\n\u001b[0m\u001b[0;32m    158\u001b[0m \u001b[1;33m\u001b[0m\u001b[0m\n\u001b[0;32m    159\u001b[0m \u001b[1;32mdef\u001b[0m \u001b[0mremovedirs\u001b[0m\u001b[1;33m(\u001b[0m\u001b[0mname\u001b[0m\u001b[1;33m)\u001b[0m\u001b[1;33m:\u001b[0m\u001b[1;33m\u001b[0m\u001b[0m\n",
      "\u001b[1;31mWindowsError\u001b[0m: [Error 183] Cannot create a file when that file already exists: './images/kernel_tests/x'"
     ]
    }
   ],
   "source": [
    "import os\n",
    "os.makedirs('./images/kernel_tests/x')\n",
    "# os.makedirs('./images/kernel_tests/x') # WindowsError: [Error 183] Cannot .. exists: './images/kernel_tests/x'"
   ]
  },
  {
   "cell_type": "code",
   "execution_count": 12,
   "metadata": {
    "collapsed": true
   },
   "outputs": [],
   "source": [
    "######\n",
    "# x je niz od onoliko crnih piksela koliko je prosjecna debljina linije (+-1 ili 2)\n",
    "# x = [0] * (int(thickness)-1)\n",
    "# y je niz od onoliko crnih piksela koliko je prosjecna debljina linije + 2 ili 3 ||| INT!\n",
    "#   ~ pikseli iz y niza pocinju od posljednje tacke posmatrane linije (tj.kandidata za liniju)\n",
    "# y = current_pos + int(spacing * 0.9 ili 0.8)\n",
    "# print x_in_y(x, y)\n",
    "###\n",
    "def x_in_y(x, y):\n",
    "    try:\n",
    "        x_len = len(x)\n",
    "    except TypeError:\n",
    "        x_len = 1\n",
    "        x = type(y)((x,))\n",
    "\n",
    "    for i in xrange(len(y)):\n",
    "        if (y[i : i+x_len] == x):\n",
    "            return True\n",
    "    return False"
   ]
  },
  {
   "cell_type": "code",
   "execution_count": 11,
   "metadata": {
    "collapsed": true,
    "slideshow": {
     "slide_type": "-"
    }
   },
   "outputs": [],
   "source": [
    "def locate_lines(img):\n",
    "    '''Locate lines.\n",
    "    Returns: staff lines LOCATIONS and the lines-only image'''\n",
    "    threshold = cv2.ADAPTIVE_THRESH_MEAN_C\n",
    "    method, block, c = cv2.THRESH_BINARY, 51, 35\n",
    "    img_ada = cv2.adaptiveThreshold(img, 255, threshold, method, block, c)\n",
    "\n",
    "    kernel_w, kernel_h = 1,30\n",
    "    kernel = np.ones((kernel_w, kernel_h), dtype=np.int)\n",
    "    lines_only_img = cv2.dilate(img_ada, kernel, iterations=1)\n",
    "    \n",
    "img = cv2.imread('./images/dataset/muzikanti.JPG', 0) # 0 --> read as grayscale\n",
    "# locate_lines(img)"
   ]
  },
  {
   "cell_type": "code",
   "execution_count": 35,
   "metadata": {
    "scrolled": true
   },
   "outputs": [
    {
     "name": "stdout",
     "output_type": "stream",
     "text": [
      "uint8\n"
     ]
    },
    {
     "data": {
      "text/plain": [
       "True"
      ]
     },
     "execution_count": 35,
     "metadata": {},
     "output_type": "execute_result"
    }
   ],
   "source": [
    "##### ## ## ## ## ## ## ##\n",
    "# Test of a special kernel for line reconstruction (and maybe removal of non-line symbols)\n",
    "### ## ## ## ## ## ## ##\n",
    "# Create two kernels. One with a `0` on the X spot, and one with a `1`.\n",
    "# [\n",
    "#  [1, 1, 1, 1, 1, 1, 1, 1, 1, 1, 1],\n",
    "#  [0, 0, 0, 0, 0, 0, 0, 0, 0, 0, 0],\n",
    "#  [0, 0, 0, 0, 0, 0, 0, 0, 0, 0, 0],\n",
    "#  [0, 0, 0, 0, 0, 0, 0, 0, 0, 0, 0],\n",
    "#  [0, 0, 0, 0, 0, 0, 0, 0, 0, 0, 0],\n",
    "#  [0, 0, 0, 0, 0, X, 0, 0, 0, 0, 0],\n",
    "#  [0, 0, 0, 0, 0, 0, 0, 0, 0, 0, 0],\n",
    "#  [0, 0, 0, 0, 0, 0, 0, 0, 0, 0, 0],\n",
    "#  [0, 0, 0, 0, 0, 0, 0, 0, 0, 0, 0],\n",
    "#  [0, 0, 0, 0, 0, 0, 0, 0, 0, 0, 0],\n",
    "#  [1, 1, 1, 1, 1, 1, 1, 1, 1, 1, 1]\n",
    "# ]\n",
    "kernel0 = np.zeros((11, 11), np.uint8)\n",
    "kernel0[0] = [1]*11\n",
    "kernel0[10] = [1]*11\n",
    "\n",
    "kernel1 = np.zeros((11, 11), np.uint8)\n",
    "kernel1[0] = [1]*11\n",
    "kernel1[10] = [1]*11\n",
    "kernel1[5][5] = 1 # the only difference between `kernel0` and `kernel1`\n",
    "\n",
    "img = cv2.imread('./images/my_kernel/my_kernel.jpg', 0) # as grayscale\n",
    "# img = cv2.threshold(img, 127, 255, cv2.THRESH_BINARY)\n",
    "ret, image_bin = cv2.threshold(img, 180, 255, cv2.THRESH_BINARY) # ret je vrednost praga, image_bin je binarna slika\n",
    "# plt.imshow(img_bin, 'gray')\n",
    "print image_bin.dtype\n",
    "img_er0 = cv2.erode(image_bin, kernel0)\n",
    "cv2.imwrite('./images/my_kernel/E_0.jpg', img_er0)\n",
    "img_er1 = cv2.erode(image_bin, kernel1)\n",
    "cv2.imwrite('./images/my_kernel/E_1.jpg', img_er1)\n",
    "img_dil0 = cv2.dilate(image_bin, kernel0)\n",
    "cv2.imwrite('./images/my_kernel/D_0.jpg', img_dil0)\n",
    "img_dil1 = cv2.dilate(image_bin, kernel1)\n",
    "cv2.imwrite('./images/my_kernel/D_1.jpg', img_dil1)"
   ]
  },
  {
   "cell_type": "code",
   "execution_count": 4,
   "metadata": {},
   "outputs": [
    {
     "data": {
      "text/plain": [
       "True"
      ]
     },
     "execution_count": 4,
     "metadata": {},
     "output_type": "execute_result"
    }
   ],
   "source": [
    "img = cv2.imread('./images/dataset/viva1_up.jpg')\n",
    "img = cv2.cvtColor(img, cv2.COLOR_BGR2GRAY) # konvertovanje iz BGR u GRAYSCALE\n",
    "# plt.imshow(img, 'gray')  # prikazivanje grayscale slike\n",
    "cv2.imwrite('./images/dataset/viva_gray.jpg', img)"
   ]
  }
 ],
 "metadata": {
  "kernelspec": {
   "display_name": "Python 2",
   "language": "python",
   "name": "python2"
  },
  "language_info": {
   "codemirror_mode": {
    "name": "ipython",
    "version": 2
   },
   "file_extension": ".py",
   "mimetype": "text/x-python",
   "name": "python",
   "nbconvert_exporter": "python",
   "pygments_lexer": "ipython2",
   "version": "2.7.14"
  }
 },
 "nbformat": 4,
 "nbformat_minor": 2
}
