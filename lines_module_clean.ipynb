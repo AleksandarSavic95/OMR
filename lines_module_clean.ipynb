{
 "cells": [
  {
   "cell_type": "code",
   "execution_count": 1,
   "metadata": {
    "collapsed": true
   },
   "outputs": [],
   "source": [
    "import matplotlib.pyplot as plt  \n",
    "%matplotlib inline \n",
    "\n",
    "import matplotlib.pylab as pylab\n",
    "# larger images in plot\n",
    "pylab.rcParams['figure.figsize'] = 24, 24\n",
    "\n",
    "import numpy as np\n",
    "import cv2 # OpenCV biblioteka\n",
    "\n",
    "# needed for line_thickness and space_height calculations\n",
    "from collections import Counter\n",
    "\n",
    "def show_in_window_and_below(img, below=True):\n",
    "    if (below):\n",
    "        plt.imshow(img, 'gray')\n",
    "    cv2.imshow('image', img)\n",
    "    cv2.waitKey(0)\n",
    "    cv2.destroyAllWindows()"
   ]
  },
  {
   "cell_type": "markdown",
   "metadata": {},
   "source": [
    "#### Please set the path to image that will be parsed (type ' ./ ' and press TAB for help)"
   ]
  },
  {
   "cell_type": "code",
   "execution_count": 2,
   "metadata": {
    "collapsed": true
   },
   "outputs": [],
   "source": [
    "IMAGE_PATH = './images/dataset/composicion_up.jpg'"
   ]
  },
  {
   "cell_type": "markdown",
   "metadata": {},
   "source": [
    "## Select 'Run all cells' from Cell Menu\n",
    "<br>\n",
    "<br>"
   ]
  },
  {
   "cell_type": "markdown",
   "metadata": {},
   "source": [
    "### Constants"
   ]
  },
  {
   "cell_type": "markdown",
   "metadata": {},
   "source": [
    "Image paths constants"
   ]
  },
  {
   "cell_type": "code",
   "execution_count": 3,
   "metadata": {
    "collapsed": true
   },
   "outputs": [],
   "source": [
    "DEFAULT_IMAGE_PATH = './images/dataset/bolujem.jpg'\n",
    "# folder path will not end with a slash\n",
    "TEMPLATES_PATH = './images/templates'\n",
    "RESULTS_PATH = './results'"
   ]
  },
  {
   "cell_type": "markdown",
   "metadata": {},
   "source": [
    "Pixels constants"
   ]
  },
  {
   "cell_type": "code",
   "execution_count": 4,
   "metadata": {
    "collapsed": true
   },
   "outputs": [],
   "source": [
    "BLACK = 0 # black pixel's color\n",
    "WHITE = 255 # white pixel's color"
   ]
  },
  {
   "cell_type": "markdown",
   "metadata": {},
   "source": [
    "Notes constants"
   ]
  },
  {
   "cell_type": "code",
   "execution_count": 5,
   "metadata": {
    "collapsed": true
   },
   "outputs": [],
   "source": [
    "# We currently support notes\n",
    "# from: above 2nd UPPER ledger/helper line\n",
    "# to:   below 2nd LOWER ledger/helper line\n",
    "clefs = {\n",
    "  'treble': ['D6','C6',  'B5','A5','G5','F5','E5','D5','C5',  'B4','A4','G4','F4','E4','D4','C4',  'B3','A3','G3'],\n",
    "  'bass': ['F4','E4','D4','C4',  'B3','A3','G3','F3','E3','D3','C3',  'B2','A2','G2','F2','E2','D2','C2',  'B1']\n",
    "}\n",
    "\n",
    "# some of the \"important\" element codes\n",
    "HIGHEST_SPACING = 0 #   highest ledger/helper spacing\n",
    "FIRST_LINE = 5      # first full-width staff-line\n",
    "FIFTH_LINE = 13     # last full-width staff-line\n",
    "LOWEST_SPACING = 18 #   lowest ledger/helper spacing"
   ]
  },
  {
   "cell_type": "code",
   "execution_count": 6,
   "metadata": {
    "collapsed": true
   },
   "outputs": [],
   "source": [
    "# runs calculations\n",
    "def calculate_runs(img):\n",
    "    runs = [[1] for x in xrange(img.shape[1])] # each column starts with 1 black pixel\n",
    "    black_runs_flat, white_runs_flat = [], []\n",
    "    for col in xrange(img.shape[1]): # iterate through all columns\n",
    "        img[0,col] = 0 # PAINT THE FIRST PIXEL IN PREDEFINED COLOR, to make all columns start the same\n",
    "        run_index = 0 # start the run\n",
    "        for row in xrange(1, img.shape[0]): # for each pixel/row in current column\n",
    "            if (img[row-1 ,col] != img[row, col]):  # if they are not the same,\n",
    "                # memorize the old run in corresponding array\n",
    "                if (run_index % 2 == 0): # black run\n",
    "                    black_runs_flat.append(runs[col][run_index])\n",
    "                else:\n",
    "                    white_runs_flat.append(runs[col][run_index])\n",
    "                # start a new run\n",
    "                run_index += 1\n",
    "                runs[col].append(0)\n",
    "            runs[col][run_index] += 1     # add a pixel to the current run\n",
    "        # the column ended ==> save the last run for the ended column\n",
    "        if (run_index % 2 == 0): # black run\n",
    "            black_runs_flat.append(runs[col][run_index])\n",
    "        else:\n",
    "            white_runs_flat.append(runs[col][run_index])\n",
    "    return runs, black_runs_flat, white_runs_flat"
   ]
  },
  {
   "cell_type": "markdown",
   "metadata": {},
   "source": [
    "### Line *thickness* and *spacings* (black and white runs) analysis"
   ]
  },
  {
   "cell_type": "code",
   "execution_count": 7,
   "metadata": {
    "collapsed": true
   },
   "outputs": [],
   "source": [
    "def calculate_line_thickness(black_flat):\n",
    "    num_top = 4 # number of top/most common runs\n",
    "    black_count = Counter(black_flat) # Counter({1: 3, 8: 1, 3: 1, ...})\n",
    "    m_c_black = black_count.most_common(num_top)\n",
    "    print 'Top', num_top, 'most_common_black_runs:', m_c_black\n",
    "    \n",
    "    m_c_black1 = m_c_black[0][0]\n",
    "    if (len(m_c_black) >= 2):\n",
    "        m_c_black2 = m_c_black[1][0]\n",
    "        if (m_c_black1*3 < m_c_black2): # kind of a sanity check\n",
    "            line_thickness = m_c_black1\n",
    "        else:\n",
    "            line_thickness = (m_c_black1 + m_c_black2) / 2.\n",
    "    else:\n",
    "        line_thickness = m_c_black1\n",
    "    \n",
    "    print '>>> Calculated line thickness:  ', line_thickness\n",
    "    return line_thickness\n",
    "\n",
    "def calculate_line_spacing(white_flat, image_height):\n",
    "    num_top = 4 # number of top/most common runs\n",
    "    white_count = Counter(white_flat) # print white_count.most_common(50)\n",
    "    m_c_white = white_count.most_common(num_top)\n",
    "    print 'Top', num_top, 'most common white runs', m_c_white\n",
    "    \n",
    "    m_c_white1 = m_c_white[0][0]\n",
    "    if (len(m_c_white) >= 2):\n",
    "        m_c_white2 = m_c_white[1][0]\n",
    "        \n",
    "        if (m_c_white1 > image_height*0.5): # sanity check\n",
    "            line_spacing = m_c_white2\n",
    "        else:\n",
    "            if (m_c_white2 > image_height*0.5):\n",
    "                line_spacing = m_c_white1\n",
    "            else:\n",
    "                line_spacing = (m_c_white1 + m_c_white2) / 2.\n",
    "    else:\n",
    "        line_spacing = m_c_white[0][0]\n",
    "    print '>>> Calculated line spacing: ', line_spacing\n",
    "    return line_spacing"
   ]
  },
  {
   "cell_type": "code",
   "execution_count": 8,
   "metadata": {
    "collapsed": true
   },
   "outputs": [],
   "source": [
    "def remove_staff_lines(img, runs, line_height, staff_thickness_multiplier):\n",
    "    # copy the image.. python is pass-by-object-reference so it is necessary!\n",
    "    p = img.copy() # pass-by-object-reference: https://stackoverflow.com/a/33066581/2101117\n",
    "    # NOTE: copying is NOT NECESSARY if we won't use the passed `img` after this function returns\n",
    "    #edit the image\n",
    "    for c in xrange(len(runs)):        # for every column\n",
    "        cumulative = 0 # initialize the number of passed pixels\n",
    "        for r in xrange(len(runs[c])): # for every run\n",
    "            run_length = runs[c][r]\n",
    "            if (r % 2 == 0): # black runs # every black run longer than 2 * line_height is deleted/whitened\n",
    "                if (run_length < line_height * staff_thickness_multiplier):\n",
    "                    # ++ AKO JE SLJEDEĆI/PRETHODNI %% BIJELI %% RUN = VISINA PRAZNINE +-1\n",
    "                    # ++ AKO JE SLJEDEĆI/PRETHODNI %%  CRNI  %% RUN = VISINA LINIJE +-1\n",
    "                    p[cumulative:cumulative + run_length, c] = [255]*(run_length)\n",
    "            #else: # white runs\n",
    "            #    do something maybe ?\n",
    "            cumulative += run_length\n",
    "    return p"
   ]
  },
  {
   "cell_type": "code",
   "execution_count": 9,
   "metadata": {
    "collapsed": true
   },
   "outputs": [],
   "source": [
    "def remove_staff_lines_with_lines_only(img, runs, line_height, staff_thickness_multiplier, lines_only_img):\n",
    "    # copy the image.. python is pass-by-object-reference so it is necessary!\n",
    "    p = img.copy() # pass-by-object-reference: https://stackoverflow.com/a/33066581/2101117\n",
    "    # NOTE: copying is NOT NECESSARY if we won't use the passed `img` after this function returns\n",
    "    #edit the image\n",
    "    for c in xrange(len(runs)):        # for every column\n",
    "        cumulative = 0 # initialize the number of passed pixels\n",
    "        for r in xrange(len(runs[c])): # for every run\n",
    "            run_length = runs[c][r]\n",
    "            if (r % 2 == 0): # black runs # every black run longer than 2 * line_height is erased\n",
    "                if (run_length < line_height * staff_thickness_multiplier):\n",
    "                    for compare_px in xrange(cumulative, cumulative + run_length):\n",
    "                        if (lines_only_img[compare_px, c] == BLACK):\n",
    "                            p[compare_px, c] = 255\n",
    "                        # p[cumulative:cumulative + run_length, c] = [255]*(run_length)\n",
    "            cumulative += run_length\n",
    "    return p"
   ]
  },
  {
   "cell_type": "markdown",
   "metadata": {},
   "source": [
    "< # # # #  # # # #  # # # #  # # # #  # # # #  # # # >\n",
    "### (RLE) run-based approach to  LOCATING  STAVES\n",
    "< # # # #  # # # #  # # # #  # # # #  # # # #  # # # >"
   ]
  },
  {
   "cell_type": "code",
   "execution_count": 10,
   "metadata": {
    "collapsed": true
   },
   "outputs": [],
   "source": [
    "# FOR ONE STAVE -- Y_location\n",
    "def print_staff_locations_y(staff_locations):\n",
    "    staves_keylist = staff_locations.keys()\n",
    "    staves_keylist.sort()\n",
    "    print '\\nSORT %d staves and their lines by y-coordinates' % (len(staff_locations))\n",
    "    # print staff_locations\n",
    "    for staves_key in staves_keylist:\n",
    "        print \"  STAVE AT Y = %s\" % (staves_key)\n",
    "        staff = staff_locations[staves_key][1]\n",
    "        staff_keylist = staff.keys()\n",
    "        staff_keylist.sort()\n",
    "        for staff_key in staff_keylist:\n",
    "            print '\\tstaff element %s: %s' % (staff_key, staff[staff_key])\n",
    "        print ''\n",
    "\n",
    "# FOR MULTIPLE STAVES --- X_locations\n",
    "def print_staff_locations_x(staff_locations_x):\n",
    "    print 'staff_locations', staff_locations_x\n",
    "    if staff_locations_x == {}:\n",
    "        print 'Staff locations are EMPTY! :O'\n",
    "        return -1\n",
    "    \n",
    "    staff_locations_x_keys = staff_locations_x.keys()\n",
    "    staff_locations_x_keys.sort()\n",
    "    print '\\n----\\nSORT %d staff location dictionaries' % (len(staff_locations_x))\n",
    "    for staff_loc_x_key in staff_locations_x_keys:\n",
    "        print '----\\nStaves for x =', staff_loc_x_key\n",
    "        staff_locations = staff_locations_x[staff_loc_x_key]\n",
    "        print_staff_locations_y(staff_locations)\n",
    "    return 0\n",
    "\n",
    "# Adds \"help\" lines and spaces (eng. \"ledger lines/spaces\") to `locaions` dictionary\n",
    "def add_helper_spaces_and_lines(locations, line_thickness, line_spacing, cumulative):\n",
    "    line_thickness = int(round(line_thickness)) # round(2.4) = 2 ||| round(2.6) = 3  :)\n",
    "    line_spacing = int(round(line_spacing))\n",
    "    \n",
    "    help_space_3_up_y = cumulative - (2 * line_thickness) - (3 * line_spacing) \n",
    "    locations[help_space_3_up_y] = (0, line_spacing)\n",
    "    help_line_2_up_y = cumulative - (2 * line_thickness) - (2 * line_spacing)\n",
    "    locations[help_line_2_up_y] = (1, line_thickness)\n",
    "    help_space_2_up_y = cumulative - (1 * line_thickness) - (2 * line_spacing)\n",
    "    locations[help_space_2_up_y] = (2, line_spacing)\n",
    "    help_line_1_up_y = cumulative - (1 * line_thickness) - (1 * line_spacing)\n",
    "    locations[help_line_1_up_y] = (3, line_thickness)\n",
    "    help_space_1_up_y = cumulative - (0 * line_thickness) - (1 * line_spacing)\n",
    "    locations[help_space_1_up_y] = (4, line_spacing)\n",
    "    \n",
    "    lowest_line = max(locations.keys()) # MAX because the lower the LINE, the bigger the Y-coordinate\n",
    "    lowest_line_end = lowest_line + locations[lowest_line][1]\n",
    "    \n",
    "    help_space_1_down_y = lowest_line_end + (0 * line_thickness) + (0 * line_spacing)\n",
    "    locations[help_space_1_down_y] = (14, line_spacing)\n",
    "    help_line_1_down_y = lowest_line_end + (0 * line_thickness) + (1 * line_spacing)\n",
    "    locations[help_line_1_down_y] = (15, line_thickness)\n",
    "    help_space_2_down_y = lowest_line_end + (1 * line_thickness) + (1 * line_spacing)\n",
    "    locations[help_space_2_down_y] = (16, line_spacing)\n",
    "    help_line_2_down_y = lowest_line_end + (1 * line_thickness) + (2 * line_spacing)\n",
    "    locations[help_line_2_down_y] = (17, line_thickness)\n",
    "    help_space_3_down_y = lowest_line_end + (2 * line_thickness) + (2 * line_spacing) \n",
    "    locations[help_space_3_down_y] = (18, line_spacing)\n",
    "    return 0 # everything is OK\n",
    "\n",
    "def run_is_spacing_candidate(run_length, line_spacing):\n",
    "    return (line_spacing * 0.85 <= run_length <= line_spacing * 1.15)\n",
    "\n",
    "def run_is_line_candidate(run_length, line_thickness):\n",
    "#     lower_bound = line_thickness * 0.4 if line_thickness > 3.6 else 1 # Helps with thin average lines\n",
    "    return (line_thickness * 0.4 <= run_length <= line_thickness * 1.6)\n",
    "    \n",
    "# Checks if there is a staff and returns a tuple (found, start_pixel, locations, end_pixel)\n",
    "#   1.1) True,  or  False\n",
    "#   1.2) The y-coordinate of the stave's START (start_pixel),  or  -1\n",
    "#   1.3) Dictionary of pairs: (line_or_space_start_y, (line_space_CODE, line_thickness))\n",
    "#   1.4) The y-coordinate of the stave's END (end_pixel),  or  -1\n",
    "def get_staff_with_spaces(run_index, runs, image_column, cumulative, line_thickness, line_spacing):\n",
    "    # initialize the return dictionary with a line number 1, which has the CODE=5. Why 5? See the next line\n",
    "    # >> help_space3_up (CODE=0), help_line2_up, help_space2_up, help_line1_up, help_space1_up, FIRST_LINE\n",
    "    locations = {cumulative: (5, runs[run_index])} # first line starts at the current index\n",
    "    line_space_counter = 6 # first line is saved, now go for other SPACES AND LINES\n",
    "    # cumulative -> how low (Y) are we in this image column - Make_first_row_black_in_runs_calc idea will be discarded!\n",
    "    end_pixel = cumulative + runs[run_index] # determines the y-coordinate where this the last-found element end\n",
    "    stave_found = True\n",
    "    \n",
    "    for i in range(1, 9):\n",
    "        run_length = runs[run_index + i]\n",
    "        if i%2 == 1: # i is odd for line_spacings, since for i=0 we get first LINE's index (run_index)\n",
    "            if not run_is_spacing_candidate(run_length, line_spacing):\n",
    "                stave_found = False\n",
    "                break\n",
    "        else: # i%2 == 0\n",
    "            if not run_is_line_candidate(run_length, line_thickness):\n",
    "                stave_found = False\n",
    "                break\n",
    "        # we came to execute this line, so this run (space/line) is ok\n",
    "        locations[end_pixel] = (line_space_counter, run_length) # add the SPACE/LINE\n",
    "        line_space_counter += 1 # look for the next SPACES AND LINES\n",
    "        end_pixel += run_length # advance down the column\n",
    "    \n",
    "    if not stave_found:\n",
    "        return False, -1, {}, -1 # not_found, no_start, no_locations, no_end\n",
    "    \n",
    "    # prepare the return values\n",
    "    add_helper_spaces_and_lines(locations, line_thickness, line_spacing, cumulative)\n",
    "    start_pixel = min(locations.keys())\n",
    "    # get the last line's y_coordinate and add her height to it -- that's where this stave ends\n",
    "    lowest_space = max(locations.keys()) # MAX because the lower the SPACE, the bigger the Y-coordinate\n",
    "    end_pixel = lowest_space + locations[lowest_space][1] # lowest SPACE at `lowest_space`, height: locations[lowest_space][1]\n",
    "    return True, start_pixel, locations, end_pixel\n",
    "\n",
    "# IS beginning of the first stave close to the beginning of the second?\n",
    "def staves_are_close(stave1, stave2, line_thickness):\n",
    "    return abs(stave1[1][0] - stave2[1][0]) < line_thickness\n",
    "\n",
    "def find_staves_in_runs(runs, image_column, line_thickness, line_spacing):\n",
    "    run_index = 0 # current run index\n",
    "    cumulative = 0 # how many pixels did we pass - for getting run's color# The paint_the_first_row_black idea will be discarded!!!\n",
    "    \n",
    "    staff_counter = 0\n",
    "    staves = {}\n",
    "    while (run_index < len(runs)):# WHILE, because we need more control over the index vlue\n",
    "        run_length = runs[run_index]\n",
    "        if (image_column[cumulative] == BLACK and run_is_line_candidate(run_length, line_thickness)):\n",
    "            staff_is_found, start_pixel, staff, end_pixel = get_staff_with_spaces(run_index, runs, image_column, cumulative, line_thickness, line_spacing)\n",
    "            if (staff_is_found): # YEA!\n",
    "                staff_counter += 1\n",
    "                staves[start_pixel] = (staff_counter, staff, end_pixel)\n",
    "                # A staff was found, so we need to go down 8 runs (4*spacing, 4*line) until the last line of this staff\n",
    "                for r_i in range(run_index, run_index+9): # OR 8??\n",
    "                    cumulative += runs[r_i] # print 'adding', runs[r_i], 'to cumulative'\n",
    "                run_index += 8\n",
    "            else: # staff was NOT found\n",
    "                cumulative += run_length\n",
    "        else:\n",
    "            cumulative += run_length\n",
    "        run_index += 1\n",
    "    \n",
    "    return len(staves), staves # return the size and the staves dictionary\n",
    "\n",
    "# check that NO staves from the `staves` dictionary are close to this `stave`\n",
    "def no_staves_are_close(staves, stave, staff_start):\n",
    "    close_range = (stave[2] - staff_start)/2\n",
    "    starts_list = range(staff_start - close_range, staff_start + close_range + 1) # + 1 because range() doesn't include the last element\n",
    "    starts_list.remove(staff_start)\n",
    "    intersection = [start for start in starts_list if start in staves]\n",
    "    return intersection == []"
   ]
  },
  {
   "cell_type": "markdown",
   "metadata": {},
   "source": [
    "### Check that staffs for each key (X coordinate) are counted well -- in the following code cell\n",
    "     sheet music\n",
    "    '''''''''''''\n",
    "    |   TITLE   | If each dash (-) is one X value, then the\n",
    "    | --------- | first 4 Xes will have 2 staves, and the \n",
    "    | ----      | remaining 5 will have only one.\n",
    "    |___________| NOTE: staff numbers in dictionary tuples START FROM 1"
   ]
  },
  {
   "cell_type": "code",
   "execution_count": 11,
   "metadata": {
    "collapsed": true
   },
   "outputs": [],
   "source": [
    "def any_keys_close_to(possibly_missing_key, smaller_dict, threshold=40):\n",
    "    for key in smaller_dict:\n",
    "        diff = abs(key - possibly_missing_key)\n",
    "        if (diff <= threshold): # there IS a key close to the possibly_missing_key\n",
    "            return True\n",
    "    # We came here, so no keys close to the possibly_missing_key!\n",
    "    return False\n",
    "\n",
    "def get_keys_not_in_second_dict(bigger_dict, smaller_dict):\n",
    "    missing_keys = []\n",
    "    for possibly_missing_key in bigger_dict:\n",
    "        if not(any_keys_close_to(possibly_missing_key, smaller_dict)):\n",
    "            missing_keys.append(possibly_missing_key)\n",
    "            print 'FOUND MISSING KEY', possibly_missing_key\n",
    "    return missing_keys\n",
    "\n",
    "def copy_staff_from_a_valid_dictionary(valid_x_staves_loc, invalid_x_staves_loc, printing_on=False):\n",
    "    if (printing_on):\n",
    "        print '\\t:::::;;; PRINTING VALID AND INVALID STAVES_LOC DICTIONARIES ;;:::::::'\n",
    "        print '\\n ===== VALID ===='\n",
    "        print_staff_locations_y(valid_x_staves_loc)\n",
    "        print '\\n ===== INVALID ===='\n",
    "        print_staff_locations_y(invalid_x_staves_loc)\n",
    "    \n",
    "    # get the keys and sort them\n",
    "    sorted_VALID_dict_keys = valid_x_staves_loc.keys()\n",
    "    sorted_VALID_dict_keys.sort()\n",
    "    \n",
    "    sorted_INVALID_dict_keys = invalid_x_staves_loc.keys()\n",
    "    sorted_INVALID_dict_keys.sort()\n",
    "    \n",
    "    \n",
    "    # memorize their lenghts\n",
    "    valid_keys_length = len(sorted_VALID_dict_keys)\n",
    "    invalid_keys_length = len(sorted_INVALID_dict_keys)\n",
    "    \n",
    "    difference_in_key_lenght = valid_keys_length - invalid_keys_length\n",
    "    if (difference_in_key_lenght > 0): # Invalid dictionary is missing some staves - more common case\n",
    "        keys_not_present_in_invalid_dict = get_keys_not_in_second_dict(sorted_VALID_dict_keys, sorted_INVALID_dict_keys)\n",
    "        print 'keys that INVALID dict is missing:', keys_not_present_in_invalid_dict\n",
    "        for valid_missing_keys in keys_not_present_in_invalid_dict:\n",
    "            invalid_x_staves_loc[valid_missing_keys] = valid_x_staves_loc[valid_missing_keys]\n",
    "    else: # invalid dict has more \"staves\" ---- just delete the invalid values :D\n",
    "        invalid_staffs_keys = []\n",
    "        # SLICE IT!!!\n",
    "        keys_not_present_in_valid_dict = get_keys_not_in_second_dict(sorted_INVALID_dict_keys, sorted_VALID_dict_keys)\n",
    "        print 'keys that VALID dict is missing:', keys_not_present_in_valid_dict\n",
    "        for invalid_key in keys_not_present_in_valid_dict:\n",
    "            print 'deleting key', loc_key, '.. use my_dict.pop(key, None) to get and delete it'\n",
    "            del invalid_x_staves_loc[invalid_key]\n",
    "    \n",
    "    # we need to sort the keys again, since their number changed\n",
    "    sorted_INVALID_dict_keys = invalid_x_staves_loc.keys()\n",
    "    sorted_INVALID_dict_keys.sort()\n",
    "    \n",
    "    print 'adjusting fixed dictionary\\'s staff numbers...'\n",
    "    staff_counter = 1 # staff numbers start from ONE\n",
    "    for staff_key in sorted_INVALID_dict_keys:\n",
    "        print 'Staff at y = %d had the number %d' % (staff_key, invalid_x_staves_loc[staff_key][0])\n",
    "        # staves[start_pixel] = (staff_counter, staff, end_pixel)\n",
    "        invalid_x_staves_loc[staff_key] = (staff_counter, invalid_x_staves_loc[staff_key][1], invalid_x_staves_loc[staff_key][2])\n",
    "        print 'Now, the number is %d' % (invalid_x_staves_loc[staff_key][0])\n",
    "        staff_counter += 1\n",
    "    print '\\t <<<< FIXING DONE! >>> '\n",
    "    if (printing_on):\n",
    "        print '\\t:::::;;; PRINTING VALID AND INVALID STAVES_LOC DICTIONARIES ;;:::::::'\n",
    "        print '\\n ===== VALID ===='\n",
    "        print_staff_locations_y(valid_x_staves_loc)\n",
    "        print '\\n ===== INVALID - NOW ALSO VALID ===='\n",
    "        print_staff_locations_y(invalid_x_staves_loc)\n",
    "    return 0\n",
    "\n",
    "def get_invalid_x_stave_locations(x_stave_locations):\n",
    "    print '\\n~ ~ ~ ~ ~ ~\\n  validating x_stave_locations....'\n",
    "    invalid_x_stave_locations = [] # not used...\n",
    "    sorted_x_staves_keys = x_stave_locations.keys()\n",
    "    sorted_x_staves_keys.sort()\n",
    "    lengths = [len(x_stave_locations[x_staves_key]) for x_staves_key in sorted_x_staves_keys]\n",
    "    \n",
    "    # initialize the currently valid length to the maximum length\n",
    "    max_length = max(lengths)\n",
    "    valid_lenght = max_length\n",
    "    print 'lengths: ', lengths, '| max:', valid_lenght\n",
    "    \n",
    "    index_of_key = 0\n",
    "    for x_staves_key in sorted_x_staves_keys:\n",
    "        current_x_staves_loc = x_stave_locations[x_staves_key]\n",
    "        current_length = len(current_x_staves_loc)# print 'checking key:', x_staves_key, 'of size', current_length\n",
    "        \n",
    "        if (current_length <= valid_lenght): # the number of staves can decrease (or stay the same)\n",
    "            valid_lenght = current_length\n",
    "        else: # but if it INCREASES, it's probably an ERROR!\n",
    "            print ' >> WARNING << number of staves for X = %s is BIGGER than the last one' % x_staves_key\n",
    "            print ' >> trying to fix it...'\n",
    "            # determine where is the error\n",
    "            # We will fix it by copying the missing staves from a neighbour x_stave_location dictionary\n",
    "            if (index_of_key - 1 > 0):\n",
    "                one_x_staves_loc_before = x_stave_locations[sorted_x_staves_keys[index_of_key - 1]]\n",
    "                if (index_of_key + 1 < len(sorted_x_staves_keys)): # one after\n",
    "                    one_after_or_two_x_staves_loc_before = x_stave_locations[sorted_x_staves_keys[index_of_key + 1]]\n",
    "                else: # if it's the last dictionary, go two dicts behind\n",
    "                    if (index_of_key - 2 >= 0):\n",
    "                        one_after_or_two_x_staves_loc_before = x_stave_locations[sorted_x_staves_keys[index_of_key - 2]]\n",
    "                    else:\n",
    "                        print ' >>WARNING<< size is equal to (2?) --->', len(sorted_x_staves_keys)\n",
    "                        one_after_or_two_x_staves_loc_before = one_x_staves_loc_before # just do something.. :D\n",
    "                        return []\n",
    "                \n",
    "                # if the two nearest neighbours are of even sizes, this dict is invalid!\n",
    "                if len(one_x_staves_loc_before) == len(one_after_or_two_x_staves_loc_before):\n",
    "                    print 'error found in this dictionary'\n",
    "                    valid_x_staves_loc = one_x_staves_loc_before\n",
    "                    invalid_x_staves_loc = current_x_staves_loc\n",
    "                else: # We ASSUME that the invalid dictionary was the one BEFORE the current one\n",
    "                    print 'INVALID is the one before this, with key', sorted_x_staves_keys[index_of_key - 1]\n",
    "                    valid_x_staves_loc = current_x_staves_loc # We ASSUME that current dict is valid\n",
    "                    invalid_x_staves_loc = x_stave_locations[sorted_x_staves_keys[index_of_key - 1]]\n",
    "                # try to fix the problem\n",
    "                copy_staff_from_a_valid_dictionary(valid_x_staves_loc, invalid_x_staves_loc)\n",
    "            else: # The first dictionary is invalid :O # WE ASSUME THAT THE SECOND DICT IS VALID !!!\n",
    "                print ' >> WARNING << first x_stave_location is shorter than the max | ', # comma--print to same line\n",
    "                print '(%d < %d)' % (len(first_x_stave_location), valid_lenght)\n",
    "                print 'unahndled case - watch for exceptions and check results! Women and children first! :D'\n",
    "                return [sorted_x_staves_keys[0]]\n",
    "        index_of_key += 1 # !!!\n",
    "    \n",
    "    return [], max_length # \"Everything is OK.\""
   ]
  },
  {
   "cell_type": "markdown",
   "metadata": {},
   "source": [
    "### Main method for locating staves  (it calls find_staves_in_runs (two cells above))"
   ]
  },
  {
   "cell_type": "code",
   "execution_count": 12,
   "metadata": {
    "collapsed": true
   },
   "outputs": [],
   "source": [
    "def locate_lines_with_runs(lines_only_img):\n",
    "    print 'lines_only_img dimensions', lines_only_img.shape\n",
    "    img_height, img_width = lines_only_img.shape # unpack values\n",
    "    \n",
    "    # runs calculation, for thickness and spacing\n",
    "    runs, black_runs_flat, white_runs_flat = calculate_runs(lines_only_img)\n",
    "    line_thickness = calculate_line_thickness(black_runs_flat)\n",
    "    line_spacing = calculate_line_spacing(white_runs_flat, img_height)\n",
    "    \n",
    "    # get the columns that we will check for lines  #  IDEA:  Parametrize this! -- described in  IDEJE.txt\n",
    "    columns_to_check = [img_width/5, img_width/4, img_width/3, img_width/2, img_width/3*2, img_width/4*3]\n",
    "    print 'columns_to_check', columns_to_check\n",
    "    \n",
    "    search_width = 3 # how wide will we look arround each pixel - to BOTH sides!\n",
    "    resulting_staves = {} # DICTIONARY!\n",
    "    \n",
    "    for col_to_check in columns_to_check:\n",
    "        column_staves = resulting_staves[col_to_check] = {} # shorter name === column_staves\n",
    "        \n",
    "        start_column, end_column = col_to_check-search_width, col_to_check+search_width\n",
    "        column_range = range(start_column, end_column + 1) # + 1 because range() doesn't include the last element\n",
    "        for col in column_range:\n",
    "            image_column = lines_only_img[0:img_height, col].tolist() # convert numpy array to python list\n",
    "            num_of_staves, staves = find_staves_in_runs(runs[col], image_column, line_thickness, line_spacing)\n",
    "            if (num_of_staves > 0):\n",
    "                for staff_start in staves: # iterate through keys # or something like that\n",
    "                    # IF there is NO staffs that are close to this one (on y-axis)\n",
    "                    if (no_staves_are_close(column_staves, staves[staff_start], staff_start)):\n",
    "                        column_staves[staff_start] = staves[staff_start]\n",
    "    \n",
    "    invalid_x_stave_locations, number_of_staves = get_invalid_x_stave_locations(resulting_staves)\n",
    "    if (invalid_x_stave_locations == []):\n",
    "        return resulting_staves, number_of_staves\n",
    "    return {}"
   ]
  },
  {
   "cell_type": "code",
   "execution_count": 13,
   "metadata": {
    "collapsed": true
   },
   "outputs": [],
   "source": [
    "def dilate_and_save(img, kernel_w, kernel_h):\n",
    "    '''Dilates a binary image with kernel of specified dimensions.\n",
    "    saves the image to hard drive and returns the saved image'''\n",
    "    kernel = np.ones((kernel_w, kernel_h), dtype=np.int)\n",
    "    lines_only_img = cv2.dilate(img, kernel, iterations=1)\n",
    "    lines_only_img_path = RESULTS_PATH + '/dil_{}_{}.jpg'.format(kernel_w, kernel_h)\n",
    "    cv2.imwrite(lines_only_img_path, lines_only_img)\n",
    "    return lines_only_img\n",
    "\n",
    "def erode_and_save(img, kernel_w_e, kernel_h_e, kernel_w_d=0, kernel_h_d=0):\n",
    "    '''Erodes a binary image with kernel of specified dimensions.\n",
    "    saves the image to hard drive and returns the saved image'''\n",
    "    if (kernel_w_d == 0):\n",
    "        dil_str = ''\n",
    "    else:\n",
    "        dil_str = '_dil_{}_{}'.format(kernel_w_d, kernel_h_d)\n",
    "    kernel = np.ones((kernel_w_e, kernel_h_e), dtype=np.int)\n",
    "    lines_only_img = cv2.erode(img, kernel, iterations=1)\n",
    "    lines_only_img_path = RESULTS_PATH + '/er_{}_{}{}.jpg'.format(kernel_w_e, kernel_h_e, dil_str)\n",
    "    cv2.imwrite(lines_only_img_path, lines_only_img)\n",
    "    return lines_only_img"
   ]
  },
  {
   "cell_type": "markdown",
   "metadata": {},
   "source": [
    "### Two approaches on getting the lines-only image:\n",
    "####  |__ 1: dilate and then erode with a very wide kernel (written right below this heading)\n",
    "####  |__ 2: use the previous approach's image + remove all non-staff-line symbols (implementation started in 'testing stuff' notebook)"
   ]
  },
  {
   "cell_type": "code",
   "execution_count": 14,
   "metadata": {
    "collapsed": true
   },
   "outputs": [],
   "source": [
    "def get_lines_only_img(img):\n",
    "    threshold = cv2.ADAPTIVE_THRESH_MEAN_C\n",
    "    method, block, c = cv2.THRESH_BINARY, 55, 9\n",
    "    img_ada = cv2.adaptiveThreshold(img, 255, threshold, method, block, c)\n",
    "\n",
    "    # dilate with 1x50 --> erode with 2x50  | this has the best results\n",
    "    kernel_w, kernel_h = 1, 50\n",
    "    dilated = dilate_and_save(img_ada, kernel_w, kernel_h)\n",
    "    kernel_w_e, kernel_h_e = 2, 50\n",
    "    return erode_and_save(dilated, kernel_w_e, kernel_h_e, kernel_w, kernel_h)\n",
    "\n",
    "def get_staves_x_locations(img, print_result=True):\n",
    "    '''Locate lines on the given image and print results (if print_results is `True`)\n",
    "    Returns: staff lines LOCATIONS and the maximum number of staves in one image's column.'''\n",
    "    lines_only_img = get_lines_only_img(img) # get_lines_only_img_CLEAR # approach 2 - maybe in the future\n",
    "    \n",
    "    # use the lines-only image to locate the staves\n",
    "    staff_locations, number_of_staves = locate_lines_with_runs(lines_only_img)\n",
    "    \n",
    "    if (print_result):\n",
    "        print_staff_locations_x(staff_locations)\n",
    "    print '\\n\\n==== ==== ====\\n Setting X-staves locations and maximum number of staves in a column...\\nDone!'\n",
    "    return staff_locations, number_of_staves, lines_only_img"
   ]
  },
  {
   "cell_type": "markdown",
   "metadata": {},
   "source": [
    "# = = = = = = = = = = vvv = = = = = = = = = = =\n",
    "# <<< IMAGE IS BEING LOADED HERE >>>\n",
    "<h2>Obtain X-staves locations, maximum number of staves and the *lines-only* image</h2>"
   ]
  },
  {
   "cell_type": "code",
   "execution_count": 15,
   "metadata": {},
   "outputs": [
    {
     "name": "stdout",
     "output_type": "stream",
     "text": [
      "lines_only_img dimensions (3264L, 2448L)\n",
      "Top 4 most_common_black_runs: [(4, 15323), (3, 3140), (5, 2794), (1, 2448)]\n",
      ">>> Calculated line thickness:   3.5\n",
      "Top 4 most common white runs [(16, 12196), (17, 2875), (15, 1884), (296, 1305)]\n",
      ">>> Calculated line spacing:  16.5\n",
      "columns_to_check [489L, 612L, 816L, 1224L, 1632L, 1836L]\n",
      "\n",
      "~ ~ ~ ~ ~ ~\n",
      "  validating x_stave_locations....\n",
      "lengths:  [2, 2, 2, 2, 2, 2] | max: 2\n",
      "\n",
      "\n",
      "==== ==== ====\n",
      " Setting X-staves locations and maximum number of staves in a column...\n",
      "Done!\n"
     ]
    }
   ],
   "source": [
    "if (IMAGE_PATH == ''):\n",
    "    IMAGE_PATH = DEFAULT_IMAGE_PATH\n",
    "img = cv2.imread(IMAGE_PATH, 0) # 0 --> read as grayscale\n",
    "staves_x_locations, number_of_staves, lines_only_img = get_staves_x_locations(img, False) # False ---> DON'T PRINT!"
   ]
  },
  {
   "cell_type": "code",
   "execution_count": 16,
   "metadata": {},
   "outputs": [
    {
     "name": "stdout",
     "output_type": "stream",
     "text": [
      "Top 4 most_common_black_runs: [(3, 11529), (4, 5652), (1, 3340), (2, 1486)]\n",
      ">>> Calculated line thickness:   3.5\n",
      "Top 4 most common white runs [(17, 8749), (16, 3693), (18, 1154), (297, 961)]\n",
      ">>> Calculated line spacing:  16.5\n",
      "No-lines image is saved at: ./results/composicion_up_RM_S_L_LINES_ONLY_b55_c35_ada0_er_kw4.jpg\n"
     ]
    }
   ],
   "source": [
    "def get_image_name():\n",
    "    dot_index = IMAGE_PATH.rfind('.')  # last dot's index\n",
    "    last_slash = IMAGE_PATH.rfind('/') # last slash index\n",
    "    image_name = IMAGE_PATH[last_slash + 1 : dot_index]\n",
    "    return image_name\n",
    "\n",
    "# generates and saves the no-lines image to a file and returns it's name\n",
    "def gen_and_save_no_lines_image(img, lines_only_img):\n",
    "    adaptiveMethod, thresholdType, blockSize, C = cv2.ADAPTIVE_THRESH_MEAN_C, cv2.THRESH_BINARY, 55, 35\n",
    "\n",
    "    img_ada = cv2.adaptiveThreshold(img, 255, adaptiveMethod, thresholdType, blockSize, C)\n",
    "\n",
    "    runs, black_runs_flat, white_runs_flat = calculate_runs(img_ada) # runs calculation, for thickness and spacing\n",
    "    line_thickness = calculate_line_thickness(black_runs_flat)\n",
    "    line_spacing = calculate_line_spacing(white_runs_flat, img_ada.shape[0]) # calculation needs image height\n",
    "\n",
    "    lines_only_img = get_lines_only_img(img) # ...\n",
    "    erode_width = int(line_thickness + 1)\n",
    "    lines_only_img = cv2.erode(lines_only_img, np.ones((erode_width, 1), dtype=np.int)) # thickens the lines\n",
    "\n",
    "    thickness_mul = 1.5 # staff_thickness_multiplier\n",
    "\n",
    "    # we can send the grayscale image, also :D  Just send `img` instead of `img_ada`\n",
    "    result = remove_staff_lines_with_lines_only(img_ada, runs, line_thickness, thickness_mul, lines_only_img)\n",
    "    no_lines_image_path = RESULTS_PATH + '/' + get_image_name() + '_RM_S_L_LINES_ONLY_b{}_c{}_ada{}_er_kw{}.jpg'\n",
    "    no_lines_image_path = no_lines_image_path.format(blockSize, C, adaptiveMethod, erode_width)\n",
    "    cv2.imwrite(no_lines_image_path, result)\n",
    "    \n",
    "    print 'No-lines image is saved at: ' + no_lines_image_path\n",
    "    return no_lines_image_path\n",
    "\n",
    "NO_LINES_IMAGE_PATH = gen_and_save_no_lines_image(img, lines_only_img)"
   ]
  },
  {
   "cell_type": "markdown",
   "metadata": {},
   "source": [
    "\n",
    "<<<<  Pitch recognition  >>>>\n",
    "---"
   ]
  },
  {
   "cell_type": "markdown",
   "metadata": {},
   "source": [
    "### In MusicXML, scientific pitch notation is used  (see <a href=\"https://en.wikipedia.org/wiki/Scientific_pitch_notation\"> wikipedia page about Scientific pitch notation</a>)\n",
    "Therefore, we used it too."
   ]
  },
  {
   "cell_type": "markdown",
   "metadata": {},
   "source": [
    "### Obtain the closest / corresponding staff"
   ]
  },
  {
   "cell_type": "code",
   "execution_count": 17,
   "metadata": {
    "collapsed": true
   },
   "outputs": [],
   "source": [
    "def get_closest_staff_locations_to_x(staff_locations_by_x, symbol_X_coordinate):\n",
    "    sorted_loc_by_x_keys = staff_locations_by_x.keys()\n",
    "    sorted_loc_by_x_keys.sort() # keys are now sorted # BUT NO NEED FOR SORTING IN THIS ALGORITHM !\n",
    "    \n",
    "    if (symbol_X_coordinate in sorted_loc_by_x_keys): # in case there is the same key as symbol_X_coordinate\n",
    "        return staff_locations_by_x[symbol_X_coordinate]\n",
    "    \n",
    "    chosen_key, min_diff = -1, 2000 # get the chosen_key  with  minimal difference from symbol_X_coordinate\n",
    "    for x_key in sorted_loc_by_x_keys:\n",
    "        diff = abs(x_key - symbol_X_coordinate)\n",
    "        if (diff < min_diff):\n",
    "            min_diff = diff\n",
    "            chosen_key = x_key\n",
    "    return staff_locations_by_x[chosen_key]\n",
    "\n",
    "# get the staff that contains the sent symbol (his y coordinate, actually)\n",
    "# returns the matched staff and it's key (if return_staff_key is `True`) from staff_locations dictionary\n",
    "def get_staff(symbol_y_coordinate, staff_locations, return_staff_key=False):\n",
    "    # get staff locations keys (y-coordinates of staves beginnings)\n",
    "    sorted_staff_locations_keys = staff_locations.keys()\n",
    "    sorted_staff_locations_keys.sort() # make them sorted # NOTE :::: sorted_keys.reverse()  REVERSES THE SORT! (returns None!)\n",
    "    \n",
    "    # go through sorted keys in dictionary of staves (they are y-coordinates of each staff's beginning)\n",
    "    # and choose only ones that are above the symbol's y-coordinate (i.e. their y-coordinate is a smaller number)\n",
    "    candidates = [staff_key for staff_key in sorted_staff_locations_keys if (staff_key <= symbol_y_coordinate)]\n",
    "    chosen_staff_key = candidates[len(candidates) - 1]\n",
    "    \n",
    "    # check that the symbol is valid, i.e. not lower than the chones staff's height\n",
    "    # (exaple: if staff starts at 500px and ends at 700px and the symbol_y = 800px)\n",
    "    if (staff_locations[chosen_staff_key][2] >= symbol_y_coordinate):\n",
    "        if (return_staff_key):\n",
    "            return staff_locations[chosen_staff_key], chosen_staff_key\n",
    "        else:\n",
    "            return staff_locations[chosen_staff_key]\n",
    "    print 'symbol location is not valid!', symbol_y_coordinate, staff_locations\n",
    "    return None"
   ]
  },
  {
   "cell_type": "markdown",
   "metadata": {},
   "source": [
    "### Obtain the closest / corresponding staff-element's code"
   ]
  },
  {
   "cell_type": "code",
   "execution_count": 18,
   "metadata": {
    "collapsed": true
   },
   "outputs": [],
   "source": [
    "# returns the staff element's CODE: 0 for the 3rd upper spacing above the staff, ..., 5 for the 1st staff line\n",
    "# diff ---> find the smallest difference, that is, find the closest y to the symbol_y_coordinate\n",
    "def get_staff_element_code_diff(symbol_y_coordinate, staff):\n",
    "    # get staff-line locations keys (y-coordinates of staff-lines beginnings)\n",
    "    staff_elements = staff[1] # [1] ==> the 0th tuple element is staff's ordinal number\n",
    "    staff_keys = staff_elements.keys()\n",
    "    \n",
    "    if (symbol_y_coordinate in staff_keys): # in case there is the same key as symbol_y_coordinate\n",
    "        return staff_elements[symbol_y_coordinate][0] # just return the symbol for this key \n",
    "    \n",
    "    chosen_key, min_diff = -1, 2000 # get the chosen_key  with  minimal difference from symbol_y_coordinate\n",
    "    for y_key in staff_keys:\n",
    "        diff = abs(y_key - symbol_y_coordinate)\n",
    "        if (diff < min_diff):\n",
    "            min_diff = diff\n",
    "            chosen_key = y_key\n",
    "    return staff_elements[chosen_key][0] # 0th tuple element is the CODE, 1st is element's height"
   ]
  },
  {
   "cell_type": "code",
   "execution_count": 19,
   "metadata": {
    "collapsed": true
   },
   "outputs": [],
   "source": [
    "def get_pitch(staff_element_code, clef):\n",
    "    return clefs[clef][staff_element_code]\n",
    "\n",
    "def get_staff_and_pitch(symbol_X, symbol_Y, staff_locations_by_x, clef='treble'):\n",
    "    staff_locations = get_closest_staff_locations_to_x(staff_locations_by_x, symbol_X)\n",
    "    \n",
    "    staff = get_staff(symbol_Y, staff_locations)\n",
    "    staff_number = staff[0] # first tuple element is staff's number (1,2,3...)\n",
    "    \n",
    "    staff_element_code_diff = get_staff_element_code_diff(symbol_Y, staff)\n",
    "    pitch = get_pitch(staff_element_code_diff, clef) # pitch_diff\n",
    "    print '   pitch for (x,y) = (%s, %s)  ==> %s' % (symbol_X, symbol_Y, pitch) # pitch_DIFF\n",
    "    print '   staff number:', staff_number, '\\n'\n",
    "    return  staff_number, pitch"
   ]
  },
  {
   "cell_type": "markdown",
   "metadata": {},
   "source": [
    "### test pitch-related functions"
   ]
  },
  {
   "cell_type": "code",
   "execution_count": 20,
   "metadata": {
    "collapsed": true
   },
   "outputs": [],
   "source": [
    "# symbols_coordinates = [\n",
    "#     (1718, 1345), (271, 603), (2118, 527), (631, 1340), (2179, 1369), (1587, 1403), (1587, 1402), (1587, 1401)\n",
    "# ] # ===> B4, D4, C5, B4, G4\n",
    "# # symbols_coordinates = [(231, 945), (231, 951), (231, 955), (231, 961), (231, 966), (231, 971)]\n",
    "# for symbol_x_y in symbols_coordinates:\n",
    "#     get_staff_and_pitch(symbol_x_y, staves_x_locations, clef='treble') # `clef` param for clarity :)"
   ]
  },
  {
   "cell_type": "markdown",
   "metadata": {},
   "source": [
    "# ~ ~ ~ ~ ~ ~ ~ ~ ~ ~ ~ ~ ~ ~ ~ ~\n",
    "# <p style='color: red'>T e m p l a t e - m a t c h i n g</p>"
   ]
  },
  {
   "cell_type": "code",
   "execution_count": 21,
   "metadata": {
    "collapsed": true
   },
   "outputs": [],
   "source": [
    "def add_template(templates_dict, point, search_duplicates_points = 7, print_info = False):\n",
    "    '''Add the template if a template with the x and y around the certain point has NOT been added to the dictionary.'''\n",
    "    for i in range(0,search_duplicates_points):\n",
    "        if (templates_dict.has_key(point[0] + i)):\n",
    "            for j in range(0,search_duplicates_points):\n",
    "                if (templates_dict[point[0] + i] == point[1] + j):\n",
    "                    if print_info:\n",
    "                        print point[0], 'already here'\n",
    "                    return False\n",
    "                if (templates_dict[point[0] + i] == point[1] - j):\n",
    "                    if print_info:\n",
    "                        print point[0], 'already here'\n",
    "                    return False\n",
    "        if (templates_dict.has_key(point[0] - i)):\n",
    "            for j in range(0,search_duplicates_points):\n",
    "                if (templates_dict[point[0] - i] == point[1] + j):\n",
    "                    if print_info:\n",
    "                        print point[0], 'already here'\n",
    "                    return False\n",
    "                if (templates_dict[point[0] - i] == point[1] - j):\n",
    "                    if print_info:\n",
    "                        print point[0], 'already here'\n",
    "                    return False\n",
    "    \n",
    "    templates_dict[point[0]] = point[1] # add the template\n",
    "    if print_info:\n",
    "        print point[0], 'added successfully with y = ', point[1]\n",
    "    return True"
   ]
  },
  {
   "cell_type": "markdown",
   "metadata": {},
   "source": [
    "# Accidentals + note heads"
   ]
  },
  {
   "cell_type": "code",
   "execution_count": 22,
   "metadata": {
    "collapsed": true
   },
   "outputs": [],
   "source": [
    "def find_head_for_accidental(accidental_point, is_flat, heads_dict_name, search_points = 20, print_info = True):\n",
    "    '''Find a full head to match an accidental. \n",
    "    :param accidental_point: point around which we search for a full head\n",
    "    '''\n",
    "    accidental_width = 20\n",
    "    \n",
    "    if is_flat:\n",
    "        accidental_height = 20\n",
    "    else:\n",
    "        accidental_height = 10\n",
    "    \n",
    "    for i in range(0, search_points):\n",
    "        if (single_templates_dict[heads_dict_name].has_key(accidental_point[0] + accidental_width + i)):\n",
    "            for j in range(0, search_points):\n",
    "                if (single_templates_dict[heads_dict_name][accidental_point[0] + accidental_width + i] == accidental_point[1] + accidental_height + j):\n",
    "                    if print_info:\n",
    "                        cv2.rectangle(img_accidentals_plot,\n",
    "                                      (accidental_point[0], accidental_point[1] - accidental_height),\n",
    "                                      (accidental_point[0] - 100, accidental_point[1] - accidental_height + 3),\n",
    "                                     (100,200,50), 5)\n",
    "                        cv2.circle(img_accidentals_plot, (accidental_point[0] + i, accidental_point[1] - accidental_height + j), 10, (255,0,0), 10)\n",
    "                    return (True, (accidental_point[0] + accidental_width + i, accidental_point[1] + accidental_height + j))\n",
    "    \n",
    "    return False, None"
   ]
  },
  {
   "cell_type": "markdown",
   "metadata": {
    "collapsed": true
   },
   "source": [
    "# Heads + stems UP"
   ]
  },
  {
   "cell_type": "code",
   "execution_count": 23,
   "metadata": {
    "collapsed": true
   },
   "outputs": [],
   "source": [
    "def search_around_template_point_up(point, templates_dict, search_points = 18, print_info = True):\n",
    "    '''Searchs for a specific template around certain point of a specific template. \n",
    "    \n",
    "    Example: Searches for eight stems around full note head\n",
    "    :param point: point around which we search for a template from the templates_dict\n",
    "    :param templates_dict: dictionary of templates to be searched through\n",
    "    '''\n",
    "    \n",
    "    for i in range(0, search_points):\n",
    "        if (templates_dict.has_key(point[0] + full_head_template_w + i)):\n",
    "            for j in range(0, search_points):\n",
    "                if (templates_dict[point[0] + full_head_template_w + i] == point[1] - eight_stem_up_template_h + j):\n",
    "                    if print_info:\n",
    "                        cv2.rectangle(img_no_heads_plot,\n",
    "                                      (point[0] + full_head_template_w, point[1] - eight_stem_up_template_h),\n",
    "                                      (point[0] + full_head_template_w + 200, point[1] - eight_stem_up_template_h + 3),\n",
    "                                     (255,0,0), 5)\n",
    "                        cv2.circle(img_no_heads_plot, (point[0] + full_head_template_w + i, point[1] - eight_stem_up_template_h + j), 10, (255,0,0), 10)\n",
    "                    return True\n",
    "                if (templates_dict[point[0] + full_head_template_w + i] == point[1] - eight_stem_up_template_h - j):\n",
    "                    if print_info:\n",
    "                        cv2.rectangle(img_no_heads_plot,\n",
    "                                      (point[0] + full_head_template_w, point[1] - eight_stem_up_template_h),\n",
    "                                      (point[0] + full_head_template_w + 200, point[1] - eight_stem_up_template_h + 3),\n",
    "                                     (255,0,0), 5)\n",
    "                        cv2.circle(img_no_heads_plot, (point[0] + full_head_template_w + i, point[1] - eight_stem_up_template_h - j), 10, (255,0,0), 10)\n",
    "                    return True\n",
    "        if (templates_dict.has_key(point[0] + full_head_template_w - i)):\n",
    "            for j in range(0, search_points):\n",
    "                if (templates_dict[point[0] + full_head_template_w - i] == point[1] - eight_stem_up_template_h + j):\n",
    "                    if print_info:\n",
    "                        cv2.rectangle(img_no_heads_plot,\n",
    "                                      (point[0] + full_head_template_w, point[1] - eight_stem_up_template_h),\n",
    "                                      (point[0] + full_head_template_w + 200, point[1] - eight_stem_up_template_h + 3),\n",
    "                                     (255,0,0), 5)\n",
    "                        cv2.circle(img_no_heads_plot, (point[0] + full_head_template_w - i, point[1] - eight_stem_up_template_h + j), 10, (255,0,0), 10)\n",
    "                    return True\n",
    "                if (templates_dict[point[0] + full_head_template_w - i] == point[1] - eight_stem_up_template_h - j):\n",
    "                    if print_info:\n",
    "                        cv2.rectangle(img_no_heads_plot,\n",
    "                                      (point[0] + full_head_template_w, point[1] - eight_stem_up_template_h),\n",
    "                                      (point[0] + full_head_template_w + 200, point[1] - eight_stem_up_template_h + 3),\n",
    "                                     (255,0,0), 5)\n",
    "                        cv2.circle(img_no_heads_plot, (point[0] + full_head_template_w - i, point[1] - eight_stem_up_template_h - j), 10, (255,0,0), 10)\n",
    "                    return True\n",
    "    \n",
    "    return False"
   ]
  },
  {
   "cell_type": "markdown",
   "metadata": {},
   "source": [
    "# Heads + stems DOWN"
   ]
  },
  {
   "cell_type": "code",
   "execution_count": 24,
   "metadata": {
    "collapsed": true
   },
   "outputs": [],
   "source": [
    "def search_around_template_point_down(point, templates_dict, search_points = 18, print_info = True):\n",
    "    '''Searchs for a specific template around certain point of a specific template. \n",
    "    \n",
    "    Example: Searches for eight stems around full note head\n",
    "    :param point: point around which we search for a template from the templates_dict\n",
    "    :param templates_dict: dictionary of templates to be searched through\n",
    "    '''\n",
    "    \n",
    "    for i in range(0, search_points):\n",
    "        if (templates_dict.has_key(point[0] + i)):\n",
    "            for j in range(0, search_points):\n",
    "                if (templates_dict[point[0] + i] == point[1] + full_head_template_h + j):\n",
    "                    if print_info:\n",
    "                        cv2.rectangle(img_no_heads_plot,\n",
    "                                      (point[0], point[1] + full_head_template_h),\n",
    "                                      (point[0] + 200, point[1] + full_head_template_h + 3),\n",
    "                                     (255,0,0), 5)\n",
    "                        cv2.circle(img_no_heads_plot, (point[0] + i, point[1] + full_head_template_h + j), 10, (255,0,0), 10)\n",
    "                    return True\n",
    "                if (templates_dict[point[0] + i] == point[1] + full_head_template_h - j):\n",
    "                    if print_info:\n",
    "                        cv2.rectangle(img_no_heads_plot,\n",
    "                                      (point[0], point[1] + full_head_template_h),\n",
    "                                      (point[0] + 200, point[1] + full_head_template_h + 3),\n",
    "                                     (255,0,0), 5)\n",
    "                        cv2.circle(img_no_heads_plot, (point[0] + i, point[1] + full_head_template_h - j), 10, (255,0,0), 10)\n",
    "                    return True\n",
    "        if (templates_dict.has_key(point[0] - i)):\n",
    "            for j in range(0, search_points):\n",
    "                if (templates_dict[point[0] - i] == point[1] + full_head_template_h + j):\n",
    "                    if print_info:\n",
    "                        cv2.rectangle(img_no_heads_plot,\n",
    "                                      (point[0], point[1] + full_head_template_h),\n",
    "                                      (point[0] + 200, point[1] + full_head_template_h + 3),\n",
    "                                     (255,0,0), 5)\n",
    "                        cv2.circle(img_no_heads_plot, (point[0] - i, point[1] + full_head_template_h + j), 10, (255,0,0), 10)\n",
    "                    return True\n",
    "                if (templates_dict[point[0] - i] == point[1] + full_head_template_h - j):\n",
    "                    if print_info:\n",
    "                        cv2.rectangle(img_no_heads_plot,\n",
    "                                      (point[0], point[1] + full_head_template_h),\n",
    "                                      (point[0] + 200, point[1] + full_head_template_h + 3),\n",
    "                                     (255,0,0), 5)\n",
    "                        cv2.circle(img_no_heads_plot, (point[0] - i, point[1] + full_head_template_h - j), 10, (255,0,0), 10)\n",
    "                    return True\n",
    "    \n",
    "    return False"
   ]
  },
  {
   "cell_type": "markdown",
   "metadata": {
    "collapsed": true
   },
   "source": [
    "# Heads + hooks . Start UP"
   ]
  },
  {
   "cell_type": "code",
   "execution_count": 25,
   "metadata": {
    "collapsed": true
   },
   "outputs": [],
   "source": [
    "def head_with_hook_up(head_point, hooks_start_or_end_dict, search_points = 20, print_info = True):\n",
    "    '''Find a full head to match an eight hook directed upwards. \n",
    "\n",
    "    :param head_point: point around which we search for a full head\n",
    "    '''\n",
    "    hook_start_eight_up_template_h = 60\n",
    "    \n",
    "    for i in range(0, search_points):\n",
    "        if (single_templates_dict[hooks_start_or_end_dict].has_key(head_point[0] + i)):\n",
    "            for j in range(0, search_points):\n",
    "                if (single_templates_dict[hooks_start_or_end_dict][head_point[0] + i] == head_point[1] - hook_start_eight_up_template_h + j):\n",
    "                    if print_info:\n",
    "                        cv2.rectangle(img_no_heads_no_stems_plot,\n",
    "                                      (head_point[0], head_point[1] - hook_start_eight_up_template_h),\n",
    "                                      (head_point[0] - 100, head_point[1] - hook_start_eight_up_template_h + 3),\n",
    "                                     (100,200,50), 5)\n",
    "                        cv2.circle(img_no_heads_no_stems_plot, (head_point[0] + i, head_point[1] - hook_start_eight_up_template_h + j), 10, (255,0,0), 10)\n",
    "                    return True\n",
    "                \n",
    "                if (single_templates_dict[hooks_start_or_end_dict][head_point[0] + i] == head_point[1] - hook_start_eight_up_template_h - j):\n",
    "                    if print_info:\n",
    "                        cv2.rectangle(img_no_heads_no_stems_plot,\n",
    "                                      (head_point[0], head_point[1] - hook_start_eight_up_template_h),\n",
    "                                      (head_point[0] - 100, head_point[1] - hook_start_eight_up_template_h + 3),\n",
    "                                     (100,200,50), 5)\n",
    "                        cv2.circle(img_no_heads_no_stems_plot, (head_point[0] + i, head_point[1] - hook_start_eight_up_template_h - j), 10, (255,0,0), 10)\n",
    "                    return True\n",
    "    \n",
    "    return False"
   ]
  },
  {
   "cell_type": "markdown",
   "metadata": {},
   "source": [
    "# Heads + hooks . Start DOWN"
   ]
  },
  {
   "cell_type": "code",
   "execution_count": 26,
   "metadata": {
    "collapsed": true
   },
   "outputs": [],
   "source": [
    "def head_with_hook_down(head_point, hooks_start_or_end_dict, search_points = 18, print_info = True):\n",
    "    '''Find a full head to match an eight hook directed upwards. \n",
    "\n",
    "    :param head_point: point around which we search for a full head\n",
    "    '''\n",
    "    \n",
    "    for i in range(0, search_points):\n",
    "        if (single_templates_dict[hooks_start_or_end_dict].has_key(head_point[0] - i)):\n",
    "            for j in range(0, search_points):\n",
    "                if (single_templates_dict[hooks_start_or_end_dict][head_point[0] - i] == head_point[1] + full_head_template_h + j):\n",
    "                    if print_info:\n",
    "                        cv2.rectangle(img_no_heads_no_stems_plot,\n",
    "                                      (head_point[0], head_point[1] + full_head_template_h),\n",
    "                                      (head_point[0] - 100, head_point[1] + full_head_template_h + 3),\n",
    "                                     (100,200,50), 5)\n",
    "                        cv2.circle(img_no_heads_no_stems_plot, (head_point[0] + i, head_point[1] + full_head_template_h + j), 10, (255,0,0), 10)\n",
    "                    return True\n",
    "                \n",
    "                if (single_templates_dict[hooks_start_or_end_dict][head_point[0] - i] == head_point[1] + full_head_template_h - j):\n",
    "                    if print_info:\n",
    "                        cv2.rectangle(img_no_heads_no_stems_plot,\n",
    "                                      (head_point[0], head_point[1] + full_head_template_h),\n",
    "                                      (head_point[0] - 100, head_point[1] + full_head_template_h + 3),\n",
    "                                     (100,200,50), 5)\n",
    "                        cv2.circle(img_no_heads_no_stems_plot, (head_point[0] + i, head_point[1] + full_head_template_h - j), 10, (255,0,0), 10)\n",
    "                    return True\n",
    "    \n",
    "    return False"
   ]
  },
  {
   "cell_type": "markdown",
   "metadata": {},
   "source": [
    "# Dots - functions"
   ]
  },
  {
   "cell_type": "code",
   "execution_count": 27,
   "metadata": {
    "collapsed": true
   },
   "outputs": [],
   "source": [
    "def find_note_for_dot(point, templates_dict, template_width, search_points = 18, print_info = True):\n",
    "    '''Searchs for a specific head template around certain dot. \n",
    "    \n",
    "    Example: Searches for a full head note before a dot on point :param point:\n",
    "    :param point: point around which we search for a note head from the templates_dict\n",
    "    :param templates_dict: dictionary of templates to be searched through\n",
    "    '''\n",
    "    \n",
    "    dot_head_min_distance = 5  # the dot has at least this much pixels to the left before it reaches a note head\n",
    "    \n",
    "    for i in range(0, search_points):\n",
    "        if (templates_dict.has_key(point[0] - template_width - dot_head_min_distance + i)):\n",
    "            for j in range(0, search_points):\n",
    "                if (templates_dict[point[0] - template_width - dot_head_min_distance + i] == point[1] + j):\n",
    "                    if print_info:\n",
    "                        cv2.rectangle(img_dots_plot,\n",
    "                                      (point[0], point[1]),\n",
    "                                      (point[0] + 200, point[1] + 3),\n",
    "                                     (0,255,0), 5)\n",
    "                        cv2.circle(img_dots_plot, (point[0] + i, point[1] + j), 10, (0,255,0), 10)\n",
    "                    return (True, (point[0] - template_width - dot_head_min_distance + i, point[1] + j))\n",
    "                if (templates_dict[point[0] - template_width - dot_head_min_distance + i] == point[1] - j):\n",
    "                    if print_info:\n",
    "                        cv2.rectangle(img_dots_plot,\n",
    "                                      (point[0], point[1]),\n",
    "                                      (point[0] + 200, point[1] + 3),\n",
    "                                     (0,255,0), 5)\n",
    "                        cv2.circle(img_dots_plot, (point[0] + i, point[1] - j), 10, (0,255,0), 10)\n",
    "                    return (True, (point[0] - template_width - dot_head_min_distance + i, point[1] - j))\n",
    "        if (templates_dict.has_key(point[0] - template_width - dot_head_min_distance - i)):\n",
    "            for j in range(0, search_points):\n",
    "                if (templates_dict[point[0] - template_width - dot_head_min_distance - i] == point[1] + j):\n",
    "                    if print_info:\n",
    "                        cv2.rectangle(img_dots_plot,\n",
    "                                      (point[0], point[1]),\n",
    "                                      (point[0] + 200, point[1] + 3),\n",
    "                                     (0,255,0), 5)\n",
    "                        cv2.circle(img_dots_plot, (point[0] - i, point[1] + j), 10, (0,255,0), 10)\n",
    "                    return (True, (point[0] - template_width - dot_head_min_distance - i, point[1] + j))\n",
    "                if (templates_dict[point[0] - template_width - dot_head_min_distance - i] == point[1] - j):\n",
    "                    if print_info:\n",
    "                        cv2.rectangle(img_dots_plot,\n",
    "                                      (point[0], point[1]),\n",
    "                                      (point[0] + 200, point[1] + 3),\n",
    "                                     (0,255,0), 5)\n",
    "                        cv2.circle(img_dots_plot, (point[0] - i, point[1] - j), 10, (0,255,0), 10)\n",
    "                    return (True, (point[0] - template_width - dot_head_min_distance - i, point[1] - j))\n",
    "    \n",
    "    return (False, False)"
   ]
  },
  {
   "cell_type": "code",
   "execution_count": 28,
   "metadata": {
    "collapsed": true
   },
   "outputs": [],
   "source": [
    "def note_has_dot(note_x, note_y, note_type):\n",
    "    '''Returns true if note has it's duration lengthened by a dot.'''\n",
    "    if (all_dots_dict[note_type].has_key(note_x)):\n",
    "        if (all_dots_dict[note_type].has_key(note_x)):\n",
    "            return all_dots_dict[note_type][note_x] == note_y\n",
    "    return False"
   ]
  },
  {
   "cell_type": "markdown",
   "metadata": {},
   "source": [
    "# Images, constants and dictionaries definition"
   ]
  },
  {
   "cell_type": "code",
   "execution_count": 29,
   "metadata": {
    "collapsed": true
   },
   "outputs": [],
   "source": [
    "img_stems = cv2.imread(NO_LINES_IMAGE_PATH, 0)\n",
    "img_heads = img_stems.copy()\n",
    "img_heads_plot = cv2.imread(NO_LINES_IMAGE_PATH)\n",
    "\n",
    "img_breaks = img_stems.copy()\n",
    "img_breaks_plot = img_heads_plot.copy()\n",
    "\n",
    "img_accidentals = img_stems.copy()\n",
    "img_accidentals_plot =  img_heads_plot.copy()\n",
    "\n",
    "img_dots = img_stems.copy()\n",
    "img_dots_plot = img_heads_plot.copy()\n",
    "\n",
    "total_full_heads = 32\n",
    "total_HALF_heads = 12\n",
    "\n",
    "single_templates_dict = {\n",
    "    'full_heads':{}, 'half_heads': {}, 'whole_heads': {},\n",
    "    'eight_stems_up': {},'eight_stems_down': {},\n",
    "    'sixteen_stems_up': {}, 'sixteen_stems_down': {},\n",
    "    'eight_hooks_up_start': {}, 'eight_hooks_up_end': {},\n",
    "    'eight_hooks_down_start': {}, 'eight_hooks_down_end': {},\n",
    "    'eight_breaks': {}, 'quarter_breaks': {}, 'half_breaks': {}, 'whole_breaks': {},\n",
    "    'dots': {},    'sharps': {},    'flats': {},    'naturals': {},\n",
    "    'G-clef': {}, 'F-clef': {},\n",
    "    'two': {}, 'three': {}, 'four': {}, 'C': {}\n",
    "    }\n",
    "threshold = 0.8"
   ]
  },
  {
   "cell_type": "markdown",
   "metadata": {},
   "source": [
    "## all dictionaries"
   ]
  },
  {
   "cell_type": "code",
   "execution_count": 30,
   "metadata": {
    "collapsed": true
   },
   "outputs": [],
   "source": [
    "# dictionary contains all note heads with assigned stems\n",
    "all_notes_dict = {'wholes': {}, 'halves_up': {}, 'halves_down': {}, 'quarters_up': {}, 'quarters_down': {},\n",
    "                  'eights_up': {}, 'eights_down': {}, 'sixteens_up': {}, 'sixteens_down': {}}\n",
    "\n",
    "# dictionary contains all notes which have assigned dots\n",
    "all_dots_dict = {'wholes': {}, 'halves_up': {}, 'halves_down': {}, 'quarters_up': {}, 'quarters_down': {},\n",
    "                  'eights_up': {}, 'eights_down': {}, 'sixteens_up': {}, 'sixteens_down': {}}\n",
    "\n",
    "# dictionaries contain all notes which have assigned accidentals (flats, sharps and naturals)\n",
    "all_flats_dict = {}\n",
    "all_sharps_dict = {}\n",
    "all_naturals_dict= {}\n",
    "\n",
    "all_hooks_dict = {'start': {}, 'end': {}}\n",
    "\n",
    "all_breaks_dict = {'eight_breaks': {}, 'quarter_breaks': {}, 'half_breaks': {}, 'whole_breaks': {}}"
   ]
  },
  {
   "cell_type": "code",
   "execution_count": 31,
   "metadata": {
    "collapsed": true
   },
   "outputs": [],
   "source": [
    "full_head_with_lines_down_template = cv2.imread(TEMPLATES_PATH + '/glava-puna-sa-linijama-gore.jpg',0)\n",
    "full_head_template_w, full_head_template_h = full_head_with_lines_down_template.shape[::-1]\n",
    "\n",
    "eight_stem_down_template = cv2.imread(TEMPLATES_PATH + '/osmina-dole.jpg',0)\n",
    "eight_stem_down_template_w, eight_stem_down_template_h = eight_stem_down_template.shape[::-1]\n",
    "\n",
    "eight_stem_up_template = cv2.imread(TEMPLATES_PATH + '/osmina-gore.jpg',0)\n",
    "eight_stem_up_template_w, eight_stem_up_template_h = eight_stem_up_template.shape[::-1]\n",
    "\n",
    "sixteen_stem_template_w = 30\n",
    "sixteen_stem_template_h = 80\n",
    "\n",
    "quarter_break_template_w = 20\n",
    "quarter_break_template_h = 60"
   ]
  },
  {
   "cell_type": "markdown",
   "metadata": {},
   "source": [
    "# Clefs"
   ]
  },
  {
   "cell_type": "code",
   "execution_count": 32,
   "metadata": {
    "collapsed": true
   },
   "outputs": [],
   "source": [
    "threshold = 0.7\n",
    "template_names = [('violinski-1', 'G-clef'), ('violinski-2', 'G-clef'), ('bas-1','F-clef')]\n",
    "for clef_name in template_names:\n",
    "    clef_template = cv2.imread(TEMPLATES_PATH + '/kljuc-' + clef_name[0] + '.jpg',0)\n",
    "    w, h = clef_template.shape[::-1]\n",
    "\n",
    "    res = cv2.matchTemplate(img_heads, clef_template, cv2.TM_CCOEFF_NORMED)\n",
    "    loc = np.where( res >= threshold)\n",
    "    for point in zip(*loc[::-1]):\n",
    "        if (add_template(single_templates_dict[clef_name[1]], point)):\n",
    "            cv2.rectangle(img_heads_plot, point, (point[0] + w, point[1] + h), (123,213,231), 5)"
   ]
  },
  {
   "cell_type": "markdown",
   "metadata": {},
   "source": [
    "# Measure numbers"
   ]
  },
  {
   "cell_type": "code",
   "execution_count": 33,
   "metadata": {
    "collapsed": true
   },
   "outputs": [],
   "source": [
    "threshold = 0.7\n",
    "measure_names = [('dva-1','two'), ('cetiri-1','four'), ('cetiri-2','four'), ('tri-1','three'), ('C-1','C')]"
   ]
  },
  {
   "cell_type": "code",
   "execution_count": 34,
   "metadata": {
    "collapsed": true
   },
   "outputs": [],
   "source": [
    "for measure_name in measure_names:\n",
    "    measure_template = cv2.imread(TEMPLATES_PATH + '/mjera-' + measure_name[0] + '.jpg',0)\n",
    "    w, h = measure_template.shape[::-1]\n",
    "\n",
    "    res = cv2.matchTemplate(img_heads, measure_template, cv2.TM_CCOEFF_NORMED)\n",
    "    loc = np.where( res >= threshold)\n",
    "    for point in zip(*loc[::-1]):\n",
    "        if (add_template(single_templates_dict[measure_name[1]], point)):\n",
    "            cv2.rectangle(img_heads_plot, point, (point[0] + w, point[1] + h), (123,213,231), 5)"
   ]
  },
  {
   "cell_type": "markdown",
   "metadata": {},
   "source": [
    "# Full note heads"
   ]
  },
  {
   "cell_type": "code",
   "execution_count": 35,
   "metadata": {
    "collapsed": true
   },
   "outputs": [],
   "source": [
    "threshold = 0.75\n",
    "full_head_with_lines_down_template = cv2.imread(TEMPLATES_PATH + '/glava-puna-dole.jpg',0)\n",
    "w, h = full_head_with_lines_down_template.shape[::-1]\n",
    "\n",
    "res = cv2.matchTemplate(img_heads, full_head_with_lines_down_template, cv2.TM_CCOEFF_NORMED)\n",
    "loc = np.where( res >= threshold)"
   ]
  },
  {
   "cell_type": "code",
   "execution_count": 36,
   "metadata": {
    "collapsed": true
   },
   "outputs": [],
   "source": [
    "for point in zip(*loc[::-1]):\n",
    "    if (add_template(single_templates_dict['full_heads'], point)):\n",
    "        cv2.rectangle(img_heads, point, (point[0] + w, point[1] + h - 6), (255,255,255), 18)\n",
    "    cv2.rectangle(img_heads_plot, point, (point[0] + w, point[1] + h), (0,255,255), 5)"
   ]
  },
  {
   "cell_type": "code",
   "execution_count": 37,
   "metadata": {
    "collapsed": true
   },
   "outputs": [],
   "source": [
    "full_head_with_lines_up_template = cv2.imread(TEMPLATES_PATH + '/glava-puna-gore.jpg',0)\n",
    "w, h = full_head_with_lines_up_template.shape[::-1]\n",
    "\n",
    "res = cv2.matchTemplate(img_heads, full_head_with_lines_up_template, cv2.TM_CCOEFF_NORMED)\n",
    "loc = np.where( res >= threshold)"
   ]
  },
  {
   "cell_type": "code",
   "execution_count": 38,
   "metadata": {
    "collapsed": true,
    "scrolled": true
   },
   "outputs": [],
   "source": [
    "for point in zip(*loc[::-1]):\n",
    "    if (add_template(single_templates_dict['full_heads'], point)):\n",
    "        cv2.rectangle(img_heads, point, (point[0] + w, point[1] + h - 6), (255,255,255), 18)\n",
    "    cv2.rectangle(img_heads_plot, point, (point[0] + w*2, point[1] + 3), (255,0,0), 5)"
   ]
  },
  {
   "cell_type": "code",
   "execution_count": 39,
   "metadata": {
    "collapsed": true
   },
   "outputs": [],
   "source": [
    "full_head_up_template = cv2.imread(TEMPLATES_PATH + '/glava-puna-sa-linijama-gore.jpg',0)\n",
    "w, h = full_head_up_template.shape[::-1]\n",
    "\n",
    "res = cv2.matchTemplate(img_heads, full_head_up_template, cv2.TM_CCOEFF_NORMED)\n",
    "loc = np.where( res >= threshold)"
   ]
  },
  {
   "cell_type": "code",
   "execution_count": 40,
   "metadata": {
    "collapsed": true
   },
   "outputs": [],
   "source": [
    "for point in zip(*loc[::-1]):\n",
    "    if (add_template(single_templates_dict['full_heads'], point)):\n",
    "        cv2.rectangle(img_heads, point, (point[0] + w, point[1] + h - 6), (255,255,255), 18)\n",
    "    cv2.circle(img_heads_plot, point, 15, (0,255,0), 5)"
   ]
  },
  {
   "cell_type": "code",
   "execution_count": 41,
   "metadata": {
    "collapsed": true
   },
   "outputs": [],
   "source": [
    "full_head_down_template = cv2.imread(TEMPLATES_PATH + '/glava-puna-sa-linijama-dole.jpg',0)\n",
    "w, h = full_head_down_template.shape[::-1]\n",
    "\n",
    "res = cv2.matchTemplate(img_heads, full_head_down_template, cv2.TM_CCOEFF_NORMED)\n",
    "loc = np.where( res >= threshold)"
   ]
  },
  {
   "cell_type": "code",
   "execution_count": 42,
   "metadata": {
    "collapsed": true,
    "scrolled": true
   },
   "outputs": [],
   "source": [
    "for point in zip(*loc[::-1]):\n",
    "    if (add_template(single_templates_dict['full_heads'], point)):\n",
    "        cv2.rectangle(img_heads, point, (point[0] + w, point[1] + h - 6), (255,255,255), 18)\n",
    "    cv2.circle(img_heads_plot, point, 25, (255,0,255), 5)"
   ]
  },
  {
   "cell_type": "markdown",
   "metadata": {},
   "source": [
    "# Half note heads"
   ]
  },
  {
   "cell_type": "code",
   "execution_count": 43,
   "metadata": {
    "collapsed": true
   },
   "outputs": [],
   "source": [
    "threshold = 0.75\n",
    "img_halves_no_full_heads = img_heads.copy()\n",
    "img_halves_no_full_heads_plot = img_heads_plot.copy()\n",
    "single_templates_dict['half_heads'] = {}\n",
    "half_head_template_names = ['gore-1', 'gore-2', 'gore-3', 'na-liniji', 'sa-linijama-dole', 'sa-linijama-gore-1', 'sa-linijama-gore-2']"
   ]
  },
  {
   "cell_type": "code",
   "execution_count": 44,
   "metadata": {
    "collapsed": true
   },
   "outputs": [],
   "source": [
    "for half_head_template_name in half_head_template_names:\n",
    "    half_head_down_template = cv2.imread(TEMPLATES_PATH + '/polovina-' + half_head_template_name + '.jpg',0)\n",
    "    w, h = half_head_down_template.shape[::-1]\n",
    "\n",
    "    res = cv2.matchTemplate(img_halves_no_full_heads, half_head_down_template, cv2.TM_CCOEFF_NORMED)\n",
    "    loc = np.where( res >= threshold)\n",
    "    for point in zip(*loc[::-1]):\n",
    "        if (add_template(single_templates_dict['half_heads'], point)):\n",
    "            cv2.rectangle(img_halves_no_full_heads, (point[0] + 11, point[1] + 9), (point[0] + w, point[1] + h - 7), (255,255,255), 20)\n",
    "        cv2.rectangle(img_halves_no_full_heads_plot, point, (point[0] + w * 2, point[1] + h * 2), (0,255,255), 5)"
   ]
  },
  {
   "cell_type": "code",
   "execution_count": 45,
   "metadata": {
    "collapsed": true
   },
   "outputs": [],
   "source": [
    "all_notes_dict['halves_up'] = single_templates_dict['half_heads']"
   ]
  },
  {
   "cell_type": "markdown",
   "metadata": {},
   "source": [
    "# Whole note heads"
   ]
  },
  {
   "cell_type": "code",
   "execution_count": 46,
   "metadata": {
    "collapsed": true
   },
   "outputs": [],
   "source": [
    "threshold = 0.75\n",
    "img_wholes_no_other_heads = img_halves_no_full_heads.copy()\n",
    "img_wholes_no_other_heads_plot = img_halves_no_full_heads_plot.copy()\n",
    "single_templates_dict['whole_heads'] = {}"
   ]
  },
  {
   "cell_type": "code",
   "execution_count": 47,
   "metadata": {
    "collapsed": true
   },
   "outputs": [],
   "source": [
    "whole_head_down_template = cv2.imread(TEMPLATES_PATH + '/cijela-1.jpg',0)\n",
    "w, h = whole_head_down_template.shape[::-1]\n",
    "\n",
    "res = cv2.matchTemplate(img_wholes_no_other_heads, whole_head_down_template, cv2.TM_CCOEFF_NORMED)\n",
    "loc = np.where( res >= threshold)"
   ]
  },
  {
   "cell_type": "code",
   "execution_count": 48,
   "metadata": {
    "collapsed": true
   },
   "outputs": [],
   "source": [
    "for point in zip(*loc[::-1]):\n",
    "    if (add_template(single_templates_dict['whole_heads'], point)):\n",
    "        cv2.rectangle(img_wholes_no_other_heads, (point[0] + 11, point[1] + 9), (point[0] + w, point[1] + h - 7), (255,255,255), 20)\n",
    "    cv2.rectangle(img_wholes_no_other_heads_plot, point, (point[0] + w * 2, point[1] + h * 2), (0,255,255), 5)"
   ]
  },
  {
   "cell_type": "code",
   "execution_count": 49,
   "metadata": {
    "collapsed": true
   },
   "outputs": [],
   "source": [
    "whole_head_down_template = cv2.imread(TEMPLATES_PATH + '/cijela-2.jpg',0)\n",
    "w, h = whole_head_down_template.shape[::-1]\n",
    "\n",
    "res = cv2.matchTemplate(img_wholes_no_other_heads, whole_head_down_template, cv2.TM_CCOEFF_NORMED)\n",
    "loc = np.where( res >= threshold)"
   ]
  },
  {
   "cell_type": "code",
   "execution_count": 50,
   "metadata": {
    "collapsed": true
   },
   "outputs": [],
   "source": [
    "for point in zip(*loc[::-1]):\n",
    "    if (add_template(single_templates_dict['whole_heads'], point)):\n",
    "        cv2.rectangle(img_wholes_no_other_heads, (point[0] + 11, point[1] + 9), (point[0] + w, point[1] + h - 7), (255,255,255), 20)\n",
    "    cv2.rectangle(img_wholes_no_other_heads_plot, point, (point[0] + w * 2, point[1] + h * 2), (0,255,255), 5)"
   ]
  },
  {
   "cell_type": "code",
   "execution_count": 51,
   "metadata": {
    "collapsed": true
   },
   "outputs": [],
   "source": [
    "all_notes_dict['wholes'] = single_templates_dict['whole_heads']"
   ]
  },
  {
   "cell_type": "markdown",
   "metadata": {},
   "source": [
    "# Accidentals"
   ]
  },
  {
   "cell_type": "code",
   "execution_count": 52,
   "metadata": {
    "collapsed": true
   },
   "outputs": [],
   "source": [
    "# img_accidentals - defined at the beginning\n",
    "# img_accidentals_plot - defined at the beginning\n",
    "threshold = 0.70\n",
    "accidental_template_names = [('snizilica-1','flats'), ('snizilica-2','flats'), ('snizilica-3', 'flats'), ('povisilica-1','sharps'), ('povisilica-2','sharps'), ('povisilica-3','sharps'),('razrjesilica-1', 'naturals'), ('razrjesilica-2', 'naturals')]"
   ]
  },
  {
   "cell_type": "code",
   "execution_count": 53,
   "metadata": {
    "collapsed": true
   },
   "outputs": [],
   "source": [
    "for accidental_template_name in accidental_template_names:\n",
    "    accidental_template = cv2.imread(TEMPLATES_PATH + '/akc-' + accidental_template_name[0] + '.jpg',0)\n",
    "    w, h = accidental_template.shape[::-1]\n",
    "\n",
    "    res = cv2.matchTemplate(img_accidentals, accidental_template, cv2.TM_CCOEFF_NORMED)\n",
    "    loc = np.where( res >= threshold)\n",
    "    \n",
    "    for point in zip(*loc[::-1]):\n",
    "        if (add_template(single_templates_dict[accidental_template_name[1]], point)):\n",
    "            cv2.rectangle(img_accidentals, (point[0] + 11, point[1]), (point[0] + w, point[1] + h - 7), (255,255,255), 20)\n",
    "        cv2.circle(img_accidentals_plot, point, 30, (100,155,155), 15)"
   ]
  },
  {
   "cell_type": "markdown",
   "metadata": {},
   "source": [
    "# Accidentals + note heads"
   ]
  },
  {
   "cell_type": "code",
   "execution_count": 54,
   "metadata": {
    "collapsed": true
   },
   "outputs": [],
   "source": [
    "heads_names_arr = ['full_heads', 'half_heads', 'whole_heads']\n",
    "for sharp_x, sharp_y in single_templates_dict['sharps'].items():\n",
    "    for heads_name in heads_names_arr:\n",
    "        success, head_point = find_head_for_accidental((sharp_x, sharp_y), is_flat=False, heads_dict_name=heads_name)\n",
    "        if success:\n",
    "            all_sharps_dict[head_point[0]] = head_point[1]   \n",
    "            del single_templates_dict['sharps'][sharp_x]\n",
    "for flat_x, flat_y in single_templates_dict['flats'].items():\n",
    "    for heads_name in heads_names_arr:\n",
    "        success, head_point = find_head_for_accidental((flat_x, flat_y), is_flat=True, heads_dict_name=heads_name)\n",
    "        if success:\n",
    "            all_flats_dict[head_point[0]] = head_point[1]\n",
    "            del single_templates_dict['flats'][flat_x]\n",
    "for natural_x, natural_y in single_templates_dict['naturals'].items():\n",
    "    for heads_name in heads_names_arr:\n",
    "        success, head_point = find_head_for_accidental((natural_x, natural_y), is_flat=False, heads_dict_name=heads_name)\n",
    "        if success:\n",
    "            all_naturals_dict[head_point[0]] = head_point[1]\n",
    "            del single_templates_dict['naturals'][natural_x]"
   ]
  },
  {
   "cell_type": "markdown",
   "metadata": {},
   "source": [
    "# Eight note stems (up and down)"
   ]
  },
  {
   "cell_type": "code",
   "execution_count": 55,
   "metadata": {
    "collapsed": true,
    "scrolled": true
   },
   "outputs": [],
   "source": [
    "threshold = 0.8\n",
    "img_no_heads = img_wholes_no_other_heads.copy()\n",
    "img_no_heads_plot = img_wholes_no_other_heads_plot.copy()\n",
    "single_templates_dict['eight_stems_up'] = {}\n",
    "single_templates_dict['eight_stems_down'] = {}"
   ]
  },
  {
   "cell_type": "code",
   "execution_count": 56,
   "metadata": {
    "collapsed": true
   },
   "outputs": [],
   "source": [
    "eight_down_template = cv2.imread(TEMPLATES_PATH + '/osmina-dole.jpg',0)\n",
    "w, h = eight_down_template.shape[::-1]\n",
    "\n",
    "res = cv2.matchTemplate(img_stems, eight_down_template, cv2.TM_CCOEFF_NORMED)\n",
    "loc = np.where( res >= threshold)"
   ]
  },
  {
   "cell_type": "code",
   "execution_count": 57,
   "metadata": {
    "collapsed": true
   },
   "outputs": [],
   "source": [
    "for point in zip(*loc[::-1]):\n",
    "    if (add_template(single_templates_dict['eight_stems_down'], point)):\n",
    "        cv2.rectangle(img_no_heads, (point[0] + 11, point[1] + 9), (point[0] + w, point[1] + h - 7), (255,255,255), 20)\n",
    "    cv2.rectangle(img_no_heads_plot, point, (point[0] + w * 2, point[1] + h / 3), (0,255,255), 5)"
   ]
  },
  {
   "cell_type": "code",
   "execution_count": 58,
   "metadata": {
    "collapsed": true
   },
   "outputs": [],
   "source": [
    "eight_down_template = cv2.imread(TEMPLATES_PATH + '/osmina-dole-2.jpg',0)\n",
    "w, h = eight_down_template.shape[::-1]\n",
    "\n",
    "res = cv2.matchTemplate(img_stems, eight_down_template, cv2.TM_CCOEFF_NORMED)\n",
    "loc = np.where( res >= threshold)"
   ]
  },
  {
   "cell_type": "code",
   "execution_count": 59,
   "metadata": {
    "collapsed": true
   },
   "outputs": [],
   "source": [
    "for point in zip(*loc[::-1]):\n",
    "    if (add_template(single_templates_dict['eight_stems_down'], point)):\n",
    "        cv2.rectangle(img_no_heads, (point[0] + 11, point[1] + 9), (point[0] + w, point[1] + h - 7), (255,255,255), 20)\n",
    "    cv2.rectangle(img_no_heads_plot, point, (point[0] + w * 2, point[1] + h / 3), (0,255,255), 5)"
   ]
  },
  {
   "cell_type": "code",
   "execution_count": 60,
   "metadata": {
    "collapsed": true
   },
   "outputs": [],
   "source": [
    "eight_up_template = cv2.imread(TEMPLATES_PATH + '/osmina-gore.jpg',0)\n",
    "w, h = eight_up_template.shape[::-1]\n",
    "\n",
    "res = cv2.matchTemplate(img_stems, eight_up_template, cv2.TM_CCOEFF_NORMED)\n",
    "loc = np.where( res >= threshold)"
   ]
  },
  {
   "cell_type": "code",
   "execution_count": 61,
   "metadata": {
    "collapsed": true
   },
   "outputs": [],
   "source": [
    "for point in zip(*loc[::-1]):\n",
    "    if (add_template(single_templates_dict['eight_stems_up'], point)):\n",
    "        cv2.rectangle(img_no_heads, (point[0] + 11, point[1] + 9), (point[0] + w, point[1] + h - 7), (255,255,255), 20)\n",
    "    cv2.rectangle(img_no_heads_plot, point, (point[0] + w * 2, point[1] + h / 3), (0,255,255), 5)"
   ]
  },
  {
   "cell_type": "code",
   "execution_count": 62,
   "metadata": {
    "collapsed": true
   },
   "outputs": [],
   "source": [
    "threshold = 0.7\n",
    "eight_up_template = cv2.imread(TEMPLATES_PATH + '/osmina-gore-2.jpg',0)\n",
    "w, h = eight_up_template.shape[::-1]\n",
    "\n",
    "res = cv2.matchTemplate(img_stems, eight_up_template, cv2.TM_CCOEFF_NORMED)\n",
    "loc = np.where( res >= threshold)\n",
    "threshold = 0.8"
   ]
  },
  {
   "cell_type": "code",
   "execution_count": 63,
   "metadata": {
    "collapsed": true
   },
   "outputs": [],
   "source": [
    "for point in zip(*loc[::-1]):\n",
    "    if (add_template(single_templates_dict['eight_stems_up'], point)):\n",
    "        cv2.rectangle(img_no_heads, (point[0] + 11, point[1] + 9), (point[0] + w, point[1] + h - 7), (255,255,255), 20)\n",
    "    cv2.rectangle(img_no_heads_plot, point, (point[0] + w * 2, point[1] + h / 3), (255,0,0), 5)"
   ]
  },
  {
   "cell_type": "markdown",
   "metadata": {},
   "source": [
    "# Sixteen note stems (up and down)"
   ]
  },
  {
   "cell_type": "code",
   "execution_count": 64,
   "metadata": {
    "collapsed": true
   },
   "outputs": [],
   "source": [
    "threshold = 0.8\n",
    "single_templates_dict['sixteen_stems_up'] = {}\n",
    "single_templates_dict['sixteen_stems_down'] = {}"
   ]
  },
  {
   "cell_type": "code",
   "execution_count": 65,
   "metadata": {
    "collapsed": true
   },
   "outputs": [],
   "source": [
    "sixteen_up_template = cv2.imread(TEMPLATES_PATH + '/sesnaestina-gore.jpg',0)\n",
    "w, h = sixteen_up_template.shape[::-1]\n",
    "\n",
    "res = cv2.matchTemplate(img_stems, sixteen_up_template, cv2.TM_CCOEFF_NORMED)\n",
    "loc = np.where( res >= threshold)"
   ]
  },
  {
   "cell_type": "code",
   "execution_count": 66,
   "metadata": {
    "collapsed": true
   },
   "outputs": [],
   "source": [
    "for point in zip(*loc[::-1]):\n",
    "    if (add_template(single_templates_dict['sixteen_stems_up'], point)):\n",
    "        cv2.rectangle(img_no_heads, (point[0] + 11, point[1] + 9), (point[0] + w, point[1] + h - 7), (255,255,255), 20)\n",
    "    cv2.rectangle(img_no_heads_plot, point, (point[0] + w * 2, point[1] + h / 3), (255,0,0), 5)"
   ]
  },
  {
   "cell_type": "code",
   "execution_count": 67,
   "metadata": {
    "collapsed": true
   },
   "outputs": [],
   "source": [
    "sixteen_down_template = cv2.imread(TEMPLATES_PATH + '/sesnaestina-dole.jpg',0)\n",
    "w, h = sixteen_down_template.shape[::-1]\n",
    "\n",
    "res = cv2.matchTemplate(img_stems, sixteen_down_template, cv2.TM_CCOEFF_NORMED)\n",
    "loc = np.where( res >= threshold)"
   ]
  },
  {
   "cell_type": "code",
   "execution_count": 68,
   "metadata": {
    "collapsed": true
   },
   "outputs": [],
   "source": [
    "for point in zip(*loc[::-1]):\n",
    "    if (add_template(single_templates_dict['sixteen_stems_down'], point)):\n",
    "        cv2.rectangle(img_no_heads, (point[0] + 11, point[1] + 9), (point[0] + w, point[1] + h - 7), (255,255,255), 20)\n",
    "    cv2.rectangle(img_no_heads_plot, point, (point[0] + w * 2, point[1] + h / 3), (255,0,0), 5)"
   ]
  },
  {
   "cell_type": "markdown",
   "metadata": {},
   "source": [
    "# Remembering all full heads found"
   ]
  },
  {
   "cell_type": "code",
   "execution_count": 69,
   "metadata": {
    "collapsed": true
   },
   "outputs": [],
   "source": [
    "ALL_FULL_HEADS_FOUND = len(single_templates_dict['full_heads'])"
   ]
  },
  {
   "cell_type": "markdown",
   "metadata": {
    "collapsed": true
   },
   "source": [
    "# Heads + stems UP"
   ]
  },
  {
   "cell_type": "code",
   "execution_count": 70,
   "metadata": {
    "collapsed": true
   },
   "outputs": [],
   "source": [
    "for head_x, head_y in single_templates_dict['full_heads'].items(): # for each note head found\n",
    "    if (search_around_template_point_up((head_x, head_y), single_templates_dict['eight_stems_up'])):\n",
    "        all_notes_dict['eights_up'][head_x] = head_y\n",
    "        del single_templates_dict['full_heads'][head_x]\n",
    "    if (search_around_template_point_up((head_x, head_y), single_templates_dict['sixteen_stems_up'])):\n",
    "        all_notes_dict['sixteens_up'][head_x] = head_y\n",
    "        del single_templates_dict['full_heads'][head_x]"
   ]
  },
  {
   "cell_type": "markdown",
   "metadata": {},
   "source": [
    "# Heads + stems DOWN"
   ]
  },
  {
   "cell_type": "code",
   "execution_count": 71,
   "metadata": {
    "collapsed": true
   },
   "outputs": [],
   "source": [
    "for head_x, head_y in single_templates_dict['full_heads'].items(): # for each note head found\n",
    "    if (search_around_template_point_down((head_x, head_y), single_templates_dict['eight_stems_down'])):\n",
    "        all_notes_dict['eights_down'][head_x] = head_y\n",
    "        del single_templates_dict['full_heads'][head_x]\n",
    "    if (search_around_template_point_down((head_x, head_y), single_templates_dict['sixteen_stems_down'])):\n",
    "        all_notes_dict['sixteens_down'][head_x] = head_y\n",
    "        del single_templates_dict['full_heads'][head_x]"
   ]
  },
  {
   "cell_type": "markdown",
   "metadata": {},
   "source": [
    "# Hooks - START"
   ]
  },
  {
   "cell_type": "code",
   "execution_count": 72,
   "metadata": {
    "collapsed": true
   },
   "outputs": [],
   "source": [
    "img_no_heads_no_stems = img_no_heads.copy()\n",
    "img_no_heads_no_stems_plot = img_no_heads_plot.copy()"
   ]
  },
  {
   "cell_type": "code",
   "execution_count": 73,
   "metadata": {
    "collapsed": true
   },
   "outputs": [],
   "source": [
    "threshold = 0.8\n",
    "single_templates_dict['eight_hooks_up_start'] = {}\n",
    "single_templates_dict['eight_hooks_down_start'] = {}"
   ]
  },
  {
   "cell_type": "markdown",
   "metadata": {},
   "source": [
    "## Hooks - start up"
   ]
  },
  {
   "cell_type": "code",
   "execution_count": 74,
   "metadata": {
    "collapsed": true
   },
   "outputs": [],
   "source": [
    "hook_start_eight_down_template = cv2.imread(TEMPLATES_PATH + '/kuka-gore-pocetak-1.jpg',0)\n",
    "w, h = hook_start_eight_down_template.shape[::-1]\n",
    "\n",
    "res = cv2.matchTemplate(img_no_heads_no_stems, hook_start_eight_down_template, cv2.TM_CCOEFF_NORMED)\n",
    "loc = np.where( res >= threshold)"
   ]
  },
  {
   "cell_type": "code",
   "execution_count": 75,
   "metadata": {
    "collapsed": true
   },
   "outputs": [],
   "source": [
    "for point in zip(*loc[::-1]):\n",
    "    if (add_template(single_templates_dict['eight_hooks_up_start'], point)):\n",
    "        cv2.rectangle(img_no_heads_no_stems, (point[0] + 11, point[1]), (point[0] + w, point[1] + h - 7), (255,255,255), 20)\n",
    "    cv2.rectangle(img_no_heads_no_stems_plot, point, (point[0] + w * 2, point[1] + h), (100,155,155), 5)"
   ]
  },
  {
   "cell_type": "code",
   "execution_count": 76,
   "metadata": {
    "collapsed": true
   },
   "outputs": [],
   "source": [
    "hook_start_eight_up_template = cv2.imread(TEMPLATES_PATH + '/kuka-gore-pocetak-2.jpg',0)\n",
    "hook_start_eight_up_template_w, hook_start_eight_up_template_h = hook_start_eight_up_template.shape[::-1]\n",
    "\n",
    "res = cv2.matchTemplate(img_no_heads_no_stems, hook_start_eight_up_template, cv2.TM_CCOEFF_NORMED)\n",
    "loc = np.where( res >= threshold)"
   ]
  },
  {
   "cell_type": "code",
   "execution_count": 77,
   "metadata": {
    "collapsed": true
   },
   "outputs": [],
   "source": [
    "for point in zip(*loc[::-1]):\n",
    "    if (add_template(single_templates_dict['eight_hooks_up_start'], point)):\n",
    "        cv2.rectangle(img_no_heads_no_stems, (point[0] + 11, point[1]), (point[0] + hook_start_eight_up_template_w, point[1] + hook_start_eight_up_template_h - 7), (255,255,255), 20)\n",
    "    cv2.rectangle(img_no_heads_no_stems_plot, point, (point[0] + hook_start_eight_up_template_w * 2, point[1] + hook_start_eight_up_template_h), (100,155,155), 5)"
   ]
  },
  {
   "cell_type": "code",
   "execution_count": 78,
   "metadata": {
    "collapsed": true
   },
   "outputs": [],
   "source": [
    "hook_start_eight_up_template = cv2.imread(TEMPLATES_PATH + '/kuka-gore-pocetak-3.jpg',0)\n",
    "hook_start_eight_up_template_w, hook_start_eight_up_template_h = hook_start_eight_up_template.shape[::-1]\n",
    "\n",
    "res = cv2.matchTemplate(img_no_heads_no_stems, hook_start_eight_up_template, cv2.TM_CCOEFF_NORMED)\n",
    "loc = np.where( res >= threshold)"
   ]
  },
  {
   "cell_type": "code",
   "execution_count": 79,
   "metadata": {
    "collapsed": true
   },
   "outputs": [],
   "source": [
    "for point in zip(*loc[::-1]):\n",
    "    if (add_template(single_templates_dict['eight_hooks_up_start'], point)):\n",
    "        cv2.rectangle(img_no_heads_no_stems, (point[0] + 11, point[1]), (point[0] + hook_start_eight_up_template_w, point[1] + hook_start_eight_up_template_h - 7), (255,255,255), 20)\n",
    "    cv2.rectangle(img_no_heads_no_stems_plot, point, (point[0] + hook_start_eight_up_template_w * 2, point[1] + hook_start_eight_up_template_h), (100,155,155), 5)"
   ]
  },
  {
   "cell_type": "markdown",
   "metadata": {},
   "source": [
    "## Hooks - start down"
   ]
  },
  {
   "cell_type": "code",
   "execution_count": 80,
   "metadata": {
    "collapsed": true
   },
   "outputs": [],
   "source": [
    "hook_start_eight_up_template = cv2.imread(TEMPLATES_PATH + '/kuka-dole-pocetak-1.jpg',0)\n",
    "w, h = hook_start_eight_up_template.shape[::-1]\n",
    "\n",
    "res = cv2.matchTemplate(img_no_heads_no_stems, hook_start_eight_up_template, cv2.TM_CCOEFF_NORMED)\n",
    "loc = np.where( res >= threshold)"
   ]
  },
  {
   "cell_type": "code",
   "execution_count": 81,
   "metadata": {
    "collapsed": true
   },
   "outputs": [],
   "source": [
    "for point in zip(*loc[::-1]):\n",
    "    if (add_template(single_templates_dict['eight_hooks_down_start'], point)):\n",
    "        cv2.rectangle(img_no_heads_no_stems, (point[0] + 11, point[1]), (point[0] + w, point[1] + h - 7), (255,255,255), 20)\n",
    "    cv2.rectangle(img_no_heads_no_stems_plot, point, (point[0] + w * 2, point[1] + h), (100,155,155), 5)"
   ]
  },
  {
   "cell_type": "code",
   "execution_count": 82,
   "metadata": {
    "collapsed": true
   },
   "outputs": [],
   "source": [
    "hook_start_eight_up_template = cv2.imread(TEMPLATES_PATH + '/kuka-dole-pocetak-2.jpg',0)\n",
    "w, h = hook_start_eight_up_template.shape[::-1]\n",
    "\n",
    "res = cv2.matchTemplate(img_no_heads_no_stems, hook_start_eight_up_template, cv2.TM_CCOEFF_NORMED)\n",
    "loc = np.where( res >= threshold)"
   ]
  },
  {
   "cell_type": "code",
   "execution_count": 83,
   "metadata": {
    "collapsed": true
   },
   "outputs": [],
   "source": [
    "for point in zip(*loc[::-1]):\n",
    "    if (add_template(single_templates_dict['eight_hooks_down_start'], point)):\n",
    "        cv2.rectangle(img_no_heads_no_stems, (point[0] + 11, point[1]), (point[0] + w, point[1] + h - 7), (255,255,255), 20)\n",
    "    cv2.rectangle(img_no_heads_no_stems_plot, point, (point[0] + w * 2, point[1] + h), (100,155,155), 5)"
   ]
  },
  {
   "cell_type": "code",
   "execution_count": 84,
   "metadata": {
    "collapsed": true
   },
   "outputs": [],
   "source": [
    "hook_start_eight_up_template = cv2.imread(TEMPLATES_PATH + '/kuka-dole-pocetak-3.jpg',0)\n",
    "w, h = hook_start_eight_up_template.shape[::-1]\n",
    "\n",
    "res = cv2.matchTemplate(img_no_heads_no_stems, hook_start_eight_up_template, cv2.TM_CCOEFF_NORMED)\n",
    "loc = np.where( res >= threshold)"
   ]
  },
  {
   "cell_type": "code",
   "execution_count": 85,
   "metadata": {
    "collapsed": true
   },
   "outputs": [],
   "source": [
    "for point in zip(*loc[::-1]):\n",
    "    if (add_template(single_templates_dict['eight_hooks_down_start'], point)):\n",
    "        cv2.rectangle(img_no_heads_no_stems, (point[0] + 11, point[1]), (point[0] + w, point[1] + h - 7), (255,255,255), 20)\n",
    "    cv2.rectangle(img_no_heads_no_stems_plot, point, (point[0] + w * 2, point[1] + h), (100,155,155), 5)"
   ]
  },
  {
   "cell_type": "markdown",
   "metadata": {},
   "source": [
    "# Hooks - END"
   ]
  },
  {
   "cell_type": "code",
   "execution_count": 86,
   "metadata": {
    "collapsed": true
   },
   "outputs": [],
   "source": [
    "threshold = 0.75\n",
    "single_templates_dict['eight_hooks_up_end'] = {}\n",
    "single_templates_dict['eight_hooks_down_end'] = {}"
   ]
  },
  {
   "cell_type": "code",
   "execution_count": 87,
   "metadata": {
    "collapsed": true
   },
   "outputs": [],
   "source": [
    "hook_start_eight_down_template = cv2.imread(TEMPLATES_PATH + '/kuka-gore-kraj-1.jpg',0)\n",
    "w, h = hook_start_eight_down_template.shape[::-1]\n",
    "\n",
    "res = cv2.matchTemplate(img_no_heads_no_stems, hook_start_eight_down_template, cv2.TM_CCOEFF_NORMED)\n",
    "loc = np.where( res >= threshold)"
   ]
  },
  {
   "cell_type": "code",
   "execution_count": 88,
   "metadata": {
    "collapsed": true
   },
   "outputs": [],
   "source": [
    "for point in zip(*loc[::-1]):\n",
    "    if (add_template(single_templates_dict['eight_hooks_up_end'], point)):\n",
    "        cv2.rectangle(img_no_heads_no_stems, (point[0] + 11, point[1]), (point[0] + w, point[1] + h - 7), (255,255,255), 20)\n",
    "    cv2.rectangle(img_no_heads_no_stems_plot, point, (point[0] + w * 2, point[1] + h), (255,0,0), 5)"
   ]
  },
  {
   "cell_type": "code",
   "execution_count": 89,
   "metadata": {
    "collapsed": true
   },
   "outputs": [],
   "source": [
    "hook_start_eight_down_template = cv2.imread(TEMPLATES_PATH + '/kuka-gore-kraj-2.jpg',0)\n",
    "w, h = hook_start_eight_down_template.shape[::-1]\n",
    "\n",
    "res = cv2.matchTemplate(img_no_heads_no_stems, hook_start_eight_down_template, cv2.TM_CCOEFF_NORMED)\n",
    "loc = np.where( res >= threshold)"
   ]
  },
  {
   "cell_type": "code",
   "execution_count": 90,
   "metadata": {
    "collapsed": true
   },
   "outputs": [],
   "source": [
    "for point in zip(*loc[::-1]):\n",
    "    if (add_template(single_templates_dict['eight_hooks_up_end'], point)):\n",
    "        cv2.rectangle(img_no_heads_no_stems, (point[0] + 11, point[1]), (point[0] + w, point[1] + h - 7), (255,255,255), 20)\n",
    "    cv2.rectangle(img_no_heads_no_stems_plot, point, (point[0] + w * 2, point[1] + h), (0,255,0), 5)"
   ]
  },
  {
   "cell_type": "code",
   "execution_count": 91,
   "metadata": {
    "collapsed": true
   },
   "outputs": [],
   "source": [
    "hook_start_eight_down_template = cv2.imread(TEMPLATES_PATH + '/kuka-gore-kraj-3.jpg',0)\n",
    "w, h = hook_start_eight_down_template.shape[::-1]\n",
    "\n",
    "res = cv2.matchTemplate(img_no_heads_no_stems, hook_start_eight_down_template, cv2.TM_CCOEFF_NORMED)\n",
    "loc = np.where( res >= threshold)"
   ]
  },
  {
   "cell_type": "code",
   "execution_count": 92,
   "metadata": {
    "collapsed": true
   },
   "outputs": [],
   "source": [
    "for point in zip(*loc[::-1]):\n",
    "    if (add_template(single_templates_dict['eight_hooks_up_end'], point)):\n",
    "        cv2.rectangle(img_no_heads_no_stems, (point[0] + 11, point[1]), (point[0] + w, point[1] + h - 7), (255,255,255), 20)\n",
    "    cv2.rectangle(img_no_heads_no_stems_plot, point, (point[0] + w * 2, point[1] + h), (0,0,255), 5)"
   ]
  },
  {
   "cell_type": "code",
   "execution_count": 93,
   "metadata": {
    "collapsed": true
   },
   "outputs": [],
   "source": [
    "hook_start_eight_down_template = cv2.imread(TEMPLATES_PATH + '/kuka-dole-kraj-1.jpg',0)\n",
    "w, h = hook_start_eight_down_template.shape[::-1]\n",
    "\n",
    "res = cv2.matchTemplate(img_no_heads_no_stems, hook_start_eight_down_template, cv2.TM_CCOEFF_NORMED)\n",
    "loc = np.where( res >= threshold)"
   ]
  },
  {
   "cell_type": "code",
   "execution_count": 94,
   "metadata": {
    "collapsed": true
   },
   "outputs": [],
   "source": [
    "for point in zip(*loc[::-1]):\n",
    "    if (add_template(single_templates_dict['eight_hooks_down_end'], point)):\n",
    "        cv2.rectangle(img_no_heads_no_stems, (point[0] + 11, point[1]), (point[0] + w, point[1] + h - 7), (255,255,255), 20)\n",
    "    cv2.rectangle(img_no_heads_no_stems_plot, point, (point[0] + w * 2, point[1] + h), (200,55,55), 5)"
   ]
  },
  {
   "cell_type": "code",
   "execution_count": 95,
   "metadata": {
    "collapsed": true
   },
   "outputs": [],
   "source": [
    "hook_start_eight_down_template = cv2.imread(TEMPLATES_PATH + '/kuka-dole-kraj-2.jpg',0)\n",
    "w, h = hook_start_eight_down_template.shape[::-1]\n",
    "\n",
    "res = cv2.matchTemplate(img_no_heads_no_stems, hook_start_eight_down_template, cv2.TM_CCOEFF_NORMED)\n",
    "loc = np.where( res >= threshold)"
   ]
  },
  {
   "cell_type": "code",
   "execution_count": 96,
   "metadata": {
    "collapsed": true
   },
   "outputs": [],
   "source": [
    "for point in zip(*loc[::-1]):\n",
    "    if (add_template(single_templates_dict['eight_hooks_down_end'], point)):\n",
    "        cv2.rectangle(img_no_heads_no_stems, (point[0] + 11, point[1]), (point[0] + w, point[1] + h - 7), (255,255,255), 20)\n",
    "    cv2.rectangle(img_no_heads_no_stems_plot, point, (point[0] + w * 2, point[1] + h), (200,55,55), 5)"
   ]
  },
  {
   "cell_type": "code",
   "execution_count": 97,
   "metadata": {
    "collapsed": true
   },
   "outputs": [],
   "source": [
    "hook_start_eight_down_template = cv2.imread(TEMPLATES_PATH + '/kuka-dole-kraj-3.jpg',0)\n",
    "w, h = hook_start_eight_down_template.shape[::-1]\n",
    "\n",
    "res = cv2.matchTemplate(img_no_heads_no_stems, hook_start_eight_down_template, cv2.TM_CCOEFF_NORMED)\n",
    "loc = np.where( res >= threshold)"
   ]
  },
  {
   "cell_type": "code",
   "execution_count": 98,
   "metadata": {
    "collapsed": true
   },
   "outputs": [],
   "source": [
    "for point in zip(*loc[::-1]):\n",
    "    if (add_template(single_templates_dict['eight_hooks_down_end'], point)):\n",
    "        cv2.rectangle(img_no_heads_no_stems, (point[0] + 11, point[1]), (point[0] + w, point[1] + h - 7), (255,255,255), 20)\n",
    "    cv2.rectangle(img_no_heads_no_stems_plot, point, (point[0] + w * 2, point[1] + h), (200,55,55), 5)"
   ]
  },
  {
   "cell_type": "markdown",
   "metadata": {
    "collapsed": true
   },
   "source": [
    "# Heads + hooks . Start UP"
   ]
  },
  {
   "cell_type": "code",
   "execution_count": 99,
   "metadata": {},
   "outputs": [
    {
     "name": "stdout",
     "output_type": "stream",
     "text": [
      "1569 516\n",
      "1988 920\n",
      "966 860\n",
      "344 932\n"
     ]
    }
   ],
   "source": [
    "for head_x, head_y in single_templates_dict['full_heads'].items():\n",
    "    if head_with_hook_up((head_x, head_y), 'eight_hooks_up_start'):\n",
    "        all_notes_dict['eights_up'][head_x] = head_y\n",
    "        all_hooks_dict['start'][head_x] = head_y\n",
    "        del single_templates_dict['full_heads'][head_x]\n",
    "        print head_x, head_y"
   ]
  },
  {
   "cell_type": "markdown",
   "metadata": {},
   "source": [
    "# Heads + hooks . Start DOWN"
   ]
  },
  {
   "cell_type": "code",
   "execution_count": 100,
   "metadata": {
    "collapsed": true
   },
   "outputs": [],
   "source": [
    "for head_x, head_y in single_templates_dict['full_heads'].items():\n",
    "    if head_with_hook_down((head_x, head_y), 'eight_hooks_down_start'):\n",
    "        all_notes_dict['eights_down'][head_x] = head_y\n",
    "        all_hooks_dict['start'][head_x] = head_y\n",
    "        del single_templates_dict['full_heads'][head_x]\n",
    "        print head_x, head_y"
   ]
  },
  {
   "cell_type": "markdown",
   "metadata": {},
   "source": [
    "# Heads + hooks . End UP"
   ]
  },
  {
   "cell_type": "code",
   "execution_count": 101,
   "metadata": {},
   "outputs": [
    {
     "name": "stdout",
     "output_type": "stream",
     "text": [
      "4\n"
     ]
    }
   ],
   "source": [
    "ends_matched = 0\n",
    "for head_x, head_y in single_templates_dict['full_heads'].items():\n",
    "    if head_with_hook_up((head_x, head_y), 'eight_hooks_up_end'):\n",
    "        all_notes_dict['eights_up'][head_x] = head_y\n",
    "        all_hooks_dict['end'][head_x] = head_y\n",
    "        del single_templates_dict['full_heads'][head_x]\n",
    "        ends_matched += 1\n",
    "print ends_matched"
   ]
  },
  {
   "cell_type": "markdown",
   "metadata": {},
   "source": [
    "# Heads + hooks . End DOWN"
   ]
  },
  {
   "cell_type": "code",
   "execution_count": 102,
   "metadata": {},
   "outputs": [
    {
     "name": "stdout",
     "output_type": "stream",
     "text": [
      "0\n"
     ]
    }
   ],
   "source": [
    "ends_matched = 0\n",
    "for head_x, head_y in single_templates_dict['full_heads'].items():\n",
    "    if head_with_hook_down((head_x, head_y), 'eight_hooks_down_end'):\n",
    "        all_notes_dict['eights_down'][head_x] = head_y\n",
    "        all_hooks_dict['end'][head_x] = head_y\n",
    "        del single_templates_dict['full_heads'][head_x]\n",
    "        ends_matched += 1\n",
    "print ends_matched"
   ]
  },
  {
   "cell_type": "markdown",
   "metadata": {},
   "source": [
    "# Declare the rest of the full note heads as quarters"
   ]
  },
  {
   "cell_type": "code",
   "execution_count": 103,
   "metadata": {
    "collapsed": true
   },
   "outputs": [],
   "source": [
    "all_notes_dict['quarters_up'] = single_templates_dict['full_heads'].copy()\n",
    "single_templates_dict['full_heads'].clear()"
   ]
  },
  {
   "cell_type": "code",
   "execution_count": 104,
   "metadata": {
    "collapsed": true
   },
   "outputs": [],
   "source": [
    "for x, y in all_notes_dict['quarters_up'].items():\n",
    "    cv2.rectangle(img_no_heads_no_stems_plot, (x,y), (x + 3, y - 100), (55,255,50), 5)"
   ]
  },
  {
   "cell_type": "markdown",
   "metadata": {},
   "source": [
    "# Dots"
   ]
  },
  {
   "cell_type": "code",
   "execution_count": 105,
   "metadata": {
    "collapsed": true
   },
   "outputs": [],
   "source": [
    "#img_dots - defined at the beginning\n",
    "#img_dots_plot - defined at the beginning\n",
    "threshold = 0.82\n",
    "#single_templates_dict['dots'] = {}\n",
    "dots_template_names = ['1', '2', '3']"
   ]
  },
  {
   "cell_type": "code",
   "execution_count": 106,
   "metadata": {
    "collapsed": true
   },
   "outputs": [],
   "source": [
    "for template_name in dots_template_names:\n",
    "    dot_template_1 = cv2.imread(TEMPLATES_PATH + '/tacka-' + template_name + '.jpg',0)\n",
    "    w, h = dot_template_1.shape[::-1]\n",
    "\n",
    "    res = cv2.matchTemplate(img_dots, dot_template_1, cv2.TM_CCOEFF_NORMED)\n",
    "    loc = np.where( res >= threshold)\n",
    "    for point in zip(*loc[::-1]):\n",
    "        if (add_template(single_templates_dict['dots'], point)):\n",
    "            cv2.rectangle(img_dots, (point[0] + 11, point[1]), (point[0] + w, point[1] + h - 7), (255,255,255), 20)\n",
    "        cv2.circle(img_dots_plot, point, 30, (100,155,155), 15)"
   ]
  },
  {
   "cell_type": "markdown",
   "metadata": {},
   "source": [
    "# Notes + dots"
   ]
  },
  {
   "cell_type": "code",
   "execution_count": 107,
   "metadata": {
    "collapsed": true
   },
   "outputs": [],
   "source": [
    "for dot_x, dot_y in single_templates_dict['dots'].items():\n",
    "    for key in all_notes_dict.keys():\n",
    "        success, point = find_note_for_dot((dot_x, dot_y), all_notes_dict[key], full_head_template_w)\n",
    "        if success:\n",
    "            all_dots_dict[key][point[0]] = point[1]"
   ]
  },
  {
   "cell_type": "code",
   "execution_count": 108,
   "metadata": {},
   "outputs": [
    {
     "name": "stdout",
     "output_type": "stream",
     "text": [
      "{'eights_up': {}, 'eights_down': {}, 'halves_up': {}, 'halves_down': {}, 'quarters_up': {}, 'sixteens_down': {}, 'sixteens_up': {}, 'wholes': {}, 'quarters_down': {}}\n"
     ]
    }
   ],
   "source": [
    "print all_dots_dict"
   ]
  },
  {
   "cell_type": "markdown",
   "metadata": {},
   "source": [
    "# Breaks"
   ]
  },
  {
   "cell_type": "code",
   "execution_count": 109,
   "metadata": {
    "collapsed": true
   },
   "outputs": [],
   "source": [
    "# img_breaks - defined at the beginning\n",
    "# img_breaks_plot - defined at the beginning\n",
    "threshold = 0.75\n",
    "breaks_template_names = [('osmina','eight'), ('cetvrtina','quarter'), ('cijela', 'whole')]"
   ]
  },
  {
   "cell_type": "code",
   "execution_count": 110,
   "metadata": {
    "collapsed": true
   },
   "outputs": [],
   "source": [
    "for break_template_name in breaks_template_names:\n",
    "    break_template = cv2.imread(TEMPLATES_PATH + '/pauza-' + break_template_name[0] + '.jpg',0)\n",
    "    w, h = break_template.shape[::-1]\n",
    "\n",
    "    res = cv2.matchTemplate(img_breaks, break_template, cv2.TM_CCOEFF_NORMED)\n",
    "    loc = np.where( res >= threshold)\n",
    "    \n",
    "    for point in zip(*loc[::-1]):\n",
    "        if (add_template(single_templates_dict[break_template_name[1] + '_breaks'], point)):\n",
    "            cv2.rectangle(img_dots, (point[0] + 11, point[1]), (point[0] + w, point[1] + h - 7), (255,255,255), 20)\n",
    "        cv2.circle(img_breaks_plot, point, 30, (100,155,155), 15)"
   ]
  },
  {
   "cell_type": "code",
   "execution_count": 111,
   "metadata": {
    "collapsed": true
   },
   "outputs": [],
   "source": [
    "all_breaks_dict['eight_breaks'] = single_templates_dict['eight_breaks']\n",
    "all_breaks_dict['quarter_breaks'] = single_templates_dict['quarter_breaks']\n",
    "all_breaks_dict['half_breaks'] = single_templates_dict['half_breaks']\n",
    "all_breaks_dict['whole_breaks'] = single_templates_dict['whole_breaks']"
   ]
  },
  {
   "cell_type": "code",
   "execution_count": 112,
   "metadata": {},
   "outputs": [
    {
     "name": "stdout",
     "output_type": "stream",
     "text": [
      "whole_breaks 0\n",
      "quarter_breaks 8\n",
      "eight_breaks 0\n",
      "half_breaks 0\n"
     ]
    }
   ],
   "source": [
    "for i in all_breaks_dict:\n",
    "    print i, len(all_breaks_dict[i])"
   ]
  },
  {
   "cell_type": "code",
   "execution_count": 113,
   "metadata": {
    "scrolled": true
   },
   "outputs": [
    {
     "data": {
      "text/plain": [
       "<matplotlib.image.AxesImage at 0xb0fd518>"
      ]
     },
     "execution_count": 113,
     "metadata": {},
     "output_type": "execute_result"
    },
    {
     "data": {
      "image/png": "[encoded data removed]",
      "text/plain": [
       "<matplotlib.figure.Figure at 0x800ada0>"
      ]
     },
     "metadata": {},
     "output_type": "display_data"
    }
   ],
   "source": [
    "plt.imshow(img_breaks_plot)"
   ]
  },
  {
   "cell_type": "code",
   "execution_count": 114,
   "metadata": {
    "collapsed": true
   },
   "outputs": [],
   "source": [
    "#plt.imshow(img_dots_plot)"
   ]
  },
  {
   "cell_type": "code",
   "execution_count": 115,
   "metadata": {
    "collapsed": true
   },
   "outputs": [],
   "source": [
    "#plt.imshow(img_accidentals_plot)"
   ]
  },
  {
   "cell_type": "code",
   "execution_count": 116,
   "metadata": {
    "scrolled": true
   },
   "outputs": [
    {
     "data": {
      "text/plain": [
       "<matplotlib.image.AxesImage at 0xb2699b0>"
      ]
     },
     "execution_count": 116,
     "metadata": {},
     "output_type": "execute_result"
    },
    {
     "data": {
      "image/png": "[encoded data removed]",
      "text/plain": [
       "<matplotlib.figure.Figure at 0xb0c1518>"
      ]
     },
     "metadata": {},
     "output_type": "display_data"
    }
   ],
   "source": [
    "plt.imshow(img_no_heads_no_stems_plot)"
   ]
  },
  {
   "cell_type": "code",
   "execution_count": 117,
   "metadata": {
    "scrolled": true
   },
   "outputs": [
    {
     "data": {
      "text/plain": [
       "<matplotlib.image.AxesImage at 0xb42f240>"
      ]
     },
     "execution_count": 117,
     "metadata": {},
     "output_type": "execute_result"
    },
    {
     "data": {
      "image/png": "[encoded data removed]",
      "text/plain": [
       "<matplotlib.figure.Figure at 0xb28eb38>"
      ]
     },
     "metadata": {},
     "output_type": "display_data"
    }
   ],
   "source": [
    "plt.imshow(img_accidentals_plot)"
   ]
  },
  {
   "cell_type": "markdown",
   "metadata": {},
   "source": [
    "# Notes ordering"
   ]
  },
  {
   "cell_type": "code",
   "execution_count": 118,
   "metadata": {
    "scrolled": true
   },
   "outputs": [
    {
     "name": "stdout",
     "output_type": "stream",
     "text": [
      "eights_up {1569: 516, 2146: 487, 1988: 920, 966: 860, 2045: 919, 404: 932, 344: 932, 925: 521}\n",
      "\n",
      "eights_down {}\n",
      "\n",
      "halves_up {640: 850, 1636: 816, 1194: 530, 747: 822, 1900: 541, 1389: 558, 689: 531, 1747: 844, 1110: 561, 1816: 523, 1306: 528, 606: 549}\n",
      "\n",
      "halves_down {}\n",
      "\n",
      "quarters_up {1089: 890, 1026: 912, 1412: 858, 517: 551, 2184: 506, 1289: 891, 1611: 507, 269: 890, 466: 870, 1364: 910, 802: 541, 1501: 496, 415: 501, 962: 501, 290: 521, 2086: 549, 2028: 540, 1901: 861, 456: 560, 1459: 877, 884: 881, 1654: 535, 863: 509, 2107: 881}\n",
      "\n",
      "sixteens_down {}\n",
      "\n",
      "sixteens_up {}\n",
      "\n",
      "wholes {1476: 181}\n",
      "\n",
      "quarters_down {}\n",
      "\n"
     ]
    }
   ],
   "source": [
    "# trebalo bi naći način da note ubacim u konačnu listu po redoslijedu pojavljivanja u dokumentu\n",
    "#- prolazim kroz sve podrjecnike glavnog rjecnika\n",
    "#- za svaku tacku (key, dict[key]) odredim u kom linijskom sistemu se nalazi i izmedju kojih linija tacno\n",
    "#- mozda da svaki notni sistem bude rjecnik\n",
    "#- ...\n",
    "for sub_dict_key, sub_dict_value in all_notes_dict.items():\n",
    "    print sub_dict_key, sub_dict_value\n",
    "    print"
   ]
  },
  {
   "cell_type": "markdown",
   "metadata": {},
   "source": [
    "# time (beats and beat type)"
   ]
  },
  {
   "cell_type": "code",
   "execution_count": 119,
   "metadata": {},
   "outputs": [
    {
     "name": "stdout",
     "output_type": "stream",
     "text": [
      "BEATS / BEAT_TYPE: 4 / 4\n"
     ]
    }
   ],
   "source": [
    "# time\n",
    "# 'two': {}, 'three': {}, 'four': {}, 'C': {}\n",
    "time_x_coordinate = 0  # x coordinate where the time symbols start - used for counting key fifths before time_x coordinate\n",
    "time_beats = 0  # positive integer\n",
    "time_beat_type = 0  # positive integer\n",
    "\n",
    "if single_templates_dict['C'] != {}:\n",
    "    time_beats = 4\n",
    "    time_beat_type = 4\n",
    "    time_x_coordinate = single_templates_dict['C'].keys()[0]  # there is only one C\n",
    "    \n",
    "if single_templates_dict['four'] != {}:\n",
    "    time_beat_type = 4  # if there is only one four, it's the beat type\n",
    "    time_x_coordinate = single_templates_dict['four'].keys()[0]\n",
    "    if len(single_templates_dict['four']) >= 2:  # if there are more fours, set beats to 4\n",
    "        time_beats = 4\n",
    "        \n",
    "if single_templates_dict['three'] != {}:\n",
    "    time_beats = 3  # because a 3 can only be up, as number of beats\n",
    "    time_x_coordinate = single_templates_dict['three'].keys()[0]\n",
    "\n",
    "elif single_templates_dict['two'] != {}:\n",
    "    time_beats = 2  # if there is only one two, it's the beats number\n",
    "    time_x_coordinate = single_templates_dict['two'].keys()[0]\n",
    "    if len(single_templates_dict['two']) >= 2:  # if there are more twos, set beat type to 2 also\n",
    "        time_beat_type = 2\n",
    "\n",
    "# print single_templates_dict['two']\n",
    "# print single_templates_dict['three']\n",
    "# print single_templates_dict['four']\n",
    "# print single_templates_dict['C']\n",
    "print 'BEATS / BEAT_TYPE:', time_beats, '/', time_beat_type"
   ]
  },
  {
   "cell_type": "markdown",
   "metadata": {},
   "source": [
    "# and key (fifths + or - some integer)"
   ]
  },
  {
   "cell_type": "code",
   "execution_count": 120,
   "metadata": {
    "scrolled": true
   },
   "outputs": [
    {
     "name": "stdout",
     "output_type": "stream",
     "text": [
      "{'count': 0, 'staff': 0}\n",
      "{'count': 0, 'staff': 0}\n",
      "0\n"
     ]
    }
   ],
   "source": [
    "# key signature, tonality\n",
    "key_fifths = 0\n",
    "all_staves_accidentals_dict = {}\n",
    "for i in range(1, number_of_staves + 1):\n",
    "    all_staves_accidentals_dict[i] = {'sharps': 0, 'flats': 0}\n",
    "\n",
    "# in single_templates_dict of sharps and flats, remain only those accidentals which are not connected with a note head\n",
    "# these should, ideally, be only accidentals which are in between the Clef and time measurements\n",
    "    \n",
    "if len(single_templates_dict['sharps']) > 0:\n",
    "    for sharp_x, sharp_y in single_templates_dict['sharps'].items():\n",
    "        if sharp_x < time_x_coordinate:  # if we are checking an accidental between the Clef and time measurements\n",
    "            staff_number, pitch = get_staff_and_pitch(sharp_x, sharp_y, staves_x_locations)  # staff numbers start at 1\n",
    "            all_staves_accidentals_dict[staff_number]['sharps'] += 1\n",
    "\n",
    "if len(single_templates_dict['flats']) > 0:\n",
    "    for flat_x, flat_y in single_templates_dict['flats'].items():\n",
    "        if flat_x < time_x_coordinate:  # if we are checking an accidental between the Clef and time measurements\n",
    "            print flat_x\n",
    "            staff_number, pitch = get_staff_and_pitch(flat_x, flat_y, staves_x_locations)  # staff numbers start at 1\n",
    "            all_staves_accidentals_dict[staff_number]['flats'] += 1\n",
    "\n",
    "# we determined the number of accidentals in each saff\n",
    "# check which staff line contains the most unasigned accidentals (sharps or flats)\n",
    "max_sharps = {'staff': 0, 'count': 0}\n",
    "max_flats = {'staff': 0, 'count': 0}\n",
    "\n",
    "for staff_number, sharps_flats_dict in all_staves_accidentals_dict.items():\n",
    "    if sharps_flats_dict['sharps'] > max_sharps['count']:\n",
    "        max_sharps = {'staff': staff_number, 'count': sharps_flats_dict['sharps']}\n",
    "    if sharps_flats_dict['flats'] > max_sharps['count']:\n",
    "        max_flats = {'staff': staff_number, 'count': sharps_flats_dict['flats']}\n",
    "\n",
    "print max_sharps\n",
    "print max_flats\n",
    "if max_sharps['count'] > max_flats['count']:\n",
    "    key_fifths = max_sharps['count']\n",
    "    print max_sharps['staff']\n",
    "else:\n",
    "    key_fifths = -max_flats['count']\n",
    "    print max_flats['staff']"
   ]
  },
  {
   "cell_type": "code",
   "execution_count": 121,
   "metadata": {
    "collapsed": true
   },
   "outputs": [],
   "source": [
    "SHARPS = ['F', 'C', 'G', 'D', 'A', 'E', 'B']\n",
    "FLATS = ['B', 'E', 'A', 'D', 'G', 'C', 'F']\n",
    "\n",
    "def get_alter_dict(key_fifths):\n",
    "    accidentals_size = abs(key_fifths)\n",
    "    alter_dict = {}\n",
    "    if key_fifths < 0:\n",
    "        alter_value = -1\n",
    "        acc_list = FLATS\n",
    "    else:\n",
    "        alter_value = 1\n",
    "        acc_list = SHARPS\n",
    "    for i in range(accidentals_size):\n",
    "        alter_dict[acc_list[i]] = alter_value\n",
    "    return alter_dict\n",
    "    "
   ]
  },
  {
   "cell_type": "markdown",
   "metadata": {},
   "source": [
    "# ordering notes in staves"
   ]
  },
  {
   "cell_type": "code",
   "execution_count": 122,
   "metadata": {
    "collapsed": true
   },
   "outputs": [],
   "source": [
    "all_staves_dict = {}\n",
    "for i in range(1, number_of_staves + 1):\n",
    "    all_staves_dict[i] = {}"
   ]
  },
  {
   "cell_type": "code",
   "execution_count": 123,
   "metadata": {
    "collapsed": true
   },
   "outputs": [],
   "source": [
    "min_duration = 0\n",
    "if all_notes_dict['sixteens_up'] == {} and all_notes_dict['sixteens_down'] == {}:\n",
    "    if all_notes_dict['eights_up'] == {} and all_notes_dict['eights_down'] == {}:\n",
    "        if all_notes_dict['quarters_up'] == {} and all_notes_dict['quarters_down'] == {}:\n",
    "            if all_notes_dict['halves_up'] == {} and all_notes_dict['halves_down'] == {}:\n",
    "                min_duration = 1\n",
    "            else:\n",
    "                min_duration = 2\n",
    "        else:\n",
    "            min_duration = 4\n",
    "    else:\n",
    "        min_duration = 8\n",
    "else:\n",
    "    min_duration = 16\n",
    "\n",
    "# divisions = number with which we divide a quarter to get the minimum durating note element\n",
    "divisions = min_duration / 4  # koliko treba najmanjih trajanja u kompoziciji da bismo dobili jednu cetvrtinu\n",
    "\n",
    "measure_duration = min_duration / time_beat_type * time_beats"
   ]
  },
  {
   "cell_type": "code",
   "execution_count": 124,
   "metadata": {
    "collapsed": true
   },
   "outputs": [],
   "source": [
    "duration_dict = {'sixteens_up': 16, 'sixteens_down': 16, 'eights_up': 8, 'eights_down': 8, 'quarters_up': 4, 'quarters_down': 4,\n",
    "                 'halves_up': 2, 'halves_down': 2, 'wholes': 1, 'eight_breaks': 8, 'quarter_breaks': 4, 'half_breaks': 2, 'whole_breaks': 1}"
   ]
  },
  {
   "cell_type": "code",
   "execution_count": 125,
   "metadata": {},
   "outputs": [],
   "source": [
    "# returns the xml element type for a recognized musical element\n",
    "get_xml_elem_type = {\n",
    "    'sixteens_up': '16th', 'sixteens_down': '16th', 'eights_up': 'eighth', 'eights_down': 'eighth', 'quarters_up': 'quarter',\n",
    "    'quarters_down': 'quarter', 'halves_up': 'half', 'halves_down': 'half', 'wholes': 'whole', 'eight_breaks': 'eighth', \n",
    "    'quarter_breaks': 'quarter', 'half_breaks': 'half', 'whole_breaks': 'whole'\n",
    "}"
   ]
  },
  {
   "cell_type": "code",
   "execution_count": 126,
   "metadata": {},
   "outputs": [],
   "source": [
    "def stem_should_be_up(pitch, border_tone_letter = 'B', border_tone_octave = '4'):\n",
    "    tone_letter = pitch[0]\n",
    "    tone_octave = pitch[1]\n",
    "    # stem should be up if the tone octave is lower than the one of the border tone OR if the octave is \n",
    "    # the same, but the tone LETTER is smaller (only tone_letter 'A')\n",
    "    return tone_octave < border_tone_octave or (tone_octave == border_tone_octave and tone_letter != border_tone_letter)\n",
    "\n",
    "def get_note_info(note_x, note_y, note_type, pitch):\n",
    "    \n",
    "    ret_dict_info = {} # contains all info about the note\n",
    "    \n",
    "    ret_dict_info['type'] = get_xml_elem_type[note_type]\n",
    "    ret_dict_info['pitch'] = pitch\n",
    "    \n",
    "    # check for accidentals\n",
    "    if all_sharps_dict.has_key(note_x):\n",
    "        ret_dict_info['accidental'] = 'sharp'\n",
    "    elif all_flats_dict.has_key(note_x):\n",
    "        ret_dict_info['accidental'] = 'flat'\n",
    "    elif all_naturals_dict.has_key(note_x):\n",
    "        ret_dict_info['accidental'] = 'natural'\n",
    "    \n",
    "    if note_type.find('up') > -1:\n",
    "        ret_dict_info['stem'] = 'up'\n",
    "    if note_type.find('down') > -1:\n",
    "        ret_dict_info['stem'] = 'down'\n",
    "    \n",
    "    # check stem direction, if there is one\n",
    "    if note_type.find('quarter') > -1 or note_type.find('half') > -1:\n",
    "        if stem_should_be_up(pitch):\n",
    "            ret_dict_info['stem'] = 'up'\n",
    "        else:\n",
    "            ret_dict_info['stem'] = 'down'\n",
    "    \n",
    "    print 'note :', pitch,'set to have a stem:',ret_dict_info['stem']\n",
    "    # if it's an eight, check for beams\n",
    "    if note_type == 'eights_up':\n",
    "        if all_hooks_dict['start'].has_key(note_x):\n",
    "            ret_dict_info['beam'] = 'begin'\n",
    "    if note_type == 'eights_down':\n",
    "        if all_hooks_dict['start'].has_key(note_x):\n",
    "            ret_dict_info['beam'] = 'end'\n",
    "    \n",
    "    # does it have it's duration lengthened by a dot\n",
    "    ret_dict_info['dot'] = note_has_dot(note_x, note_y, note_type)\n",
    "    \n",
    "    \n",
    "    # assign proper duration ;  duration_dict is as follows: 'sixteens_up': 16, 'sixteens_down': 16, 'eights_up': 8, 'eights_down': 8, 'quarters_up': 4, 'quarters_down': 4, 'halves_up': 2, 'halves_down': 2, 'wholes': 1\n",
    "    ret_dict_info['duration'] = min_duration / duration_dict[note_type]\n",
    "    \n",
    "    if ret_dict_info['dot']:\n",
    "        print '- dot found! old duration:', ret_dict_info['duration'],\n",
    "        ret_dict_info['duration'] += ret_dict_info['duration'] / 2\n",
    "        print 'new duration:', ret_dict_info['duration']\n",
    "        \n",
    "    return ret_dict_info"
   ]
  },
  {
   "cell_type": "code",
   "execution_count": 127,
   "metadata": {
    "collapsed": true
   },
   "outputs": [],
   "source": [
    "def get_rest_info(break_x, break_y, break_type):\n",
    "    \n",
    "    ret_dict_info = {} # contains all info about the note\n",
    "    \n",
    "    ret_dict_info['type'] = get_xml_elem_type[break_type]\n",
    "    \n",
    "    ret_dict_info['duration'] = min_duration / duration_dict[break_type]\n",
    "    \n",
    "    return ret_dict_info"
   ]
  },
  {
   "cell_type": "code",
   "execution_count": 128,
   "metadata": {
    "scrolled": true
   },
   "outputs": [
    {
     "name": "stdout",
     "output_type": "stream",
     "text": [
      "   pitch for (x,y) = (1569, 527)  ==> G4\n",
      "   staff number: 1 \n",
      "\n",
      "note : G4 set to have a stem: up\n",
      "   pitch for (x,y) = (2146, 498)  ==> B4\n",
      "   staff number: 1 \n",
      "\n",
      "note : B4 set to have a stem: up\n",
      "   pitch for (x,y) = (1988, 931)  ==> D4\n",
      "   staff number: 2 \n",
      "\n",
      "note : D4 set to have a stem: up\n",
      "   pitch for (x,y) = (966, 871)  ==> D5\n",
      "   staff number: 2 \n",
      "\n",
      "note : D5 set to have a stem: up\n",
      "   pitch for (x,y) = (2045, 930)  ==> D4\n",
      "   staff number: 2 \n",
      "\n",
      "note : D4 set to have a stem: up\n",
      "   pitch for (x,y) = (404, 943)  ==> D4\n",
      "   staff number: 2 \n",
      "\n",
      "note : D4 set to have a stem: up\n",
      "   pitch for (x,y) = (344, 943)  ==> D4\n",
      "   staff number: 2 \n",
      "\n",
      "note : D4 set to have a stem: up\n",
      "   pitch for (x,y) = (925, 532)  ==> G4\n",
      "   staff number: 1 \n",
      "\n",
      "note : G4 set to have a stem: up\n",
      "   pitch for (x,y) = (640, 861)  ==> E5\n",
      "   staff number: 2 \n",
      "\n",
      "note : E5 set to have a stem: up\n",
      "   pitch for (x,y) = (1636, 827)  ==> A5\n",
      "   staff number: 2 \n",
      "\n",
      "note : A5 set to have a stem: up\n",
      "   pitch for (x,y) = (1194, 541)  ==> F4\n",
      "   staff number: 1 \n",
      "\n",
      "note : F4 set to have a stem: up\n",
      "   pitch for (x,y) = (747, 833)  ==> G5\n",
      "   staff number: 2 \n",
      "\n",
      "note : G5 set to have a stem: up\n",
      "   pitch for (x,y) = (1900, 552)  ==> D4\n",
      "   staff number: 1 \n",
      "\n",
      "note : D4 set to have a stem: up\n",
      "   pitch for (x,y) = (1389, 569)  ==> C4\n",
      "   staff number: 1 \n",
      "\n",
      "note : C4 set to have a stem: up\n",
      "   pitch for (x,y) = (689, 542)  ==> F4\n",
      "   staff number: 1 \n",
      "\n",
      "note : F4 set to have a stem: up\n",
      "   pitch for (x,y) = (1747, 855)  ==> E5\n",
      "   staff number: 2 \n",
      "\n",
      "note : E5 set to have a stem: up\n",
      "   pitch for (x,y) = (1110, 572)  ==> C4\n",
      "   staff number: 1 \n",
      "\n",
      "note : C4 set to have a stem: up\n",
      "   pitch for (x,y) = (1816, 534)  ==> F4\n",
      "   staff number: 1 \n",
      "\n",
      "note : F4 set to have a stem: up\n",
      "   pitch for (x,y) = (1306, 539)  ==> F4\n",
      "   staff number: 1 \n",
      "\n",
      "note : F4 set to have a stem: up\n",
      "   pitch for (x,y) = (606, 560)  ==> D4\n",
      "   staff number: 1 \n",
      "\n",
      "note : D4 set to have a stem: up\n",
      "   pitch for (x,y) = (1089, 901)  ==> A4\n",
      "   staff number: 2 \n",
      "\n",
      "note : A4 set to have a stem: up\n",
      "   pitch for (x,y) = (1026, 923)  ==> E4\n",
      "   staff number: 2 \n",
      "\n",
      "note : E4 set to have a stem: up\n",
      "   pitch for (x,y) = (1412, 869)  ==> D5\n",
      "   staff number: 2 \n",
      "\n",
      "note : D5 set to have a stem: down\n",
      "   pitch for (x,y) = (517, 562)  ==> D4\n",
      "   staff number: 1 \n",
      "\n",
      "note : D4 set to have a stem: up\n",
      "   pitch for (x,y) = (2184, 517)  ==> G4\n",
      "   staff number: 1 \n",
      "\n",
      "note : G4 set to have a stem: up\n",
      "   pitch for (x,y) = (1289, 902)  ==> A4\n",
      "   staff number: 2 \n",
      "\n",
      "note : A4 set to have a stem: up\n",
      "   pitch for (x,y) = (1611, 518)  ==> A4\n",
      "   staff number: 1 \n",
      "\n",
      "note : A4 set to have a stem: up\n",
      "   pitch for (x,y) = (269, 901)  ==> A4\n",
      "   staff number: 2 \n",
      "\n",
      "note : A4 set to have a stem: up\n",
      "   pitch for (x,y) = (466, 881)  ==> C5\n",
      "   staff number: 2 \n",
      "\n",
      "note : C5 set to have a stem: down\n",
      "   pitch for (x,y) = (1364, 921)  ==> F4\n",
      "   staff number: 2 \n",
      "\n",
      "note : F4 set to have a stem: up\n",
      "   pitch for (x,y) = (802, 552)  ==> E4\n",
      "   staff number: 1 \n",
      "\n",
      "note : E4 set to have a stem: up\n",
      "   pitch for (x,y) = (1501, 507)  ==> B4\n",
      "   staff number: 1 \n",
      "\n",
      "note : B4 set to have a stem: down\n",
      "   pitch for (x,y) = (415, 512)  ==> B4\n",
      "   staff number: 1 \n",
      "\n",
      "note : B4 set to have a stem: down\n",
      "   pitch for (x,y) = (962, 512)  ==> B4\n",
      "   staff number: 1 \n",
      "\n",
      "note : B4 set to have a stem: down\n",
      "   pitch for (x,y) = (290, 532)  ==> G4\n",
      "   staff number: 1 \n",
      "\n",
      "note : G4 set to have a stem: up\n",
      "   pitch for (x,y) = (2086, 560)  ==> C4\n",
      "   staff number: 1 \n",
      "\n",
      "note : C4 set to have a stem: up\n",
      "   pitch for (x,y) = (2028, 551)  ==> D4\n",
      "   staff number: 1 \n",
      "\n",
      "note : D4 set to have a stem: up\n",
      "   pitch for (x,y) = (1901, 872)  ==> C5\n",
      "   staff number: 2 \n",
      "\n",
      "note : C5 set to have a stem: down\n",
      "   pitch for (x,y) = (456, 571)  ==> C4\n",
      "   staff number: 1 \n",
      "\n",
      "note : C4 set to have a stem: up\n",
      "   pitch for (x,y) = (1459, 888)  ==> B4\n",
      "   staff number: 2 \n",
      "\n",
      "note : B4 set to have a stem: down\n",
      "   pitch for (x,y) = (884, 892)  ==> B4\n",
      "   staff number: 2 \n",
      "\n",
      "note : B4 set to have a stem: down\n",
      "   pitch for (x,y) = (1654, 546)  ==> E4\n",
      "   staff number: 1 \n",
      "\n",
      "note : E4 set to have a stem: up\n",
      "   pitch for (x,y) = (863, 520)  ==> A4\n",
      "   staff number: 1 \n",
      "\n",
      "note : A4 set to have a stem: up\n",
      "   pitch for (x,y) = (2107, 892)  ==> A4\n",
      "   staff number: 2 \n",
      "\n",
      "note : A4 set to have a stem: up\n"
     ]
    },
    {
     "ename": "IndexError",
     "evalue": "list index out of range",
     "output_type": "error",
     "traceback": [
      "\u001b[1;31m---------------------------------------------------------------------------\u001b[0m",
      "\u001b[1;31mIndexError\u001b[0m                                Traceback (most recent call last)",
      "\u001b[1;32m<ipython-input-128-238c76c1f67e>\u001b[0m in \u001b[0;36m<module>\u001b[1;34m()\u001b[0m\n\u001b[0;32m      4\u001b[0m \u001b[1;32mfor\u001b[0m \u001b[0mnotes_dict_name\u001b[0m \u001b[1;32min\u001b[0m \u001b[0mall_notes_dict\u001b[0m\u001b[1;33m.\u001b[0m\u001b[0mkeys\u001b[0m\u001b[1;33m(\u001b[0m\u001b[1;33m)\u001b[0m\u001b[1;33m:\u001b[0m\u001b[1;33m\u001b[0m\u001b[0m\n\u001b[0;32m      5\u001b[0m     \u001b[1;32mfor\u001b[0m \u001b[0mnote_x\u001b[0m\u001b[1;33m,\u001b[0m \u001b[0mnote_y\u001b[0m \u001b[1;32min\u001b[0m \u001b[0mall_notes_dict\u001b[0m\u001b[1;33m[\u001b[0m\u001b[0mnotes_dict_name\u001b[0m\u001b[1;33m]\u001b[0m\u001b[1;33m.\u001b[0m\u001b[0mitems\u001b[0m\u001b[1;33m(\u001b[0m\u001b[1;33m)\u001b[0m\u001b[1;33m:\u001b[0m\u001b[1;33m\u001b[0m\u001b[0m\n\u001b[1;32m----> 6\u001b[1;33m         \u001b[0mstaff_number\u001b[0m\u001b[1;33m,\u001b[0m \u001b[0mpitch\u001b[0m \u001b[1;33m=\u001b[0m \u001b[0mget_staff_and_pitch\u001b[0m\u001b[1;33m(\u001b[0m\u001b[0mnote_x\u001b[0m\u001b[1;33m,\u001b[0m \u001b[0mnote_y\u001b[0m \u001b[1;33m+\u001b[0m \u001b[0mfull_head_template_h\u001b[0m \u001b[1;33m/\u001b[0m \u001b[1;36m2\u001b[0m\u001b[1;33m,\u001b[0m \u001b[0mstaves_x_locations\u001b[0m\u001b[1;33m)\u001b[0m  \u001b[1;31m# staff numbers start at 1\u001b[0m\u001b[1;33m\u001b[0m\u001b[0m\n\u001b[0m\u001b[0;32m      7\u001b[0m         \u001b[0mall_staves_dict\u001b[0m\u001b[1;33m[\u001b[0m\u001b[0mstaff_number\u001b[0m\u001b[1;33m]\u001b[0m\u001b[1;33m[\u001b[0m\u001b[1;33m(\u001b[0m\u001b[0mnote_x\u001b[0m\u001b[1;33m,\u001b[0m \u001b[0mnote_y\u001b[0m\u001b[1;33m)\u001b[0m\u001b[1;33m]\u001b[0m \u001b[1;33m=\u001b[0m \u001b[0mget_note_info\u001b[0m\u001b[1;33m(\u001b[0m\u001b[0mnote_x\u001b[0m\u001b[1;33m,\u001b[0m \u001b[0mnote_y\u001b[0m\u001b[1;33m,\u001b[0m \u001b[0mnotes_dict_name\u001b[0m\u001b[1;33m,\u001b[0m \u001b[0mpitch\u001b[0m\u001b[1;33m)\u001b[0m\u001b[1;33m\u001b[0m\u001b[0m\n\u001b[0;32m      8\u001b[0m \u001b[1;33m\u001b[0m\u001b[0m\n",
      "\u001b[1;32m<ipython-input-19-b352c9905947>\u001b[0m in \u001b[0;36mget_staff_and_pitch\u001b[1;34m(symbol_X, symbol_Y, staff_locations_by_x, clef)\u001b[0m\n\u001b[0;32m      5\u001b[0m     \u001b[0mstaff_locations\u001b[0m \u001b[1;33m=\u001b[0m \u001b[0mget_closest_staff_locations_to_x\u001b[0m\u001b[1;33m(\u001b[0m\u001b[0mstaff_locations_by_x\u001b[0m\u001b[1;33m,\u001b[0m \u001b[0msymbol_X\u001b[0m\u001b[1;33m)\u001b[0m\u001b[1;33m\u001b[0m\u001b[0m\n\u001b[0;32m      6\u001b[0m \u001b[1;33m\u001b[0m\u001b[0m\n\u001b[1;32m----> 7\u001b[1;33m     \u001b[0mstaff\u001b[0m \u001b[1;33m=\u001b[0m \u001b[0mget_staff\u001b[0m\u001b[1;33m(\u001b[0m\u001b[0msymbol_Y\u001b[0m\u001b[1;33m,\u001b[0m \u001b[0mstaff_locations\u001b[0m\u001b[1;33m)\u001b[0m\u001b[1;33m\u001b[0m\u001b[0m\n\u001b[0m\u001b[0;32m      8\u001b[0m     \u001b[0mstaff_number\u001b[0m \u001b[1;33m=\u001b[0m \u001b[0mstaff\u001b[0m\u001b[1;33m[\u001b[0m\u001b[1;36m0\u001b[0m\u001b[1;33m]\u001b[0m \u001b[1;31m# first tuple element is staff's number (1,2,3...)\u001b[0m\u001b[1;33m\u001b[0m\u001b[0m\n\u001b[0;32m      9\u001b[0m \u001b[1;33m\u001b[0m\u001b[0m\n",
      "\u001b[1;32m<ipython-input-17-dafc602fe04f>\u001b[0m in \u001b[0;36mget_staff\u001b[1;34m(symbol_y_coordinate, staff_locations, return_staff_key)\u001b[0m\n\u001b[0;32m     24\u001b[0m     \u001b[1;31m# and choose only ones that are above the symbol's y-coordinate (i.e. their y-coordinate is a smaller number)\u001b[0m\u001b[1;33m\u001b[0m\u001b[1;33m\u001b[0m\u001b[0m\n\u001b[0;32m     25\u001b[0m     \u001b[0mcandidates\u001b[0m \u001b[1;33m=\u001b[0m \u001b[1;33m[\u001b[0m\u001b[0mstaff_key\u001b[0m \u001b[1;32mfor\u001b[0m \u001b[0mstaff_key\u001b[0m \u001b[1;32min\u001b[0m \u001b[0msorted_staff_locations_keys\u001b[0m \u001b[1;32mif\u001b[0m \u001b[1;33m(\u001b[0m\u001b[0mstaff_key\u001b[0m \u001b[1;33m<=\u001b[0m \u001b[0msymbol_y_coordinate\u001b[0m\u001b[1;33m)\u001b[0m\u001b[1;33m]\u001b[0m\u001b[1;33m\u001b[0m\u001b[0m\n\u001b[1;32m---> 26\u001b[1;33m     \u001b[0mchosen_staff_key\u001b[0m \u001b[1;33m=\u001b[0m \u001b[0mcandidates\u001b[0m\u001b[1;33m[\u001b[0m\u001b[0mlen\u001b[0m\u001b[1;33m(\u001b[0m\u001b[0mcandidates\u001b[0m\u001b[1;33m)\u001b[0m \u001b[1;33m-\u001b[0m \u001b[1;36m1\u001b[0m\u001b[1;33m]\u001b[0m\u001b[1;33m\u001b[0m\u001b[0m\n\u001b[0m\u001b[0;32m     27\u001b[0m \u001b[1;33m\u001b[0m\u001b[0m\n\u001b[0;32m     28\u001b[0m     \u001b[1;31m# check that the symbol is valid, i.e. not lower than the chones staff's height\u001b[0m\u001b[1;33m\u001b[0m\u001b[1;33m\u001b[0m\u001b[0m\n",
      "\u001b[1;31mIndexError\u001b[0m: list index out of range"
     ]
    }
   ],
   "source": [
    "# iterate trough all dictionaries of notes and breaks\n",
    "\n",
    "# # for each dictionary of notes\n",
    "for notes_dict_name in all_notes_dict.keys():\n",
    "    for note_x, note_y in all_notes_dict[notes_dict_name].items():\n",
    "        staff_number, pitch = get_staff_and_pitch(note_x, note_y + full_head_template_h / 2, staves_x_locations)  # staff numbers start at 1\n",
    "        all_staves_dict[staff_number][(note_x, note_y)] = get_note_info(note_x, note_y, notes_dict_name, pitch)\n",
    "        \n",
    "\n",
    "for breaks_dict_name in all_breaks_dict.keys():\n",
    "    for break_x, break_y in all_breaks_dict[breaks_dict_name].items():\n",
    "        staff_locations = get_closest_staff_locations_to_x(staves_x_locations, break_x)\n",
    "        staff_number = get_staff(break_y, staff_locations)[0]\n",
    "        all_staves_dict[staff_number][(break_x, break_y)] = get_rest_info(break_x, break_y, breaks_dict_name)"
   ]
  },
  {
   "cell_type": "code",
   "execution_count": null,
   "metadata": {},
   "outputs": [],
   "source": [
    "print len(all_breaks_dict)"
   ]
  },
  {
   "cell_type": "markdown",
   "metadata": {
    "collapsed": true
   },
   "source": [
    "# ended notes ordering and moving staves"
   ]
  },
  {
   "cell_type": "markdown",
   "metadata": {},
   "source": [
    "# Generate MusicXML"
   ]
  },
  {
   "cell_type": "code",
   "execution_count": null,
   "metadata": {},
   "outputs": [],
   "source": [
    "filename = get_image_name() # 'bolujem' is default\n",
    "f = open(RESULTS_PATH + '/' + filename + '.xml', 'w')\n",
    "xml_string = ''"
   ]
  },
  {
   "cell_type": "code",
   "execution_count": null,
   "metadata": {
    "collapsed": true
   },
   "outputs": [],
   "source": [
    "def finish_broken_measure(measure_duration, measure_duration_sum):\n",
    "    '''Returns a string representing a portion of xml which contains a break necessary to fill up the measure'''\n",
    "    remaining_duration = measure_duration - measure_duration_sum\n",
    "    \n",
    "    break_type = 'quarter'  # default is quarter break\n",
    "    for k, v in duration_dict.items():\n",
    "        if v == remaining_duration:\n",
    "            break_type = get_xml_elem_type[k]\n",
    "    \n",
    "    xml_string = '''<note>'''\n",
    "    xml_string += '''<rest/><duration>''' + remaining_duration + '''</duration><voice>1</voice><type>''' + break_type + '''</type>'''\n",
    "    xml_string += '''</note>'''\n",
    "    xml_string += '''</measure>'''\n",
    "    return xml_string"
   ]
  },
  {
   "cell_type": "code",
   "execution_count": null,
   "metadata": {},
   "outputs": [],
   "source": [
    "# write initial data\n",
    "xml_string += '''<?xml version=\"1.0\" encoding=\"UTF-8\"?>\n",
    "<!DOCTYPE score-partwise PUBLIC \"-//Recordare//DTD MusicXML 3.0 Partwise//EN\" \"http://www.musicxml.org/dtds/partwise.dtd\">\n",
    "<score-partwise>\n",
    "  <identification>\n",
    "    <encoding>\n",
    "      <software>MuseScore 2.1.0</software>\n",
    "      <encoding-date>2018-02-18</encoding-date>\n",
    "      <supports element=\"accidental\" type=\"yes\"/>\n",
    "      <supports element=\"beam\" type=\"yes\"/>\n",
    "      <supports element=\"print\" attribute=\"new-page\" type=\"yes\" value=\"yes\"/>\n",
    "      <supports element=\"print\" attribute=\"new-system\" type=\"yes\" value=\"yes\"/>\n",
    "      <supports element=\"stem\" type=\"yes\"/>\n",
    "      </encoding>\n",
    "    </identification>\n",
    "  <defaults>\n",
    "    <scaling>\n",
    "      <millimeters>7.056</millimeters>\n",
    "      <tenths>40</tenths>\n",
    "      </scaling>\n",
    "    <page-layout>\n",
    "      <page-height>1683.67</page-height>\n",
    "      <page-width>1190.48</page-width>\n",
    "      <page-margins type=\"even\">\n",
    "        <left-margin>56.6893</left-margin>\n",
    "        <right-margin>56.6893</right-margin>\n",
    "        <top-margin>56.6893</top-margin>\n",
    "        <bottom-margin>13.379</bottom-margin>\n",
    "        </page-margins>\n",
    "      <page-margins type=\"odd\">\n",
    "        <left-margin>56.6893</left-margin>\n",
    "        <right-margin>56.6893</right-margin>\n",
    "        <top-margin>56.6893</top-margin>\n",
    "        <bottom-margin>13.379</bottom-margin>\n",
    "        </page-margins>\n",
    "      </page-layout>\n",
    "    <word-font font-family=\"FreeSerif\" font-size=\"10\"/>\n",
    "    <lyric-font font-family=\"FreeSerif\" font-size=\"11\"/>\n",
    "    </defaults>\n",
    "  <credit page=\"1\">\n",
    "    <credit-words default-x=\"595.238\" default-y=\"1626.98\" justify=\"center\" valign=\"top\" font-size=\"24\">''' + filename + '''\n",
    "    </credit-words>\n",
    "    </credit>\n",
    "  <credit page=\"1\">\n",
    "    <credit-words default-x=\"1167.31\" default-y=\"1427.31\" justify=\"right\" valign=\"bottom\" font-size=\"12\">Цезар Брезген</credit-words>\n",
    "    </credit>\n",
    "  <part-list>\n",
    "    <score-part id=\"P1\">\n",
    "      <part-name>Voice</part-name>\n",
    "      <part-abbreviation>Vo.</part-abbreviation>\n",
    "      <score-instrument id=\"P1-I1\">\n",
    "        <instrument-name>Voice</instrument-name>\n",
    "        </score-instrument>\n",
    "      <midi-device id=\"P1-I1\" port=\"1\"></midi-device>\n",
    "      <midi-instrument id=\"P1-I1\">\n",
    "        <midi-channel>1</midi-channel>\n",
    "        <midi-program>53</midi-program>\n",
    "        <volume>78.7402</volume>\n",
    "        <pan>0</pan>\n",
    "        </midi-instrument>\n",
    "      </score-part>\n",
    "    </part-list>\n",
    "  <part id=\"P1\">'''\n",
    "\n",
    "first_measure_str = '''<print>\n",
    "        <system-layout>\n",
    "          <system-margins>\n",
    "            <left-margin>-0.00</left-margin>\n",
    "            <right-margin>-0.00</right-margin>\n",
    "            </system-margins>\n",
    "          <top-system-distance>170.00</top-system-distance>\n",
    "          </system-layout>\n",
    "        </print>\n",
    "      <attributes>\n",
    "      <divisions>''' + str(divisions) + '''</divisions>\n",
    "        <key>\n",
    "          <fifths>''' + str(key_fifths) + '''</fifths>\n",
    "          </key>\n",
    "        <time>\n",
    "          <beats>''' + str(time_beats) + '''</beats>\n",
    "          <beat-type>''' + str(time_beat_type) + '''</beat-type>\n",
    "          </time>\n",
    "        <clef>\n",
    "          <sign>G</sign>\n",
    "          <line>2</line>\n",
    "          </clef>\n",
    "        </attributes>'''"
   ]
  },
  {
   "cell_type": "code",
   "execution_count": null,
   "metadata": {},
   "outputs": [],
   "source": [
    "# sort all symbols in each stave\n",
    "all_staves_dict_copy = all_staves_dict.copy()\n",
    "measure_number = 1  # next measure number is 2 because we already added measure number 1 in the starting XML\n",
    "\n",
    "# dictionary of pitches that will be altered {'F': 1, 'C': 1}\n",
    "alter_dict = get_alter_dict(key_fifths)\n",
    "\n",
    "measure_ended = False\n",
    "new_stave = False\n",
    "for stave_symbols_dict in all_staves_dict_copy.values():\n",
    "    new_stave = True\n",
    "    if (measure_number == 1):\n",
    "        xml_string += '''<measure number=\"'''+ str(measure_number) +'''\" width=\"291.90\">'''\n",
    "        xml_string += first_measure_str\n",
    "    stave_keys = stave_symbols_dict.keys()\n",
    "    stave_keys.sort()  # sort symbols by x coordinate\n",
    "    print stave_keys\n",
    "    # we have sorted all elements in the current stave\n",
    "    # now... WE SHALL PROCEED WITH THE GENERATING PROCESS!!!\n",
    "    # create measure with notes\n",
    "    measure_duration_sum = 0  # create new one when this number exceeds\n",
    "    beam_counter = 1\n",
    "    for music_symbol_key in stave_keys:\n",
    "        if (measure_ended):\n",
    "            measure_ended = False\n",
    "            xml_string += '''<measure number=\"'''+ str(measure_number) +'''\" width=\"291.90\">'''\n",
    "        \n",
    "        # declare the beginning or the new stave\n",
    "        if new_stave:\n",
    "            xml_string += '''<print new-system=\"yes\">\n",
    "                                <system-layout>\n",
    "                                  <system-margins>\n",
    "                                    <left-margin>-0.00</left-margin>\n",
    "                                    <right-margin>0.00</right-margin>\n",
    "                                    </system-margins>\n",
    "                                  <system-distance>150.00</system-distance>\n",
    "                                  </system-layout>\n",
    "                                </print>'''\n",
    "            new_stave = False\n",
    "        music_symbol_val = stave_symbols_dict[music_symbol_key]\n",
    "        \n",
    "        xml_string += '''<note default-x=\"102.27\" default-y=\"-25.00\">'''\n",
    "        if music_symbol_val.has_key('pitch'):\n",
    "            note_name = music_symbol_val['pitch'][0]\n",
    "            alter_value = alter_dict.get(note_name)\n",
    "            xml_string += '''<pitch>''' + '''<step>''' + note_name + '''</step>'''\n",
    "            if (alter_value is not None):\n",
    "                xml_string += '''<alter>''' + str(alter_value) + '''</alter>'''\n",
    "            xml_string += '''<octave>''' + music_symbol_val['pitch'][1] + '''</octave></pitch>'''\n",
    "        else:\n",
    "            xml_string += '''<rest/>'''\n",
    "        \n",
    "        xml_string += '''<duration>''' + str(music_symbol_val['duration']) + '''</duration><voice>1</voice>\n",
    "        <type>''' + music_symbol_val['type'] + '''</type>'''\n",
    "        \n",
    "        if music_symbol_val.has_key('pitch'):\n",
    "            if music_symbol_val['dot']:\n",
    "                xml_string += '''<dot/>'''\n",
    "            if music_symbol_val.has_key('accidental'):\n",
    "                xml_string += '''<accidental>''' + music_symbol_val['accidental'] + '''</accidental>'''\n",
    "            xml_string += '''<stem>''' + music_symbol_val['stem'] + '''</stem>'''\n",
    "        if music_symbol_val.has_key('beam'):\n",
    "            xml_string += '''<beam number=\"''' + str(beam_counter) + '''\">''' + music_symbol_val['stem'] + '''</beam>'''\n",
    "            beam_counter += 1\n",
    "        \n",
    "        xml_string += '''</note>'''\n",
    "        \n",
    "        measure_duration_sum += music_symbol_val['duration']\n",
    "        # check if we should end this measure\n",
    "        if measure_duration_sum == measure_duration:\n",
    "            beam_counter = 1\n",
    "            measure_number += 1\n",
    "            measure_duration_sum = 0\n",
    "            measure_ended = True\n",
    "            xml_string += '''</measure>'''\n",
    "    \n",
    "    if measure_duration_sum != 0:  # if measure did not end properly\n",
    "        print 'measure not properly ended'\n",
    "        # add a break to fill the measure up to a desired duration\n",
    "        xml_string += finish_broken_measure(measure_duration, measure_duration_sum)\n",
    "        \n",
    "# if we didn't count the durations well, measure is not ended\n",
    "# if not(measure_ended):\n",
    "#     xml_string += '''</measure>'''\n",
    "xml_string += '''</part></score-partwise>'''"
   ]
  },
  {
   "cell_type": "markdown",
   "metadata": {},
   "source": [
    "# Write XML to file"
   ]
  },
  {
   "cell_type": "code",
   "execution_count": null,
   "metadata": {
    "collapsed": true
   },
   "outputs": [],
   "source": [
    "f.writelines(xml_string)\n",
    "f.flush()\n",
    "f.close()"
   ]
  },
  {
   "cell_type": "code",
   "execution_count": null,
   "metadata": {},
   "outputs": [],
   "source": [
    "a = {2:3, 5:7}\n",
    "print a.get(2) is not None"
   ]
  },
  {
   "cell_type": "code",
   "execution_count": null,
   "metadata": {
    "scrolled": true
   },
   "outputs": [],
   "source": [
    "plt.imshow(img_no_heads_no_stems_plot)"
   ]
  },
  {
   "cell_type": "code",
   "execution_count": null,
   "metadata": {},
   "outputs": [],
   "source": [
    "for a in all_staves_dict_copy.values():\n",
    "    a_sorted = a.keys()\n",
    "    a_sorted.sort()\n",
    "    for k, v in a_sorted:\n",
    "        print a[(k,v)]\n",
    "        print"
   ]
  },
  {
   "cell_type": "code",
   "execution_count": null,
   "metadata": {
    "collapsed": true
   },
   "outputs": [],
   "source": []
  }
 ],
 "metadata": {
  "kernelspec": {
   "display_name": "Python 2",
   "language": "python",
   "name": "python2"
  },
  "language_info": {
   "codemirror_mode": {
    "name": "ipython",
    "version": 2
   },
   "file_extension": ".py",
   "mimetype": "text/x-python",
   "name": "python",
   "nbconvert_exporter": "python",
   "pygments_lexer": "ipython2",
   "version": "2.7.14"
  }
 },
 "nbformat": 4,
 "nbformat_minor": 2
}
